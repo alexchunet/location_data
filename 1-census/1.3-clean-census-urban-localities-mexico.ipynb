{
 "cells": [
  {
   "cell_type": "code",
   "execution_count": 1,
   "metadata": {},
   "outputs": [],
   "source": [
    "from timeit import default_timer as timer\n",
    "import geopandas as gpd\n",
    "import pandas as pd\n",
    "from shapely.geometry import MultiPolygon, Polygon\n",
    "import matplotlib.pyplot as plt"
   ]
  },
  {
   "cell_type": "markdown",
   "metadata": {},
   "source": [
    "# Clean Shapes from Census"
   ]
  },
  {
   "cell_type": "code",
   "execution_count": 2,
   "metadata": {},
   "outputs": [],
   "source": [
    "path_to_data = '/scratch/spf248/cuebiq/data/'"
   ]
  },
  {
   "cell_type": "code",
   "execution_count": 3,
   "metadata": {},
   "outputs": [
    {
     "name": "stdout",
     "output_type": "stream",
     "text": [
      "Import Shapes from Census\n",
      "# AGEB: 56193\n",
      "# Urban: 4525\n",
      "# Municipalities: 2456\n",
      "Computing Time: 20 sec\n"
     ]
    }
   ],
   "source": [
    "print('Import Shapes from Census')\n",
    "start = timer()\n",
    "\n",
    "ageb  = gpd.read_file(path_to_data+'INEGI/All_AgebUrbana.shp')\n",
    "urban = gpd.read_file(path_to_data+'INEGI/loc_urb.shp')\n",
    "munic = gpd.read_file(path_to_data+'INEGI/MunicipalALL.shp')\n",
    "print('# AGEB:', ageb.shape[0])\n",
    "print('# Urban:', urban.shape[0])\n",
    "print('# Municipalities:', munic.shape[0])\n",
    "\n",
    "end = timer()\n",
    "print('Computing Time:', round(end - start), 'sec')"
   ]
  },
  {
   "cell_type": "code",
   "execution_count": 4,
   "metadata": {},
   "outputs": [
    {
     "name": "stdout",
     "output_type": "stream",
     "text": [
      "Construct Missing Indices\n"
     ]
    }
   ],
   "source": [
    "print('Construct Missing Indices')\n",
    "\n",
    "ageb['URBAN']  = ageb['CVEGEO'].apply(lambda x:x[:9])\n",
    "ageb['MUNIC']  = ageb['URBAN'].apply(lambda x:x[:5])\n",
    "urban['MUNIC'] = urban['CVEGEO'].apply(lambda x:x[:5])"
   ]
  },
  {
   "cell_type": "code",
   "execution_count": 5,
   "metadata": {},
   "outputs": [
    {
     "name": "stdout",
     "output_type": "stream",
     "text": [
      "Select Fields\n"
     ]
    }
   ],
   "source": [
    "print('Select Fields')\n",
    "\n",
    "ageb = ageb.rename(columns={'CVEGEO':'AGEB'})[\n",
    "['AGEB','URBAN','MUNIC','POB1','geometry']].sort_values(\n",
    "by=['AGEB']).reset_index(drop=True)\n",
    "\n",
    "urban = urban.rename(columns={'CVEGEO':'URBAN'})[\n",
    "['URBAN','MUNIC','POB1','geometry']].sort_values(\n",
    "by=['URBAN']).reset_index(drop=True)\n",
    "\n",
    "munic = munic.rename(columns={'CVEGEO':'MUNIC'})[\n",
    "['MUNIC','POB1','geometry']].sort_values(\n",
    "by=['MUNIC']).reset_index(drop=True)"
   ]
  },
  {
   "cell_type": "code",
   "execution_count": 6,
   "metadata": {},
   "outputs": [
    {
     "name": "stdout",
     "output_type": "stream",
     "text": [
      "Reproject\n",
      "Computing Time: 17 sec\n"
     ]
    }
   ],
   "source": [
    "print('Reproject')\n",
    "start = timer()\n",
    "\n",
    "ageb  = ageb.to_crs({'init': 'epsg:4326'})\n",
    "urban = urban.to_crs({'init': 'epsg:4326'})\n",
    "munic = munic.to_crs({'init': 'epsg:4326'})\n",
    "    \n",
    "end = timer()\n",
    "print('Computing Time:', round(end - start), 'sec')"
   ]
  },
  {
   "cell_type": "code",
   "execution_count": 7,
   "metadata": {},
   "outputs": [
    {
     "data": {
      "text/html": [
       "<div>\n",
       "<style scoped>\n",
       "    .dataframe tbody tr th:only-of-type {\n",
       "        vertical-align: middle;\n",
       "    }\n",
       "\n",
       "    .dataframe tbody tr th {\n",
       "        vertical-align: top;\n",
       "    }\n",
       "\n",
       "    .dataframe thead th {\n",
       "        text-align: right;\n",
       "    }\n",
       "</style>\n",
       "<table border=\"1\" class=\"dataframe\">\n",
       "  <thead>\n",
       "    <tr style=\"text-align: right;\">\n",
       "      <th></th>\n",
       "      <th>AGEB</th>\n",
       "      <th>URBAN</th>\n",
       "      <th>MUNIC</th>\n",
       "      <th>POB1</th>\n",
       "      <th>geometry</th>\n",
       "    </tr>\n",
       "  </thead>\n",
       "  <tbody>\n",
       "    <tr>\n",
       "      <th>0</th>\n",
       "      <td>0100100010229</td>\n",
       "      <td>010010001</td>\n",
       "      <td>01001</td>\n",
       "      <td>410</td>\n",
       "      <td>POLYGON ((-102.2885777580495 21.9153055094001,...</td>\n",
       "    </tr>\n",
       "    <tr>\n",
       "      <th>1</th>\n",
       "      <td>0100100010233</td>\n",
       "      <td>010010001</td>\n",
       "      <td>01001</td>\n",
       "      <td>1536</td>\n",
       "      <td>POLYGON ((-102.3162645135593 21.90085823327757...</td>\n",
       "    </tr>\n",
       "    <tr>\n",
       "      <th>2</th>\n",
       "      <td>0100100010286</td>\n",
       "      <td>010010001</td>\n",
       "      <td>01001</td>\n",
       "      <td>3469</td>\n",
       "      <td>POLYGON ((-102.3113775216922 21.89569800321321...</td>\n",
       "    </tr>\n",
       "    <tr>\n",
       "      <th>3</th>\n",
       "      <td>0100100010290</td>\n",
       "      <td>010010001</td>\n",
       "      <td>01001</td>\n",
       "      <td>1884</td>\n",
       "      <td>POLYGON ((-102.3076977169922 21.90291905361812...</td>\n",
       "    </tr>\n",
       "    <tr>\n",
       "      <th>4</th>\n",
       "      <td>0100100010303</td>\n",
       "      <td>010010001</td>\n",
       "      <td>01001</td>\n",
       "      <td>2397</td>\n",
       "      <td>POLYGON ((-102.3021637183488 21.90316540327243...</td>\n",
       "    </tr>\n",
       "  </tbody>\n",
       "</table>\n",
       "</div>"
      ],
      "text/plain": [
       "            AGEB      URBAN  MUNIC  POB1  \\\n",
       "0  0100100010229  010010001  01001   410   \n",
       "1  0100100010233  010010001  01001  1536   \n",
       "2  0100100010286  010010001  01001  3469   \n",
       "3  0100100010290  010010001  01001  1884   \n",
       "4  0100100010303  010010001  01001  2397   \n",
       "\n",
       "                                            geometry  \n",
       "0  POLYGON ((-102.2885777580495 21.9153055094001,...  \n",
       "1  POLYGON ((-102.3162645135593 21.90085823327757...  \n",
       "2  POLYGON ((-102.3113775216922 21.89569800321321...  \n",
       "3  POLYGON ((-102.3076977169922 21.90291905361812...  \n",
       "4  POLYGON ((-102.3021637183488 21.90316540327243...  "
      ]
     },
     "execution_count": 7,
     "metadata": {},
     "output_type": "execute_result"
    }
   ],
   "source": [
    "ageb.head()"
   ]
  },
  {
   "cell_type": "code",
   "execution_count": 8,
   "metadata": {},
   "outputs": [
    {
     "data": {
      "text/html": [
       "<div>\n",
       "<style scoped>\n",
       "    .dataframe tbody tr th:only-of-type {\n",
       "        vertical-align: middle;\n",
       "    }\n",
       "\n",
       "    .dataframe tbody tr th {\n",
       "        vertical-align: top;\n",
       "    }\n",
       "\n",
       "    .dataframe thead th {\n",
       "        text-align: right;\n",
       "    }\n",
       "</style>\n",
       "<table border=\"1\" class=\"dataframe\">\n",
       "  <thead>\n",
       "    <tr style=\"text-align: right;\">\n",
       "      <th></th>\n",
       "      <th>URBAN</th>\n",
       "      <th>MUNIC</th>\n",
       "      <th>POB1</th>\n",
       "      <th>geometry</th>\n",
       "    </tr>\n",
       "  </thead>\n",
       "  <tbody>\n",
       "    <tr>\n",
       "      <th>0</th>\n",
       "      <td>010010001</td>\n",
       "      <td>01001</td>\n",
       "      <td>722250.0</td>\n",
       "      <td>POLYGON ((-102.3353776412602 21.86892213398376...</td>\n",
       "    </tr>\n",
       "    <tr>\n",
       "      <th>1</th>\n",
       "      <td>010010239</td>\n",
       "      <td>01001</td>\n",
       "      <td>2500.0</td>\n",
       "      <td>POLYGON ((-102.2104116126208 21.99468918697104...</td>\n",
       "    </tr>\n",
       "    <tr>\n",
       "      <th>2</th>\n",
       "      <td>010010293</td>\n",
       "      <td>01001</td>\n",
       "      <td>3741.0</td>\n",
       "      <td>POLYGON ((-102.217203772935 21.88645149779224,...</td>\n",
       "    </tr>\n",
       "    <tr>\n",
       "      <th>3</th>\n",
       "      <td>010010357</td>\n",
       "      <td>01001</td>\n",
       "      <td>2539.0</td>\n",
       "      <td>POLYGON ((-102.2093729167311 21.85986322581674...</td>\n",
       "    </tr>\n",
       "    <tr>\n",
       "      <th>4</th>\n",
       "      <td>010010479</td>\n",
       "      <td>01001</td>\n",
       "      <td>4481.0</td>\n",
       "      <td>POLYGON ((-102.1909369102023 21.83651879627228...</td>\n",
       "    </tr>\n",
       "  </tbody>\n",
       "</table>\n",
       "</div>"
      ],
      "text/plain": [
       "       URBAN  MUNIC      POB1  \\\n",
       "0  010010001  01001  722250.0   \n",
       "1  010010239  01001    2500.0   \n",
       "2  010010293  01001    3741.0   \n",
       "3  010010357  01001    2539.0   \n",
       "4  010010479  01001    4481.0   \n",
       "\n",
       "                                            geometry  \n",
       "0  POLYGON ((-102.3353776412602 21.86892213398376...  \n",
       "1  POLYGON ((-102.2104116126208 21.99468918697104...  \n",
       "2  POLYGON ((-102.217203772935 21.88645149779224,...  \n",
       "3  POLYGON ((-102.2093729167311 21.85986322581674...  \n",
       "4  POLYGON ((-102.1909369102023 21.83651879627228...  "
      ]
     },
     "execution_count": 8,
     "metadata": {},
     "output_type": "execute_result"
    }
   ],
   "source": [
    "urban.head()"
   ]
  },
  {
   "cell_type": "code",
   "execution_count": 9,
   "metadata": {},
   "outputs": [
    {
     "data": {
      "text/html": [
       "<div>\n",
       "<style scoped>\n",
       "    .dataframe tbody tr th:only-of-type {\n",
       "        vertical-align: middle;\n",
       "    }\n",
       "\n",
       "    .dataframe tbody tr th {\n",
       "        vertical-align: top;\n",
       "    }\n",
       "\n",
       "    .dataframe thead th {\n",
       "        text-align: right;\n",
       "    }\n",
       "</style>\n",
       "<table border=\"1\" class=\"dataframe\">\n",
       "  <thead>\n",
       "    <tr style=\"text-align: right;\">\n",
       "      <th></th>\n",
       "      <th>MUNIC</th>\n",
       "      <th>POB1</th>\n",
       "      <th>geometry</th>\n",
       "    </tr>\n",
       "  </thead>\n",
       "  <tbody>\n",
       "    <tr>\n",
       "      <th>0</th>\n",
       "      <td>01001</td>\n",
       "      <td>797010</td>\n",
       "      <td>POLYGON ((-102.1064122399267 22.06035441303033...</td>\n",
       "    </tr>\n",
       "    <tr>\n",
       "      <th>1</th>\n",
       "      <td>01002</td>\n",
       "      <td>45492</td>\n",
       "      <td>POLYGON ((-102.051893439036 22.29143529350414,...</td>\n",
       "    </tr>\n",
       "    <tr>\n",
       "      <th>2</th>\n",
       "      <td>01003</td>\n",
       "      <td>54136</td>\n",
       "      <td>POLYGON ((-102.6856884472506 22.09962730886251...</td>\n",
       "    </tr>\n",
       "    <tr>\n",
       "      <th>3</th>\n",
       "      <td>01004</td>\n",
       "      <td>15042</td>\n",
       "      <td>POLYGON ((-102.287865181776 22.41649003941679,...</td>\n",
       "    </tr>\n",
       "    <tr>\n",
       "      <th>4</th>\n",
       "      <td>01005</td>\n",
       "      <td>99590</td>\n",
       "      <td>POLYGON ((-102.3356775711372 22.05066521496391...</td>\n",
       "    </tr>\n",
       "  </tbody>\n",
       "</table>\n",
       "</div>"
      ],
      "text/plain": [
       "   MUNIC    POB1                                           geometry\n",
       "0  01001  797010  POLYGON ((-102.1064122399267 22.06035441303033...\n",
       "1  01002   45492  POLYGON ((-102.051893439036 22.29143529350414,...\n",
       "2  01003   54136  POLYGON ((-102.6856884472506 22.09962730886251...\n",
       "3  01004   15042  POLYGON ((-102.287865181776 22.41649003941679,...\n",
       "4  01005   99590  POLYGON ((-102.3356775711372 22.05066521496391..."
      ]
     },
     "execution_count": 9,
     "metadata": {},
     "output_type": "execute_result"
    }
   ],
   "source": [
    "munic.head()"
   ]
  },
  {
   "cell_type": "markdown",
   "metadata": {},
   "source": [
    "# Aggregate Urban Shapes"
   ]
  },
  {
   "cell_type": "code",
   "execution_count": 10,
   "metadata": {},
   "outputs": [
    {
     "name": "stdout",
     "output_type": "stream",
     "text": [
      "Import Census Blocks\n",
      "# Blocks: 1376969\n",
      "Computing Time: 208 sec\n"
     ]
    }
   ],
   "source": [
    "print('Import Census Blocks')\n",
    "start = timer()\n",
    "\n",
    "blocks = gpd.read_file(path_to_data+'blocks-mexico.geojson')\n",
    "print('# Blocks:', blocks.shape[0])\n",
    "\n",
    "end = timer()\n",
    "print('Computing Time:', round(end - start), 'sec')"
   ]
  },
  {
   "cell_type": "code",
   "execution_count": 11,
   "metadata": {},
   "outputs": [
    {
     "name": "stdout",
     "output_type": "stream",
     "text": [
      "% Valid BLOCKS: 1.0\n",
      "% Valid AGEB: 1.0\n",
      "% Valid URBAN: 1.0\n",
      "% Valid MUNIC: 1.0\n"
     ]
    }
   ],
   "source": [
    "print('% Valid BLOCKS:', blocks.geometry.is_valid.sum()/blocks.shape[0])\n",
    "print('% Valid AGEB:', ageb.geometry.is_valid.sum()/ageb.shape[0])\n",
    "print('% Valid URBAN:', urban.geometry.is_valid.sum()/urban.shape[0])\n",
    "print('% Valid MUNIC:', munic.geometry.is_valid.sum()/munic.shape[0])"
   ]
  },
  {
   "cell_type": "code",
   "execution_count": 12,
   "metadata": {},
   "outputs": [
    {
     "name": "stdout",
     "output_type": "stream",
     "text": [
      "Dissolve Blocks at the Urban Level\n",
      "# Urban: 4525\n",
      "Pop: 86984906\n",
      "Computing Time: 2559 sec\n"
     ]
    }
   ],
   "source": [
    "print('Dissolve Blocks at the Urban Level')\n",
    "start = timer()\n",
    "\n",
    "urban_blocks = blocks[['URBAN', 'MUNIC', 'POB1', 'geometry']].dissolve(\n",
    "by='URBAN', aggfunc={'MUNIC':'first','POB1':'sum'})\n",
    "\n",
    "urban_blocks = urban_blocks.reset_index()[\n",
    "['URBAN','MUNIC','POB1','geometry']\n",
    "].sort_values(by=['URBAN']).reset_index(drop=True)\n",
    "\n",
    "print('# Urban:', urban_blocks['URBAN'].unique().shape[0])\n",
    "print('Pop:', urban_blocks['POB1'].sum())\n",
    "\n",
    "end = timer()\n",
    "print('Computing Time:', round(end - start), 'sec')"
   ]
  },
  {
   "cell_type": "code",
   "execution_count": 13,
   "metadata": {},
   "outputs": [
    {
     "data": {
      "text/html": [
       "<div>\n",
       "<style scoped>\n",
       "    .dataframe tbody tr th:only-of-type {\n",
       "        vertical-align: middle;\n",
       "    }\n",
       "\n",
       "    .dataframe tbody tr th {\n",
       "        vertical-align: top;\n",
       "    }\n",
       "\n",
       "    .dataframe thead th {\n",
       "        text-align: right;\n",
       "    }\n",
       "</style>\n",
       "<table border=\"1\" class=\"dataframe\">\n",
       "  <thead>\n",
       "    <tr style=\"text-align: right;\">\n",
       "      <th></th>\n",
       "      <th>URBAN</th>\n",
       "      <th>MUNIC</th>\n",
       "      <th>POB1</th>\n",
       "      <th>geometry</th>\n",
       "    </tr>\n",
       "  </thead>\n",
       "  <tbody>\n",
       "    <tr>\n",
       "      <th>0</th>\n",
       "      <td>010010001</td>\n",
       "      <td>01001</td>\n",
       "      <td>722250</td>\n",
       "      <td>(POLYGON ((-102.2768073456368 21.8219313780095...</td>\n",
       "    </tr>\n",
       "    <tr>\n",
       "      <th>1</th>\n",
       "      <td>010010239</td>\n",
       "      <td>01001</td>\n",
       "      <td>2500</td>\n",
       "      <td>(POLYGON ((-102.2075764721435 21.9964060961067...</td>\n",
       "    </tr>\n",
       "    <tr>\n",
       "      <th>2</th>\n",
       "      <td>010010293</td>\n",
       "      <td>01001</td>\n",
       "      <td>3741</td>\n",
       "      <td>(POLYGON ((-102.2236611265653 21.8882969709056...</td>\n",
       "    </tr>\n",
       "    <tr>\n",
       "      <th>3</th>\n",
       "      <td>010010357</td>\n",
       "      <td>01001</td>\n",
       "      <td>2539</td>\n",
       "      <td>(POLYGON ((-102.2112210707891 21.8526989754654...</td>\n",
       "    </tr>\n",
       "    <tr>\n",
       "      <th>4</th>\n",
       "      <td>010010479</td>\n",
       "      <td>01001</td>\n",
       "      <td>4481</td>\n",
       "      <td>(POLYGON ((-102.1979897069698 21.8164484637755...</td>\n",
       "    </tr>\n",
       "  </tbody>\n",
       "</table>\n",
       "</div>"
      ],
      "text/plain": [
       "       URBAN  MUNIC    POB1                                           geometry\n",
       "0  010010001  01001  722250  (POLYGON ((-102.2768073456368 21.8219313780095...\n",
       "1  010010239  01001    2500  (POLYGON ((-102.2075764721435 21.9964060961067...\n",
       "2  010010293  01001    3741  (POLYGON ((-102.2236611265653 21.8882969709056...\n",
       "3  010010357  01001    2539  (POLYGON ((-102.2112210707891 21.8526989754654...\n",
       "4  010010479  01001    4481  (POLYGON ((-102.1979897069698 21.8164484637755..."
      ]
     },
     "execution_count": 13,
     "metadata": {},
     "output_type": "execute_result"
    }
   ],
   "source": [
    "urban_blocks.head()"
   ]
  },
  {
   "cell_type": "code",
   "execution_count": 14,
   "metadata": {},
   "outputs": [
    {
     "name": "stdout",
     "output_type": "stream",
     "text": [
      "Dissolve AGEB at the Urban Level\n",
      "# Urban: 4525\n",
      "Pop: 86984906\n",
      "Computing Time: 26 sec\n"
     ]
    }
   ],
   "source": [
    "print('Dissolve AGEB at the Urban Level')\n",
    "start = timer()\n",
    "\n",
    "urban_ageb = ageb[['URBAN','MUNIC','POB1','geometry']].dissolve(\n",
    "by=['URBAN'], aggfunc={'MUNIC':'first','POB1':'sum'})\n",
    "\n",
    "urban_ageb = urban_ageb.reset_index()[\n",
    "['URBAN','MUNIC','POB1','geometry']\n",
    "].sort_values(by=['URBAN']).reset_index(drop=True)\n",
    "\n",
    "print('# Urban:', urban_ageb['URBAN'].unique().shape[0])\n",
    "print('Pop:', urban_ageb['POB1'].sum())\n",
    "\n",
    "end = timer()\n",
    "print('Computing Time:', round(end - start), 'sec')"
   ]
  },
  {
   "cell_type": "code",
   "execution_count": 15,
   "metadata": {},
   "outputs": [
    {
     "data": {
      "text/html": [
       "<div>\n",
       "<style scoped>\n",
       "    .dataframe tbody tr th:only-of-type {\n",
       "        vertical-align: middle;\n",
       "    }\n",
       "\n",
       "    .dataframe tbody tr th {\n",
       "        vertical-align: top;\n",
       "    }\n",
       "\n",
       "    .dataframe thead th {\n",
       "        text-align: right;\n",
       "    }\n",
       "</style>\n",
       "<table border=\"1\" class=\"dataframe\">\n",
       "  <thead>\n",
       "    <tr style=\"text-align: right;\">\n",
       "      <th></th>\n",
       "      <th>URBAN</th>\n",
       "      <th>MUNIC</th>\n",
       "      <th>POB1</th>\n",
       "      <th>geometry</th>\n",
       "    </tr>\n",
       "  </thead>\n",
       "  <tbody>\n",
       "    <tr>\n",
       "      <th>0</th>\n",
       "      <td>010010001</td>\n",
       "      <td>01001</td>\n",
       "      <td>722250</td>\n",
       "      <td>POLYGON ((-102.3506868983029 21.85641647954269...</td>\n",
       "    </tr>\n",
       "    <tr>\n",
       "      <th>1</th>\n",
       "      <td>010010239</td>\n",
       "      <td>01001</td>\n",
       "      <td>2500</td>\n",
       "      <td>POLYGON ((-102.210411612613 21.99468918687327,...</td>\n",
       "    </tr>\n",
       "    <tr>\n",
       "      <th>2</th>\n",
       "      <td>010010293</td>\n",
       "      <td>01001</td>\n",
       "      <td>3741</td>\n",
       "      <td>POLYGON ((-102.227571857956 21.88977745759894,...</td>\n",
       "    </tr>\n",
       "    <tr>\n",
       "      <th>3</th>\n",
       "      <td>010010357</td>\n",
       "      <td>01001</td>\n",
       "      <td>2539</td>\n",
       "      <td>POLYGON ((-102.202583207781 21.85901789781224,...</td>\n",
       "    </tr>\n",
       "    <tr>\n",
       "      <th>4</th>\n",
       "      <td>010010479</td>\n",
       "      <td>01001</td>\n",
       "      <td>4481</td>\n",
       "      <td>POLYGON ((-102.1879352866256 21.81760190515821...</td>\n",
       "    </tr>\n",
       "  </tbody>\n",
       "</table>\n",
       "</div>"
      ],
      "text/plain": [
       "       URBAN  MUNIC    POB1                                           geometry\n",
       "0  010010001  01001  722250  POLYGON ((-102.3506868983029 21.85641647954269...\n",
       "1  010010239  01001    2500  POLYGON ((-102.210411612613 21.99468918687327,...\n",
       "2  010010293  01001    3741  POLYGON ((-102.227571857956 21.88977745759894,...\n",
       "3  010010357  01001    2539  POLYGON ((-102.202583207781 21.85901789781224,...\n",
       "4  010010479  01001    4481  POLYGON ((-102.1879352866256 21.81760190515821..."
      ]
     },
     "execution_count": 15,
     "metadata": {},
     "output_type": "execute_result"
    }
   ],
   "source": [
    "urban_ageb.head()"
   ]
  },
  {
   "cell_type": "code",
   "execution_count": 16,
   "metadata": {},
   "outputs": [
    {
     "name": "stdout",
     "output_type": "stream",
     "text": [
      "Merge Urban Shapes\n",
      "# Urban: 4525\n",
      "Pop: 86984906.0\n",
      "Computing Time: 0 sec\n"
     ]
    }
   ],
   "source": [
    "print('Merge Urban Shapes')\n",
    "start = timer()\n",
    "\n",
    "urban_merged = pd.merge(pd.merge(\n",
    "urban,\n",
    "urban_ageb,\n",
    "on=['URBAN','MUNIC','POB1'],\n",
    "suffixes=['_urban','_ageb']),\n",
    "urban_blocks).rename(\n",
    "columns={'geometry':'geometry_blocks'})\n",
    "\n",
    "print('# Urban:', urban_merged['URBAN'].unique().shape[0])\n",
    "print('Pop:', urban_merged['POB1'].sum())\n",
    "\n",
    "end = timer()\n",
    "print('Computing Time:', round(end - start), 'sec')"
   ]
  },
  {
   "cell_type": "code",
   "execution_count": 17,
   "metadata": {},
   "outputs": [
    {
     "name": "stdout",
     "output_type": "stream",
     "text": [
      "Union Urban and AGEB Geometry\n",
      "Computing Time: 20 sec\n"
     ]
    }
   ],
   "source": [
    "print('Union Urban and AGEB Geometry')\n",
    "start = timer()\n",
    "\n",
    "urban_merged['geometry'] = urban_merged.apply(lambda x:x.geometry_urban.union(x.geometry_ageb),1)\n",
    "\n",
    "end = timer()\n",
    "print('Computing Time:', round(end - start), 'sec')"
   ]
  },
  {
   "cell_type": "code",
   "execution_count": 18,
   "metadata": {},
   "outputs": [
    {
     "name": "stdout",
     "output_type": "stream",
     "text": [
      "Max. area missing from union of blocks that is neither in AGEB nor in urban: 0.0\n",
      "Computing Time: 284 sec\n"
     ]
    }
   ],
   "source": [
    "start = timer()\n",
    "\n",
    "print('Max. area missing from union of blocks that is neither in AGEB nor in urban:', \n",
    "urban_merged.apply(lambda x:x.geometry_blocks.difference(x.geometry),1).apply(lambda x:x.area).max())\n",
    "\n",
    "end = timer()\n",
    "print('Computing Time:', round(end - start), 'sec')"
   ]
  },
  {
   "cell_type": "code",
   "execution_count": 19,
   "metadata": {},
   "outputs": [
    {
     "name": "stdout",
     "output_type": "stream",
     "text": [
      "Convert Interior Rings Into Polygons\n"
     ]
    }
   ],
   "source": [
    "print('Convert Interior Rings Into Polygons')\n",
    "\n",
    "def extract_poly_coords(geom):\n",
    "    if geom.type == 'Polygon':\n",
    "        exterior_coords = geom.exterior.coords[:]\n",
    "        interior_coords = []\n",
    "        for interior in geom.interiors:\n",
    "            interior_coords += interior.coords[:]\n",
    "    elif geom.type == 'MultiPolygon':\n",
    "        exterior_coords = []\n",
    "        interior_coords = []\n",
    "        for part in geom:\n",
    "            epc = extract_poly_coords(part)  # Recursive call\n",
    "            exterior_coords += epc['exterior_coords']\n",
    "            interior_coords += epc['interior_coords']\n",
    "    else:\n",
    "        raise ValueError('Unhandled geometry type: ' + repr(geom.type))\n",
    "    return {'exterior_coords': exterior_coords,\n",
    "            'interior_coords': interior_coords}\n",
    "\n",
    "def get_interior(x):\n",
    "    # Works with two levels only\n",
    "    if x.type=='Polygon':\n",
    "        interiors = []\n",
    "        for interior in x.interiors:\n",
    "            interiors.append(interior)\n",
    "    elif x.type=='MultiPolygon':\n",
    "        interiors = []\n",
    "        for y in x:\n",
    "            for interior in y.interiors:\n",
    "                interiors.append(interior)\n",
    "    return MultiPolygon([Polygon(y) for y in interiors])\n",
    "\n",
    "urban_merged['geometry_interiors'] = urban_merged['geometry'].apply(get_interior)\n",
    "urban_merged['geometry'] = urban_merged.apply(lambda x:x.geometry.union(x.geometry_interiors),1)"
   ]
  },
  {
   "cell_type": "code",
   "execution_count": 35,
   "metadata": {},
   "outputs": [
    {
     "name": "stdout",
     "output_type": "stream",
     "text": [
      "Finalize dataframe with homogenous geometry for exporting\n",
      "Computing Time: 0 sec\n"
     ]
    }
   ],
   "source": [
    "print('Finalize dataframe with homogenous geometry for exporting')\n",
    "start = timer()\n",
    "\n",
    "urban_merged = gpd.GeoDataFrame(urban_merged,\n",
    "geometry=urban_merged.geometry).sort_values(by=['URBAN']).reset_index(drop=True)\n",
    "\n",
    "urban_merged.POB1 = urban_merged.POB1.astype(int)\n",
    "\n",
    "urban_merged[\"geometry\"]=\\\n",
    "[MultiPolygon([feature]) if type(feature)==Polygon else feature for feature in urban_merged[\"geometry\"]]\n",
    "\n",
    "end = timer()\n",
    "print('Computing Time:', round(end - start), 'sec')"
   ]
  },
  {
   "cell_type": "code",
   "execution_count": 36,
   "metadata": {},
   "outputs": [
    {
     "data": {
      "text/html": [
       "<div>\n",
       "<style scoped>\n",
       "    .dataframe tbody tr th:only-of-type {\n",
       "        vertical-align: middle;\n",
       "    }\n",
       "\n",
       "    .dataframe tbody tr th {\n",
       "        vertical-align: top;\n",
       "    }\n",
       "\n",
       "    .dataframe thead th {\n",
       "        text-align: right;\n",
       "    }\n",
       "</style>\n",
       "<table border=\"1\" class=\"dataframe\">\n",
       "  <thead>\n",
       "    <tr style=\"text-align: right;\">\n",
       "      <th></th>\n",
       "      <th>URBAN</th>\n",
       "      <th>MUNIC</th>\n",
       "      <th>POB1</th>\n",
       "      <th>geometry</th>\n",
       "    </tr>\n",
       "  </thead>\n",
       "  <tbody>\n",
       "    <tr>\n",
       "      <th>0</th>\n",
       "      <td>010010001</td>\n",
       "      <td>01001</td>\n",
       "      <td>722250</td>\n",
       "      <td>(POLYGON ((-102.3353776412602 21.8689221339837...</td>\n",
       "    </tr>\n",
       "    <tr>\n",
       "      <th>1</th>\n",
       "      <td>010010239</td>\n",
       "      <td>01001</td>\n",
       "      <td>2500</td>\n",
       "      <td>(POLYGON ((-102.2104116126208 21.9946891869710...</td>\n",
       "    </tr>\n",
       "    <tr>\n",
       "      <th>2</th>\n",
       "      <td>010010293</td>\n",
       "      <td>01001</td>\n",
       "      <td>3741</td>\n",
       "      <td>(POLYGON ((-102.2172037729592 21.8864514977587...</td>\n",
       "    </tr>\n",
       "    <tr>\n",
       "      <th>3</th>\n",
       "      <td>010010357</td>\n",
       "      <td>01001</td>\n",
       "      <td>2539</td>\n",
       "      <td>(POLYGON ((-102.2093727931489 21.8598893096304...</td>\n",
       "    </tr>\n",
       "    <tr>\n",
       "      <th>4</th>\n",
       "      <td>010010479</td>\n",
       "      <td>01001</td>\n",
       "      <td>4481</td>\n",
       "      <td>(POLYGON ((-102.1917930318855 21.8369501977708...</td>\n",
       "    </tr>\n",
       "  </tbody>\n",
       "</table>\n",
       "</div>"
      ],
      "text/plain": [
       "       URBAN  MUNIC    POB1                                           geometry\n",
       "0  010010001  01001  722250  (POLYGON ((-102.3353776412602 21.8689221339837...\n",
       "1  010010239  01001    2500  (POLYGON ((-102.2104116126208 21.9946891869710...\n",
       "2  010010293  01001    3741  (POLYGON ((-102.2172037729592 21.8864514977587...\n",
       "3  010010357  01001    2539  (POLYGON ((-102.2093727931489 21.8598893096304...\n",
       "4  010010479  01001    4481  (POLYGON ((-102.1917930318855 21.8369501977708..."
      ]
     },
     "execution_count": 36,
     "metadata": {},
     "output_type": "execute_result"
    }
   ],
   "source": [
    "urban_merged.head()"
   ]
  },
  {
   "cell_type": "markdown",
   "metadata": {},
   "source": [
    "# Save"
   ]
  },
  {
   "cell_type": "code",
   "execution_count": 39,
   "metadata": {},
   "outputs": [
    {
     "name": "stdout",
     "output_type": "stream",
     "text": [
      "Save\n",
      "Computing Time: 16 sec\n"
     ]
    }
   ],
   "source": [
    "print('Save')\n",
    "start = timer()\n",
    "\n",
    "urban_merged.to_pickle(path_to_data+'census/urban-mexico.pkl')\n",
    "urban_merged[['URBAN','MUNIC','POB1','geometry']].to_file(path_to_data+'census/urban-mexico.geojson', driver='GeoJSON')\n",
    "munic.to_file(path_to_data+'census/munic-mexico.geojson', driver='GeoJSON')\n",
    "\n",
    "end = timer()\n",
    "print('Computing Time:', round(end - start), 'sec')"
   ]
  }
 ],
 "metadata": {
  "kernelspec": {
   "display_name": "Python 3",
   "language": "python",
   "name": "python3"
  },
  "language_info": {
   "codemirror_mode": {
    "name": "ipython",
    "version": 3
   },
   "file_extension": ".py",
   "mimetype": "text/x-python",
   "name": "python",
   "nbconvert_exporter": "python",
   "pygments_lexer": "ipython3",
   "version": "3.7.4"
  }
 },
 "nbformat": 4,
 "nbformat_minor": 2
}
