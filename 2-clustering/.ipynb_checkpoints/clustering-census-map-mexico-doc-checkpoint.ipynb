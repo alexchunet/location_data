{
 "cells": [
  {
   "cell_type": "code",
   "execution_count": 1,
   "metadata": {},
   "outputs": [],
   "source": [
    "from timeit import default_timer as timer\n",
    "import geopandas as gpd\n",
    "import pandas as pd\n",
    "import numpy as np\n",
    "from shapely.ops import unary_union\n",
    "from shapely.geometry import MultiPolygon, Polygon\n",
    "import multiprocessing as mp\n",
    "from itertools import chain\n",
    "from functools import partial\n",
    "import json\n",
    "import folium\n",
    "import matplotlib.pyplot as plt"
   ]
  },
  {
   "cell_type": "markdown",
   "metadata": {},
   "source": [
    "# Data Preparation"
   ]
  },
  {
   "cell_type": "code",
   "execution_count": 2,
   "metadata": {},
   "outputs": [],
   "source": [
    "path_to_data = '/scratch/spf248/cuebiq/data/'"
   ]
  },
  {
   "cell_type": "code",
   "execution_count": 3,
   "metadata": {},
   "outputs": [
    {
     "name": "stdout",
     "output_type": "stream",
     "text": [
      "Import Census Shapes\n",
      "# Blocks: 1376969\n",
      "# Urban: 4525\n",
      "# Munic: 2456\n",
      "Computing Time: 268 sec\n"
     ]
    }
   ],
   "source": [
    "print('Import Census Shapes')\n",
    "start = timer()\n",
    "\n",
    "# Source: INEGI\n",
    "# https://www.inegi.org.mx/programas/ccpv/2010/?ps=Microdatos\n",
    "# Data available here:\n",
    "# https://www.dropbox.com/sh/dc3amdfgicqsjrj/AABDtR1TYpLzLFFXR4ngm1Jta?dl=0\n",
    "blocks = gpd.read_file(path_to_data+'blocks-mexico.geojson')\n",
    "urban  = gpd.read_file(path_to_data+'urban-mexico.geojson')\n",
    "munic  = gpd.read_file(path_to_data+'munic-mexico.geojson')\n",
    "print('# Blocks:', blocks.shape[0])\n",
    "print('# Urban:', urban.shape[0])\n",
    "print('# Munic:', munic.shape[0])\n",
    "\n",
    "end = timer()\n",
    "print('Computing Time:', round(end - start), 'sec')"
   ]
  },
  {
   "cell_type": "code",
   "execution_count": 4,
   "metadata": {},
   "outputs": [
    {
     "name": "stdout",
     "output_type": "stream",
     "text": [
      "Import Clusters\n",
      "Computing Time: 197 sec\n"
     ]
    }
   ],
   "source": [
    "print('Import Clusters')\n",
    "start = timer()\n",
    "\n",
    "# Data available here:\n",
    "# https://www.dropbox.com/sh/dc3amdfgicqsjrj/AABDtR1TYpLzLFFXR4ngm1Jta?dl=0\n",
    "clusters_urban   = pd.read_pickle(path_to_data+'clusters-urban-mexico.pkl')\n",
    "clusters_rural   = pd.read_pickle(path_to_data+'clusters-rural-mexico.pkl')\n",
    "clusters         = pd.read_pickle(path_to_data+'clusters-mexico.pkl')\n",
    "clusters_geojson = gpd.read_file(path_to_data+'clusters-mexico.geojson', driver='GeoJSON')\n",
    "\n",
    "end = timer()\n",
    "print('Computing Time:', round(end - start), 'sec')"
   ]
  },
  {
   "cell_type": "code",
   "execution_count": 5,
   "metadata": {},
   "outputs": [],
   "source": [
    "blocks.set_index('BLOCK',inplace=True)\n",
    "urban.set_index('URBAN',inplace=True)\n",
    "munic.set_index('MUNIC',inplace=True)\n",
    "\n",
    "clusters.set_index('cluster',inplace=True)\n",
    "clusters['urban'] = clusters['cvegeo'].apply(lambda x:next(iter(set([len(y) for y in x])))==16)\n",
    "idx_urban = clusters.loc[clusters['urban']==True].index\n",
    "idx_rural = clusters.loc[clusters['urban']==False].index\n",
    "clusters['check_pop'] = False"
   ]
  },
  {
   "cell_type": "code",
   "execution_count": 6,
   "metadata": {},
   "outputs": [
    {
     "name": "stdout",
     "output_type": "stream",
     "text": [
      "Check if Urban Population is Consistent\n",
      "Computing Time: 18 sec\n"
     ]
    }
   ],
   "source": [
    "print('Check if Urban Population is Consistent')\n",
    "start = timer()\n",
    "\n",
    "def check_urban_pop(cluster):\n",
    "    return clusters.loc[cluster,'population'] == blocks.loc[clusters.loc[cluster,'cvegeo'],'POB1'].sum()\n",
    "\n",
    "with mp.Pool() as pool:\n",
    "    urban_pop_equal = pool.map(check_urban_pop, idx_urban)\n",
    "    \n",
    "end = timer()\n",
    "print('Computing Time:', round(end - start), 'sec')"
   ]
  },
  {
   "cell_type": "code",
   "execution_count": 7,
   "metadata": {},
   "outputs": [
    {
     "name": "stdout",
     "output_type": "stream",
     "text": [
      "Check if Rural Population is Consistent\n",
      "Computing Time: 3 sec\n"
     ]
    }
   ],
   "source": [
    "print('Check if Rural Population is Consistent')\n",
    "start = timer()\n",
    "\n",
    "def check_rural_pop(cluster):\n",
    "    return clusters.loc[cluster,'population'] == munic.loc[clusters.loc[cluster,'cvegeo'],'POB1'].sum() - \\\n",
    "    urban.loc[(urban.MUNIC.isin(munic.loc[clusters.loc[cluster,'cvegeo']].index))&(urban.POB1>=100),'POB1'].sum()\n",
    "\n",
    "with mp.Pool() as pool:\n",
    "    rural_pop_equal = pool.map(check_rural_pop, idx_rural)\n",
    "    \n",
    "end = timer()\n",
    "print('Computing Time:', round(end - start), 'sec')"
   ]
  },
  {
   "cell_type": "code",
   "execution_count": 8,
   "metadata": {},
   "outputs": [
    {
     "name": "stdout",
     "output_type": "stream",
     "text": [
      "Population Mexico: 112336538\n",
      "# Clusters: 430743\n",
      "Population Clusters: 112336538\n",
      "Min. Cluster Population: 100\n",
      "Are Urban Clusters Population Consistent With Census Data? True\n",
      "Are Rural Clusters Population Consistent With Census Data? True\n"
     ]
    }
   ],
   "source": [
    "print('Population Mexico:', munic.POB1.sum())\n",
    "print('# Clusters:', clusters.shape[0])\n",
    "print('Population Clusters:', clusters.population.sum())\n",
    "print('Min. Cluster Population:', clusters.population.min())\n",
    "print('Are Urban Clusters Population Consistent With Census Data?', min(urban_pop_equal))\n",
    "print('Are Rural Clusters Population Consistent With Census Data?', min(rural_pop_equal))"
   ]
  }
 ],
 "metadata": {
  "kernelspec": {
   "display_name": "Python 3",
   "language": "python",
   "name": "python3"
  },
  "language_info": {
   "codemirror_mode": {
    "name": "ipython",
    "version": 3
   },
   "file_extension": ".py",
   "mimetype": "text/x-python",
   "name": "python",
   "nbconvert_exporter": "python",
   "pygments_lexer": "ipython3",
   "version": "3.7.4"
  }
 },
 "nbformat": 4,
 "nbformat_minor": 2
}
