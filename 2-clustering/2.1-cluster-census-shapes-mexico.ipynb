{
 "cells": [
  {
   "cell_type": "markdown",
   "metadata": {},
   "source": [
    "# Description"
   ]
  },
  {
   "cell_type": "markdown",
   "metadata": {},
   "source": [
    "- This code computes clusters of census blocks, each resulting cluster having a population above a predetermined threshold (e.g. 100)\n",
    "\n",
    "- It allows to match privacy-sensitive geocoded information which census data as any acceptable level of granularity\n",
    "\n",
    "- It takes a given country's shapefiles as input (e.g. Mexico shapefiles from INEGI)\n",
    "\n",
    "- It iteratively merges each cluster of blocks with a population below the threshold with its closest neighbor\n",
    "\n",
    "    - When census blocks are nested, we first cluster children before clustering parents\n",
    "    \n",
    "    - When several admin levels are present, we iteratively cluster at each admin level\n",
    "    \n",
    "    - Rural areas that are not partitioned into blocks are clustered separately\n",
    "    \n",
    "    - One extension would be to only allow merges between urban clusters if their distance is below a cutoff\n",
    "    \n",
    "    - Another extension would be to only allow merges between urban clusters if the difference in average wealth is below a cutoff"
   ]
  },
  {
   "cell_type": "code",
   "execution_count": 1,
   "metadata": {},
   "outputs": [],
   "source": [
    "from timeit import default_timer as timer\n",
    "import geopandas as gpd\n",
    "import pandas as pd\n",
    "import numpy as np\n",
    "from shapely.ops import unary_union\n",
    "from shapely.geometry import MultiPolygon, Polygon\n",
    "import multiprocessing as mp\n",
    "from itertools import chain\n",
    "from functools import partial"
   ]
  },
  {
   "cell_type": "markdown",
   "metadata": {},
   "source": [
    "# Import Data"
   ]
  },
  {
   "cell_type": "code",
   "execution_count": 2,
   "metadata": {},
   "outputs": [],
   "source": [
    "path_to_data = '/scratch/spf248/cuebiq/data/'"
   ]
  },
  {
   "cell_type": "code",
   "execution_count": 3,
   "metadata": {},
   "outputs": [
    {
     "name": "stdout",
     "output_type": "stream",
     "text": [
      "Import Census Shapes\n",
      "# Blocks: 1376969\n",
      "# Urban: 4525\n",
      "# Munic: 2456\n",
      "Computing Time: 270 sec\n"
     ]
    }
   ],
   "source": [
    "print('Import Census Shapes')\n",
    "start = timer()\n",
    "\n",
    "blocks = gpd.read_file(path_to_data+'census/blocks-mexico.geojson')\n",
    "urban  = gpd.read_file(path_to_data+'census/urban-mexico.geojson')\n",
    "munic  = gpd.read_file(path_to_data+'census/munic-mexico.geojson')\n",
    "print('# Blocks:', blocks.shape[0])\n",
    "print('# Urban:', urban.shape[0])\n",
    "print('# Munic:', munic.shape[0])\n",
    "\n",
    "end = timer()\n",
    "print('Computing Time:', round(end - start), 'sec')"
   ]
  },
  {
   "cell_type": "code",
   "execution_count": 4,
   "metadata": {},
   "outputs": [],
   "source": [
    "blocks.set_index('BLOCK',inplace=True)"
   ]
  },
  {
   "cell_type": "code",
   "execution_count": 5,
   "metadata": {},
   "outputs": [
    {
     "data": {
      "text/html": [
       "<div>\n",
       "<style scoped>\n",
       "    .dataframe tbody tr th:only-of-type {\n",
       "        vertical-align: middle;\n",
       "    }\n",
       "\n",
       "    .dataframe tbody tr th {\n",
       "        vertical-align: top;\n",
       "    }\n",
       "\n",
       "    .dataframe thead th {\n",
       "        text-align: right;\n",
       "    }\n",
       "</style>\n",
       "<table border=\"1\" class=\"dataframe\">\n",
       "  <thead>\n",
       "    <tr style=\"text-align: right;\">\n",
       "      <th></th>\n",
       "      <th>AGEB</th>\n",
       "      <th>URBAN</th>\n",
       "      <th>MUNIC</th>\n",
       "      <th>POB1</th>\n",
       "      <th>geometry</th>\n",
       "    </tr>\n",
       "    <tr>\n",
       "      <th>BLOCK</th>\n",
       "      <th></th>\n",
       "      <th></th>\n",
       "      <th></th>\n",
       "      <th></th>\n",
       "      <th></th>\n",
       "    </tr>\n",
       "  </thead>\n",
       "  <tbody>\n",
       "    <tr>\n",
       "      <th>0100100010229001</th>\n",
       "      <td>0100100010229</td>\n",
       "      <td>010010001</td>\n",
       "      <td>01001</td>\n",
       "      <td>65</td>\n",
       "      <td>(POLYGON ((-102.295873492189 21.92998714417593...</td>\n",
       "    </tr>\n",
       "    <tr>\n",
       "      <th>0100100010229002</th>\n",
       "      <td>0100100010229</td>\n",
       "      <td>010010001</td>\n",
       "      <td>01001</td>\n",
       "      <td>0</td>\n",
       "      <td>(POLYGON ((-102.2919195976506 21.9231902834303...</td>\n",
       "    </tr>\n",
       "    <tr>\n",
       "      <th>0100100010229003</th>\n",
       "      <td>0100100010229</td>\n",
       "      <td>010010001</td>\n",
       "      <td>01001</td>\n",
       "      <td>0</td>\n",
       "      <td>(POLYGON ((-102.2916304870713 21.9189053905925...</td>\n",
       "    </tr>\n",
       "    <tr>\n",
       "      <th>0100100010229004</th>\n",
       "      <td>0100100010229</td>\n",
       "      <td>010010001</td>\n",
       "      <td>01001</td>\n",
       "      <td>0</td>\n",
       "      <td>(POLYGON ((-102.2948584083044 21.9171921055255...</td>\n",
       "    </tr>\n",
       "    <tr>\n",
       "      <th>0100100010229006</th>\n",
       "      <td>0100100010229</td>\n",
       "      <td>010010001</td>\n",
       "      <td>01001</td>\n",
       "      <td>25</td>\n",
       "      <td>(POLYGON ((-102.2962004535445 21.9312597033061...</td>\n",
       "    </tr>\n",
       "  </tbody>\n",
       "</table>\n",
       "</div>"
      ],
      "text/plain": [
       "                           AGEB      URBAN  MUNIC  POB1  \\\n",
       "BLOCK                                                     \n",
       "0100100010229001  0100100010229  010010001  01001    65   \n",
       "0100100010229002  0100100010229  010010001  01001     0   \n",
       "0100100010229003  0100100010229  010010001  01001     0   \n",
       "0100100010229004  0100100010229  010010001  01001     0   \n",
       "0100100010229006  0100100010229  010010001  01001    25   \n",
       "\n",
       "                                                           geometry  \n",
       "BLOCK                                                                \n",
       "0100100010229001  (POLYGON ((-102.295873492189 21.92998714417593...  \n",
       "0100100010229002  (POLYGON ((-102.2919195976506 21.9231902834303...  \n",
       "0100100010229003  (POLYGON ((-102.2916304870713 21.9189053905925...  \n",
       "0100100010229004  (POLYGON ((-102.2948584083044 21.9171921055255...  \n",
       "0100100010229006  (POLYGON ((-102.2962004535445 21.9312597033061...  "
      ]
     },
     "execution_count": 5,
     "metadata": {},
     "output_type": "execute_result"
    }
   ],
   "source": [
    "blocks.head()"
   ]
  },
  {
   "cell_type": "code",
   "execution_count": 6,
   "metadata": {},
   "outputs": [
    {
     "name": "stdout",
     "output_type": "stream",
     "text": [
      "# empty blocks: 155073\n"
     ]
    }
   ],
   "source": [
    "empty_blocks = blocks.loc[blocks['POB1']==0].index.tolist()\n",
    "print('# empty blocks:', len(empty_blocks))"
   ]
  },
  {
   "cell_type": "markdown",
   "metadata": {},
   "source": [
    "# Library of Functions"
   ]
  },
  {
   "cell_type": "code",
   "execution_count": 7,
   "metadata": {},
   "outputs": [],
   "source": [
    "# Compute min distance between points in 2 geometries\n",
    "def dist_geoms(geom1,geom2):\n",
    "    \n",
    "    return geom1.distance(geom2)"
   ]
  },
  {
   "cell_type": "code",
   "execution_count": 8,
   "metadata": {},
   "outputs": [],
   "source": [
    "# Return union of cluster geometries\n",
    "def union_geoms(cluster, data=blocks):\n",
    "    \n",
    "    return unary_union(data.loc[cluster,'geometry'])"
   ]
  },
  {
   "cell_type": "code",
   "execution_count": 9,
   "metadata": {},
   "outputs": [],
   "source": [
    "# Flatten nested lists of any depth\n",
    "def flatten_list(nested_list):\n",
    "    \n",
    "    flat_list = []\n",
    "    for item in nested_list:\n",
    "        if type(item) != list:\n",
    "            flat_list.append(item)\n",
    "        else:\n",
    "            flat_list.extend(flatten_list(item))\n",
    "    return flat_list"
   ]
  },
  {
   "cell_type": "code",
   "execution_count": 10,
   "metadata": {},
   "outputs": [],
   "source": [
    "# Select nested shapes from geodataframe\n",
    "def nested_shapes(df,index_col='BLOCK'):\n",
    "    \n",
    "    # Find shapes that are contained in one another retaining children geometry\n",
    "    nested_shapes = gpd.sjoin(\n",
    "    df.reset_index(),\n",
    "    df.reset_index(),\n",
    "    op='within',\n",
    "    lsuffix='child',\n",
    "    rsuffix='parent')\n",
    "    \n",
    "    # Remove original shapes\n",
    "    nested_shapes = nested_shapes[\n",
    "    nested_shapes[(index_col+'_parent')]!=\\\n",
    "    nested_shapes[(index_col+'_child')]].sort_values(\n",
    "    by=[index_col+'_parent',index_col+'_child']).reset_index(drop=True)\n",
    "    \n",
    "    return nested_shapes"
   ]
  },
  {
   "cell_type": "code",
   "execution_count": 11,
   "metadata": {},
   "outputs": [],
   "source": [
    "def cluster_shapes(clusters, pops, geoms, mp_dists=False, pop_threshold=100):\n",
    "    \n",
    "    # Stop if there is only one cluster left\n",
    "    while len(clusters) > 1:\n",
    "\n",
    "        # Create random vector to break ties\n",
    "        np.random.seed(0)\n",
    "        pops_tiebreak = np.random.random(len(pops))\n",
    "        \n",
    "        # Find the position of the cluster with the smallest population\n",
    "        pos_smallest = np.lexsort((pops_tiebreak, pops))[0]\n",
    "\n",
    "        # Stop if the smallest cluster is above the threshold\n",
    "        if pops[pos_smallest] >= pop_threshold:\n",
    "            break\n",
    "\n",
    "        # Compute distances using multiprocessing\n",
    "        if mp_dists:\n",
    "            \n",
    "            # Partial distance with respect to smallest cluster\n",
    "            dist_smallest = partial(dist_geoms, geoms[pos_smallest])\n",
    "            \n",
    "            # Compute distances to the smallest cluster\n",
    "            with mp.Pool() as pool:\n",
    "                dists = pool.map(dist_smallest, geoms)\n",
    "                \n",
    "        else:\n",
    "            \n",
    "            # Compute distances to the smallest cluster\n",
    "            dists = [geom.distance(geoms[pos_smallest]) for geom in geoms]\n",
    "        \n",
    "        # Create random vector to break ties\n",
    "        np.random.seed(0)\n",
    "        dists_tiebreak = np.random.random(len(dists))\n",
    "        \n",
    "        # Find the position of the smallest cluster's closest neighboring cluster\n",
    "        pos_dists   = np.lexsort((dists_tiebreak, dists))\n",
    "        pos_closest = [pos for pos in pos_dists if pos != pos_smallest][0]\n",
    "        \n",
    "        # Create a new cluster merging the smallest cluster and its closest neighbor\n",
    "        new_cluster = clusters[pos_smallest] + clusters[pos_closest]\n",
    "        new_pop     = pops[pos_smallest] + pops[pos_closest]\n",
    "        new_geom    = unary_union([geoms[pos_smallest], geoms[pos_closest]])\n",
    "        \n",
    "        # Remove smallest cluster and its closest neighbor\n",
    "        clusters = [cluster for pos_cluster,cluster in enumerate(clusters) if pos_cluster not in [pos_smallest,pos_closest]]\n",
    "        pops     = [pop for pos_pop,pop in enumerate(pops) if pos_pop not in [pos_smallest,pos_closest]]\n",
    "        geoms    = [geom for pos_geom,geom in enumerate(geoms) if pos_geom not in [pos_smallest,pos_closest]]\n",
    "\n",
    "        # Append the new cluster and its population\n",
    "        clusters.append(new_cluster)\n",
    "        pops.append(new_pop)\n",
    "        geoms.append(new_geom)\n",
    "        \n",
    "    return clusters, pops, geoms"
   ]
  },
  {
   "cell_type": "markdown",
   "metadata": {},
   "source": [
    "# Agglomerative Clustering of Children Blocks"
   ]
  },
  {
   "cell_type": "code",
   "execution_count": 12,
   "metadata": {},
   "outputs": [
    {
     "name": "stdout",
     "output_type": "stream",
     "text": [
      "Extract nested blocks\n",
      "# nested blocks: 10005\n",
      "Computing Time: 564 sec\n"
     ]
    }
   ],
   "source": [
    "print('Extract nested blocks')\n",
    "start = timer()\n",
    "\n",
    "nested_blocks = nested_shapes(blocks)\n",
    "print('# nested blocks:', nested_blocks.shape[0])\n",
    "    \n",
    "nested_blocks = nested_blocks[[\n",
    "'MUNIC_parent',\n",
    "'URBAN_parent',\n",
    "'AGEB_parent',\n",
    "'BLOCK_parent',\n",
    "'BLOCK_child',\n",
    "'POB1_child',\n",
    "'geometry',\n",
    "]].rename(columns={\n",
    "'MUNIC_parent':'MUNIC',\n",
    "'URBAN_parent':'URBAN',\n",
    "'AGEB_parent':'AGEB',\n",
    "'BLOCK_parent':'BLOCK',\n",
    "'BLOCK_child':'CLUSTER',\n",
    "'POB1_child':'POB1',\n",
    "}).copy()\n",
    "    \n",
    "end = timer()\n",
    "print('Computing Time:', round(end - start), 'sec')"
   ]
  },
  {
   "cell_type": "code",
   "execution_count": 13,
   "metadata": {},
   "outputs": [
    {
     "name": "stdout",
     "output_type": "stream",
     "text": [
      "Cluster non-empty children at the parent level\n",
      "# parent blocks containing at least one non-empty child: 1068\n",
      "# clusters before clustering: 9621\n",
      "# blocks before clustering: 9621\n",
      "Population before clustering: 593532\n",
      "# clusters after clustering: 3269\n",
      "# blocks after clustering: 9621\n",
      "Population after clustering: 593532\n",
      "Computing Time: 4 sec\n"
     ]
    }
   ],
   "source": [
    "print('Cluster non-empty children at the parent level')\n",
    "start = timer()\n",
    "\n",
    "# For each parent with at least one non-empty child, \n",
    "# initialize children to clusters, along with their pops, and geometries\n",
    "# Note: a parent can be emptry even if its child is not\n",
    "parent2children = \\\n",
    "nested_blocks[nested_blocks['POB1']>0].groupby(\n",
    "by=['MUNIC','URBAN','AGEB','BLOCK']).agg({\n",
    "'CLUSTER':lambda x:[[y] for y in x],'POB1':list,'geometry':list})\n",
    "\n",
    "print('# parent blocks containing at least one non-empty child:', len(parent2children))\n",
    "print('# clusters before clustering:', parent2children['CLUSTER'].apply(len).sum())\n",
    "print('# blocks before clustering:', len(flatten_list(parent2children['CLUSTER'])))\n",
    "print('Population before clustering:', sum(parent2children['POB1'].sum()))\n",
    "\n",
    "# Randomize index\n",
    "idx_parent = parent2children.sample(frac=1,random_state=0).index\n",
    "\n",
    "# Initialize input\n",
    "x_parent = zip(\n",
    "parent2children.loc[idx_parent,'CLUSTER'],\n",
    "parent2children.loc[idx_parent,'POB1'],\n",
    "parent2children.loc[idx_parent,'geometry'],\n",
    ")\n",
    "\n",
    "with mp.Pool() as pool:\n",
    "    x_parent = pool.starmap(cluster_shapes, x_parent)\n",
    "\n",
    "# Unravel output\n",
    "clusters_parent, pops_parent, geoms_parent = map(list,zip(*x_parent))\n",
    "\n",
    "parent2children.loc[idx_parent,'CLUSTER'] = clusters_parent.copy()\n",
    "parent2children.loc[idx_parent,'POB1'] = pops_parent.copy()\n",
    "parent2children.loc[idx_parent,'geometry'] = geoms_parent.copy()\n",
    "\n",
    "print('# clusters after clustering:', parent2children['CLUSTER'].apply(len).sum())\n",
    "print('# blocks after clustering:', len(flatten_list(parent2children['CLUSTER'])))\n",
    "print('Population after clustering:', sum(parent2children['POB1'].sum()))\n",
    "\n",
    "end = timer()\n",
    "print('Computing Time:', round(end - start), 'sec')"
   ]
  },
  {
   "cell_type": "markdown",
   "metadata": {},
   "source": [
    "# Agglomerative Clustering of Blocks By Admin Level"
   ]
  },
  {
   "cell_type": "code",
   "execution_count": 14,
   "metadata": {},
   "outputs": [
    {
     "name": "stdout",
     "output_type": "stream",
     "text": [
      "Initialize non-empty adult clusters\n",
      "Initialize children clusters\n",
      "Initialize all AGEB-level clusters\n",
      "Computing Time: 25 sec\n"
     ]
    }
   ],
   "source": [
    "start = timer()\n",
    "\n",
    "print('Initialize non-empty adult clusters')\n",
    "\n",
    "ageb2adults = blocks.drop(empty_blocks,errors='ignore').drop(\n",
    "flatten_list(parent2children['CLUSTER']),errors='ignore').reset_index().rename(\n",
    "columns={'BLOCK':'CLUSTER'}).groupby(['MUNIC','URBAN','AGEB']).agg({\n",
    "'CLUSTER':lambda x:[[y] for y in x],'POB1':list,'geometry':list})\n",
    "\n",
    "print('Initialize children clusters')\n",
    "\n",
    "ageb2children = parent2children.groupby(['MUNIC','URBAN','AGEB']).sum()\n",
    "\n",
    "print('Initialize all AGEB-level clusters')\n",
    "\n",
    "ageb2clusters = pd.DataFrame({\n",
    "'CLUSTER':np.empty((len(ageb2adults.index.union(ageb2children.index)), 0)).tolist(),\n",
    "'POB1':np.empty((len(ageb2adults.index.union(ageb2children.index)), 0)).tolist(),\n",
    "'geometry':np.empty((len(ageb2adults.index.union(ageb2children.index)), 0)).tolist()},\n",
    "index=ageb2adults.index.union(ageb2children.index))\n",
    "\n",
    "ageb2clusters.loc[ageb2adults.index] = ageb2clusters.loc[ageb2adults.index].add(ageb2adults)\n",
    "ageb2clusters.loc[ageb2children.index] = ageb2clusters.loc[ageb2children.index].add(ageb2children)\n",
    "\n",
    "end = timer()\n",
    "print('Computing Time:', round(end - start), 'sec')"
   ]
  },
  {
   "cell_type": "code",
   "execution_count": 15,
   "metadata": {},
   "outputs": [
    {
     "name": "stdout",
     "output_type": "stream",
     "text": [
      "Cluster at the AGEB level\n",
      "# clusters before clustering: 1215544\n",
      "# blocks before clustering: 1221896\n",
      "Population before clustering: 86984906\n",
      "# clusters after clustering: 438841\n",
      "# blocks after clustering: 1221896\n",
      "population after clustering: 86984906\n",
      "Computing Time: 296 sec\n"
     ]
    }
   ],
   "source": [
    "print('Cluster at the AGEB level')\n",
    "start = timer()\n",
    "\n",
    "print('# clusters before clustering:', ageb2clusters['CLUSTER'].apply(len).sum())\n",
    "print('# blocks before clustering:', len(flatten_list(ageb2clusters['CLUSTER'])))\n",
    "print('Population before clustering:', sum(ageb2clusters['POB1'].sum()))\n",
    "\n",
    "# Randomize index\n",
    "idx_ageb = ageb2clusters.sample(frac=1,random_state=0).index\n",
    "\n",
    "# Initialize input\n",
    "x_ageb = zip(\n",
    "ageb2clusters.loc[idx_ageb,'CLUSTER'],\n",
    "ageb2clusters.loc[idx_ageb,'POB1'],\n",
    "ageb2clusters.loc[idx_ageb,'geometry'],\n",
    ")\n",
    "\n",
    "with mp.Pool() as pool:\n",
    "    x_ageb = pool.starmap(cluster_shapes, x_ageb)\n",
    "    \n",
    "# Unravel output\n",
    "clusters_ageb, pops_ageb, geoms_ageb = map(list,zip(*x_ageb))\n",
    "\n",
    "ageb2clusters.loc[idx_ageb,'CLUSTER'] = clusters_ageb.copy()\n",
    "ageb2clusters.loc[idx_ageb,'POB1'] = pops_ageb.copy()\n",
    "ageb2clusters.loc[idx_ageb,'geometry'] = geoms_ageb.copy()\n",
    "\n",
    "print('# clusters after clustering:', ageb2clusters['CLUSTER'].apply(len).sum())\n",
    "print('# blocks after clustering:', len(flatten_list(ageb2clusters['CLUSTER'])))\n",
    "print('population after clustering:', sum(ageb2clusters['POB1'].sum()))\n",
    "\n",
    "end = timer()\n",
    "print('Computing Time:', round(end - start), 'sec')"
   ]
  },
  {
   "cell_type": "code",
   "execution_count": 16,
   "metadata": {},
   "outputs": [
    {
     "name": "stdout",
     "output_type": "stream",
     "text": [
      "Cluster at the urban locality level\n",
      "Initialize all urban locality level clusters\n",
      "# clusters before clustering: 438841\n",
      "# blocks before clustering: 1221896\n",
      "Population before clustering: 86984906\n",
      "# clusters after clustering: 428498\n",
      "# blocks after clustering: 1221896\n",
      "Population after clustering: 86984906\n",
      "Computing Time: 147 sec\n"
     ]
    }
   ],
   "source": [
    "print('Cluster at the urban locality level')\n",
    "start = timer()\n",
    "\n",
    "#Initialize all urban locality level clusters\n",
    "urban2clusters = ageb2clusters.groupby(['MUNIC','URBAN']).sum()\n",
    "\n",
    "print('# clusters before clustering:', urban2clusters['CLUSTER'].apply(len).sum())\n",
    "print('# blocks before clustering:', len(flatten_list(urban2clusters['CLUSTER'])))\n",
    "print('Population before clustering:', sum(urban2clusters['POB1'].sum()))\n",
    "\n",
    "# Randomize index\n",
    "idx_urban = urban2clusters.sample(frac=1,random_state=0).index\n",
    "\n",
    "# Initialize input\n",
    "x_urban = zip(\n",
    "urban2clusters.loc[idx_urban,'CLUSTER'],\n",
    "urban2clusters.loc[idx_urban,'POB1'],\n",
    "urban2clusters.loc[idx_urban,'geometry'],\n",
    ")\n",
    "\n",
    "with mp.Pool() as pool:\n",
    "    x_urban = pool.starmap(cluster_shapes, x_urban)\n",
    "    \n",
    "# Unravel output\n",
    "clusters_urban, pops_urban, geoms_urban = map(list,zip(*x_urban))\n",
    "\n",
    "urban2clusters.loc[idx_urban,'CLUSTER'] = clusters_urban.copy()\n",
    "urban2clusters.loc[idx_urban,'POB1'] = pops_urban.copy()\n",
    "urban2clusters.loc[idx_urban,'geometry'] = geoms_urban.copy()\n",
    "\n",
    "print('# clusters after clustering:', urban2clusters['CLUSTER'].apply(len).sum())\n",
    "print('# blocks after clustering:', len(flatten_list(urban2clusters['CLUSTER'])))\n",
    "print('Population after clustering:', sum(urban2clusters['POB1'].sum()))\n",
    "\n",
    "end = timer()\n",
    "print('Computing Time:', round(end - start), 'sec')"
   ]
  },
  {
   "cell_type": "code",
   "execution_count": 17,
   "metadata": {},
   "outputs": [
    {
     "data": {
      "text/html": [
       "<div>\n",
       "<style scoped>\n",
       "    .dataframe tbody tr th:only-of-type {\n",
       "        vertical-align: middle;\n",
       "    }\n",
       "\n",
       "    .dataframe tbody tr th {\n",
       "        vertical-align: top;\n",
       "    }\n",
       "\n",
       "    .dataframe thead th {\n",
       "        text-align: right;\n",
       "    }\n",
       "</style>\n",
       "<table border=\"1\" class=\"dataframe\">\n",
       "  <thead>\n",
       "    <tr style=\"text-align: right;\">\n",
       "      <th></th>\n",
       "      <th></th>\n",
       "      <th>CLUSTER</th>\n",
       "      <th>POB1</th>\n",
       "      <th>geometry</th>\n",
       "    </tr>\n",
       "    <tr>\n",
       "      <th>MUNIC</th>\n",
       "      <th>URBAN</th>\n",
       "      <th></th>\n",
       "      <th></th>\n",
       "      <th></th>\n",
       "    </tr>\n",
       "  </thead>\n",
       "  <tbody>\n",
       "    <tr>\n",
       "      <th rowspan=\"5\" valign=\"top\">01001</th>\n",
       "      <th>010010001</th>\n",
       "      <td>[[0100100010229006, 0100100010229008], [010010...</td>\n",
       "      <td>[103, 307, 194, 246, 202, 154, 101, 173, 146, ...</td>\n",
       "      <td>[(POLYGON ((-102.2972162668094 21.931158026454...</td>\n",
       "    </tr>\n",
       "    <tr>\n",
       "      <th>010010239</th>\n",
       "      <td>[[0100102394185033, 0100102394185034, 01001023...</td>\n",
       "      <td>[186, 104, 164, 142, 360, 107, 102, 204, 107, ...</td>\n",
       "      <td>[(POLYGON ((-102.2091563725392 21.996354505718...</td>\n",
       "    </tr>\n",
       "    <tr>\n",
       "      <th>010010293</th>\n",
       "      <td>[[0100102933666004], [0100102933666005], [0100...</td>\n",
       "      <td>[156, 110, 124, 204, 303, 179, 237, 193, 232, ...</td>\n",
       "      <td>[(POLYGON ((-102.216099018286 21.8884090045941...</td>\n",
       "    </tr>\n",
       "    <tr>\n",
       "      <th>010010357</th>\n",
       "      <td>[[0100103574166010], [0100103574166001, 010010...</td>\n",
       "      <td>[139, 288, 140, 242, 206, 209, 117, 145, 142, ...</td>\n",
       "      <td>[(POLYGON ((-102.2061994330045 21.862280433716...</td>\n",
       "    </tr>\n",
       "    <tr>\n",
       "      <th>010010479</th>\n",
       "      <td>[[0100104792742006], [0100104792742017], [0100...</td>\n",
       "      <td>[111, 119, 114, 175, 166, 324, 142, 163, 265, ...</td>\n",
       "      <td>[(POLYGON ((-102.1880557592149 21.822819361578...</td>\n",
       "    </tr>\n",
       "  </tbody>\n",
       "</table>\n",
       "</div>"
      ],
      "text/plain": [
       "                                                           CLUSTER  \\\n",
       "MUNIC URBAN                                                          \n",
       "01001 010010001  [[0100100010229006, 0100100010229008], [010010...   \n",
       "      010010239  [[0100102394185033, 0100102394185034, 01001023...   \n",
       "      010010293  [[0100102933666004], [0100102933666005], [0100...   \n",
       "      010010357  [[0100103574166010], [0100103574166001, 010010...   \n",
       "      010010479  [[0100104792742006], [0100104792742017], [0100...   \n",
       "\n",
       "                                                              POB1  \\\n",
       "MUNIC URBAN                                                          \n",
       "01001 010010001  [103, 307, 194, 246, 202, 154, 101, 173, 146, ...   \n",
       "      010010239  [186, 104, 164, 142, 360, 107, 102, 204, 107, ...   \n",
       "      010010293  [156, 110, 124, 204, 303, 179, 237, 193, 232, ...   \n",
       "      010010357  [139, 288, 140, 242, 206, 209, 117, 145, 142, ...   \n",
       "      010010479  [111, 119, 114, 175, 166, 324, 142, 163, 265, ...   \n",
       "\n",
       "                                                          geometry  \n",
       "MUNIC URBAN                                                         \n",
       "01001 010010001  [(POLYGON ((-102.2972162668094 21.931158026454...  \n",
       "      010010239  [(POLYGON ((-102.2091563725392 21.996354505718...  \n",
       "      010010293  [(POLYGON ((-102.216099018286 21.8884090045941...  \n",
       "      010010357  [(POLYGON ((-102.2061994330045 21.862280433716...  \n",
       "      010010479  [(POLYGON ((-102.1880557592149 21.822819361578...  "
      ]
     },
     "execution_count": 17,
     "metadata": {},
     "output_type": "execute_result"
    }
   ],
   "source": [
    "urban2clusters.head()"
   ]
  },
  {
   "cell_type": "code",
   "execution_count": 18,
   "metadata": {},
   "outputs": [
    {
     "name": "stdout",
     "output_type": "stream",
     "text": [
      "Flatten list of clusters\n",
      "Computing Time: 35 sec\n"
     ]
    }
   ],
   "source": [
    "print('Flatten list of clusters')\n",
    "start = timer()\n",
    "\n",
    "clusters = gpd.GeoDataFrame(pd.concat([\n",
    "urban2clusters['CLUSTER'].apply(pd.Series).stack().reset_index(level=2, drop=True).to_frame('CLUSTER'),\n",
    "urban2clusters['POB1'].apply(pd.Series).stack().reset_index(level=2, drop=True).to_frame('POB1'),],1), \n",
    "geometry=urban2clusters['geometry'].apply(pd.Series).stack().reset_index(level=2, drop=True))\n",
    "\n",
    "end = timer()\n",
    "print('Computing Time:', round(end - start), 'sec')"
   ]
  },
  {
   "cell_type": "code",
   "execution_count": 19,
   "metadata": {},
   "outputs": [
    {
     "data": {
      "text/html": [
       "<div>\n",
       "<style scoped>\n",
       "    .dataframe tbody tr th:only-of-type {\n",
       "        vertical-align: middle;\n",
       "    }\n",
       "\n",
       "    .dataframe tbody tr th {\n",
       "        vertical-align: top;\n",
       "    }\n",
       "\n",
       "    .dataframe thead th {\n",
       "        text-align: right;\n",
       "    }\n",
       "</style>\n",
       "<table border=\"1\" class=\"dataframe\">\n",
       "  <thead>\n",
       "    <tr style=\"text-align: right;\">\n",
       "      <th></th>\n",
       "      <th></th>\n",
       "      <th>CLUSTER</th>\n",
       "      <th>POB1</th>\n",
       "      <th>geometry</th>\n",
       "    </tr>\n",
       "    <tr>\n",
       "      <th>MUNIC</th>\n",
       "      <th>URBAN</th>\n",
       "      <th></th>\n",
       "      <th></th>\n",
       "      <th></th>\n",
       "    </tr>\n",
       "  </thead>\n",
       "  <tbody>\n",
       "    <tr>\n",
       "      <th rowspan=\"5\" valign=\"top\">01001</th>\n",
       "      <th>010010001</th>\n",
       "      <td>[0100100010229006, 0100100010229008]</td>\n",
       "      <td>103.0</td>\n",
       "      <td>(POLYGON ((-102.2972162668094 21.9311580264542...</td>\n",
       "    </tr>\n",
       "    <tr>\n",
       "      <th>010010001</th>\n",
       "      <td>[0100100010229007, 0100100010229019, 010010001...</td>\n",
       "      <td>307.0</td>\n",
       "      <td>(POLYGON ((-102.2960545266846 21.9172431949010...</td>\n",
       "    </tr>\n",
       "    <tr>\n",
       "      <th>010010001</th>\n",
       "      <td>[0100100010233001]</td>\n",
       "      <td>194.0</td>\n",
       "      <td>(POLYGON ((-102.3172373846377 21.9077531607741...</td>\n",
       "    </tr>\n",
       "    <tr>\n",
       "      <th>010010001</th>\n",
       "      <td>[0100100010233005]</td>\n",
       "      <td>246.0</td>\n",
       "      <td>(POLYGON ((-102.319460545915 21.90867287089753...</td>\n",
       "    </tr>\n",
       "    <tr>\n",
       "      <th>010010001</th>\n",
       "      <td>[0100100010233012]</td>\n",
       "      <td>202.0</td>\n",
       "      <td>(POLYGON ((-102.3088704296389 21.9029877168594...</td>\n",
       "    </tr>\n",
       "  </tbody>\n",
       "</table>\n",
       "</div>"
      ],
      "text/plain": [
       "                                                           CLUSTER   POB1  \\\n",
       "MUNIC URBAN                                                                 \n",
       "01001 010010001               [0100100010229006, 0100100010229008]  103.0   \n",
       "      010010001  [0100100010229007, 0100100010229019, 010010001...  307.0   \n",
       "      010010001                                 [0100100010233001]  194.0   \n",
       "      010010001                                 [0100100010233005]  246.0   \n",
       "      010010001                                 [0100100010233012]  202.0   \n",
       "\n",
       "                                                          geometry  \n",
       "MUNIC URBAN                                                         \n",
       "01001 010010001  (POLYGON ((-102.2972162668094 21.9311580264542...  \n",
       "      010010001  (POLYGON ((-102.2960545266846 21.9172431949010...  \n",
       "      010010001  (POLYGON ((-102.3172373846377 21.9077531607741...  \n",
       "      010010001  (POLYGON ((-102.319460545915 21.90867287089753...  \n",
       "      010010001  (POLYGON ((-102.3088704296389 21.9029877168594...  "
      ]
     },
     "execution_count": 19,
     "metadata": {},
     "output_type": "execute_result"
    }
   ],
   "source": [
    "clusters.head()"
   ]
  },
  {
   "cell_type": "markdown",
   "metadata": {},
   "source": [
    "# Remove Non-dissolved Children Shapes"
   ]
  },
  {
   "cell_type": "code",
   "execution_count": 20,
   "metadata": {},
   "outputs": [
    {
     "name": "stdout",
     "output_type": "stream",
     "text": [
      "Retrieve children of non-empty parents each cluster\n",
      "Computing Time: 115 sec\n"
     ]
    }
   ],
   "source": [
    "print('Retrieve children of non-empty parents each cluster')\n",
    "start = timer()\n",
    "\n",
    "# Non-empty parents containing non-empty children \n",
    "parents_list = list(set(parent2children.index.get_level_values('BLOCK').unique()).difference(empty_blocks))\n",
    "\n",
    "# Non-empty parents to list of non-empty children\n",
    "parent2childrenlist=parent2children.reset_index(\n",
    "drop=True,level=['MUNIC','URBAN','AGEB'])['CLUSTER'].apply(flatten_list).drop(empty_blocks,errors='ignore')\n",
    "\n",
    "def get_children(parents):\n",
    "    children = []\n",
    "    for parent in parents:\n",
    "        children+=parent2childrenlist[parent]\n",
    "    return children\n",
    "\n",
    "clusters['PARENTS'] = clusters['CLUSTER'].apply(lambda x:list(set(x).intersection(parents_list)))\n",
    "clusters['CHILDREN'] = clusters['PARENTS'].apply(get_children)\n",
    "clusters['DISSOLVED_CHILDREN'] = clusters.apply(lambda x:list(set(x['CHILDREN']).intersection(x['CLUSTER'])),1)\n",
    "clusters['NON_DISSOLVED_CHILDREN'] = clusters.apply(lambda x:list(set(x['CHILDREN']).difference(x['CLUSTER'])),1)\n",
    "\n",
    "end = timer()\n",
    "print('Computing Time:', round(end - start), 'sec')"
   ]
  },
  {
   "cell_type": "code",
   "execution_count": 21,
   "metadata": {},
   "outputs": [
    {
     "name": "stdout",
     "output_type": "stream",
     "text": [
      "Remove non-dissolved children from each non-empty parents geometry\n",
      "Computing Time: 119 sec\n"
     ]
    }
   ],
   "source": [
    "print('Remove non-dissolved children from each non-empty parents geometry')\n",
    "start = timer()\n",
    "\n",
    "with mp.Pool() as pool:\n",
    "    clusters['GEOM_DISSOLVED_CHILDREN'] = pool.map(union_geoms, clusters['DISSOLVED_CHILDREN'])\n",
    "\n",
    "with mp.Pool() as pool:\n",
    "    clusters['GEOM_NON_DISSOLVED_CHILDREN'] = pool.map(union_geoms, clusters['NON_DISSOLVED_CHILDREN'])\n",
    "\n",
    "clusters['geometry'] = clusters.apply(lambda x:x['geometry'].difference(x['GEOM_NON_DISSOLVED_CHILDREN']),1)\n",
    "\n",
    "end = timer()\n",
    "print('Computing Time:', round(end - start), 'sec')"
   ]
  },
  {
   "cell_type": "code",
   "execution_count": 22,
   "metadata": {},
   "outputs": [
    {
     "name": "stdout",
     "output_type": "stream",
     "text": [
      "# non-empty parents 844\n",
      "# non-empty parents clustered 844\n",
      "# non-empty children in non-empty parent 7176\n",
      "# non-empty children in non-empty parent clustered 7176\n",
      "# non-empty dissolved children of non-empty parents 1153\n",
      "# non-empty non-dissolved children of non-empty parents 6023\n",
      "Area of all blocks: 1.641465654837783\n",
      "Area of all clusters: 1.6414656548377828\n"
     ]
    }
   ],
   "source": [
    "print('# non-empty parents', len(set(parents_list)))\n",
    "print('# non-empty parents clustered', clusters['PARENTS'].apply(len).sum())\n",
    "\n",
    "print('# non-empty children in non-empty parent',parent2childrenlist.apply(len).sum())\n",
    "print('# non-empty children in non-empty parent clustered', clusters['CHILDREN'].apply(len).sum())\n",
    "\n",
    "print('# non-empty dissolved children of non-empty parents', clusters['DISSOLVED_CHILDREN'].apply(len).sum())\n",
    "print('# non-empty non-dissolved children of non-empty parents', clusters['NON_DISSOLVED_CHILDREN'].apply(len).sum())\n",
    "\n",
    "print('Area of all blocks:', blocks.geometry.area.sum())\n",
    "print('Area of all clusters:', clusters.apply(\n",
    "lambda x:\\\n",
    "x['geometry'].area+\\\n",
    "x['GEOM_DISSOLVED_CHILDREN'].area+\\\n",
    "x['GEOM_NON_DISSOLVED_CHILDREN'].area,1).sum()+\\\n",
    "blocks.loc[empty_blocks].geometry.area.sum())"
   ]
  },
  {
   "cell_type": "code",
   "execution_count": 23,
   "metadata": {},
   "outputs": [
    {
     "name": "stdout",
     "output_type": "stream",
     "text": [
      "Save\n",
      "Computing Time: 24 sec\n"
     ]
    }
   ],
   "source": [
    "print('Save')\n",
    "start = timer()\n",
    "\n",
    "clusters.to_pickle(path_to_data+'clusters-urban-mexico.pkl')\n",
    "\n",
    "end = timer()\n",
    "print('Computing Time:', round(end - start), 'sec')"
   ]
  },
  {
   "cell_type": "markdown",
   "metadata": {},
   "source": [
    "# Extract Rural Areas"
   ]
  },
  {
   "cell_type": "code",
   "execution_count": 24,
   "metadata": {},
   "outputs": [
    {
     "name": "stdout",
     "output_type": "stream",
     "text": [
      "# invalid clusters: 14\n"
     ]
    }
   ],
   "source": [
    "# Urban areas that are below the privacy threshold will be dissolved\n",
    "def check_validity(data=clusters, pop_col='POB1', pop_threshold=100):\n",
    "    \n",
    "    valid = data.loc[data[pop_col]>=pop_threshold].copy()\n",
    "    invalid = data.loc[data[pop_col]<pop_threshold].copy()\n",
    "    \n",
    "    return valid, invalid\n",
    "\n",
    "clusters_valid, clusters_invalid = check_validity()\n",
    "\n",
    "print('# invalid clusters:', clusters_invalid.shape[0])"
   ]
  },
  {
   "cell_type": "code",
   "execution_count": 25,
   "metadata": {},
   "outputs": [
    {
     "name": "stdout",
     "output_type": "stream",
     "text": [
      "Compute rural areas populations\n",
      "# non-empty rural areas: 2398\n",
      "Computing Time: 0 sec\n"
     ]
    }
   ],
   "source": [
    "print('Compute rural areas populations')\n",
    "start = timer()\n",
    "\n",
    "# Subtracting the population of valid urban areas from the populations of municipalities\n",
    "pops_rural = munic.set_index('MUNIC')[['POB1']].subtract(\n",
    "clusters_valid.groupby('MUNIC')[['POB1']].sum(),fill_value=0).sort_index().reset_index()\n",
    "\n",
    "# Only keep non empty rural areas\n",
    "pops_rural = pops_rural[pops_rural['POB1']>0].copy()\n",
    "pops_rural.POB1 = pops_rural.POB1.astype(int)\n",
    "print('# non-empty rural areas:', pops_rural.shape[0])\n",
    "\n",
    "end = timer()\n",
    "print('Computing Time:', round(end - start), 'sec')"
   ]
  },
  {
   "cell_type": "code",
   "execution_count": 26,
   "metadata": {},
   "outputs": [
    {
     "name": "stdout",
     "output_type": "stream",
     "text": [
      "Compute rural areas geometries\n",
      "# rural areas: 2452\n",
      "# municipality areas fully covered by valid urban areas: 4\n",
      "Computing Time: 160 sec\n"
     ]
    }
   ],
   "source": [
    "print('Compute rural areas geometries')\n",
    "start = timer()\n",
    "\n",
    "# Remove the geometries of urban areas that were above the privacy threshold from municipality areas geometries\n",
    "geoms_rural = gpd.overlay(\n",
    "munic[['MUNIC','geometry']], \n",
    "urban.loc[urban['URBAN'].isin(clusters_valid.index.get_level_values('URBAN').unique()),['geometry']], \n",
    "how='difference')\n",
    "\n",
    "print('# rural areas:', geoms_rural.shape[0])\n",
    "print('# municipality areas fully covered by valid urban areas:', munic.shape[0]-geoms_rural.shape[0])\n",
    "\n",
    "end = timer()\n",
    "print('Computing Time:', round(end - start), 'sec')"
   ]
  },
  {
   "cell_type": "markdown",
   "metadata": {},
   "source": [
    "# Cluster Rural Areas"
   ]
  },
  {
   "cell_type": "code",
   "execution_count": 27,
   "metadata": {},
   "outputs": [
    {
     "name": "stdout",
     "output_type": "stream",
     "text": [
      "Cluster Rural Areas:\n",
      "# rural shapes before clustering: 2398\n",
      "Rural population before clustering: 25352508\n",
      "Rural area before clustering: 172.61292698777646\n",
      "# rural clusters after clustering: 2398\n",
      "Rural population after clustering: 25352508\n",
      "Rural area after clustering: 172.61292698777646\n",
      "Computing Time: 2024 sec\n"
     ]
    }
   ],
   "source": [
    "print('Cluster Rural Areas:')\n",
    "start = timer()\n",
    "\n",
    "# Some rural areas are below the privacy threshold\n",
    "rural = gpd.GeoDataFrame(pd.merge(geoms_rural,pops_rural,on='MUNIC')[\n",
    "['MUNIC','POB1','geometry']]).sort_values(by='MUNIC').reset_index(drop=True)\n",
    "\n",
    "print('# rural shapes before clustering:', rural['MUNIC'].shape[0])\n",
    "print('Rural population before clustering:', sum(rural['POB1']))\n",
    "print('Rural area before clustering:', rural.geometry.area.sum())\n",
    "\n",
    "# Cluster rural areas computing distances in parallel\n",
    "x_rural = cluster_shapes(\n",
    "rural['MUNIC'].apply(lambda x:[x]).tolist(),\n",
    "rural['POB1'].tolist(),\n",
    "rural['geometry'].tolist(),\n",
    "mp_dists=True,\n",
    ")\n",
    "\n",
    "# Unravel output\n",
    "clusters_rural = gpd.GeoDataFrame(zip(*x_rural),columns=['CLUSTER','POB1','geometry'])\n",
    "\n",
    "print('# rural clusters after clustering:', clusters_rural['CLUSTER'].apply(len).sum())\n",
    "print('Rural population after clustering:', sum(clusters_rural['POB1']))\n",
    "print('Rural area after clustering:', clusters_rural['geometry'].area.sum())\n",
    "\n",
    "end = timer()\n",
    "print('Computing Time:', round(end - start), 'sec')"
   ]
  },
  {
   "cell_type": "code",
   "execution_count": 28,
   "metadata": {},
   "outputs": [
    {
     "data": {
      "text/html": [
       "<div>\n",
       "<style scoped>\n",
       "    .dataframe tbody tr th:only-of-type {\n",
       "        vertical-align: middle;\n",
       "    }\n",
       "\n",
       "    .dataframe tbody tr th {\n",
       "        vertical-align: top;\n",
       "    }\n",
       "\n",
       "    .dataframe thead th {\n",
       "        text-align: right;\n",
       "    }\n",
       "</style>\n",
       "<table border=\"1\" class=\"dataframe\">\n",
       "  <thead>\n",
       "    <tr style=\"text-align: right;\">\n",
       "      <th></th>\n",
       "      <th>CLUSTER</th>\n",
       "      <th>POB1</th>\n",
       "      <th>geometry</th>\n",
       "    </tr>\n",
       "  </thead>\n",
       "  <tbody>\n",
       "    <tr>\n",
       "      <th>0</th>\n",
       "      <td>[01001]</td>\n",
       "      <td>56330</td>\n",
       "      <td>(POLYGON ((-102.1064122399267 22.0603544130303...</td>\n",
       "    </tr>\n",
       "    <tr>\n",
       "      <th>1</th>\n",
       "      <td>[01002]</td>\n",
       "      <td>32739</td>\n",
       "      <td>POLYGON ((-102.051893439036 22.29143529350414,...</td>\n",
       "    </tr>\n",
       "    <tr>\n",
       "      <th>2</th>\n",
       "      <td>[01003]</td>\n",
       "      <td>27480</td>\n",
       "      <td>POLYGON ((-102.6856884472506 22.09962730886251...</td>\n",
       "    </tr>\n",
       "    <tr>\n",
       "      <th>3</th>\n",
       "      <td>[01004]</td>\n",
       "      <td>10144</td>\n",
       "      <td>POLYGON ((-102.287865181776 22.41649003941679,...</td>\n",
       "    </tr>\n",
       "    <tr>\n",
       "      <th>4</th>\n",
       "      <td>[01005]</td>\n",
       "      <td>31515</td>\n",
       "      <td>POLYGON ((-102.3356775711372 22.05066521496391...</td>\n",
       "    </tr>\n",
       "  </tbody>\n",
       "</table>\n",
       "</div>"
      ],
      "text/plain": [
       "   CLUSTER   POB1                                           geometry\n",
       "0  [01001]  56330  (POLYGON ((-102.1064122399267 22.0603544130303...\n",
       "1  [01002]  32739  POLYGON ((-102.051893439036 22.29143529350414,...\n",
       "2  [01003]  27480  POLYGON ((-102.6856884472506 22.09962730886251...\n",
       "3  [01004]  10144  POLYGON ((-102.287865181776 22.41649003941679,...\n",
       "4  [01005]  31515  POLYGON ((-102.3356775711372 22.05066521496391..."
      ]
     },
     "execution_count": 28,
     "metadata": {},
     "output_type": "execute_result"
    }
   ],
   "source": [
    "clusters_rural.head()"
   ]
  },
  {
   "cell_type": "code",
   "execution_count": 29,
   "metadata": {},
   "outputs": [
    {
     "name": "stdout",
     "output_type": "stream",
     "text": [
      "Save\n",
      "Computing Time: 1 sec\n"
     ]
    }
   ],
   "source": [
    "print('Save')\n",
    "start = timer()\n",
    "\n",
    "clusters_rural.to_pickle(path_to_data+'clusters/clusters-rural-mexico.pkl')\n",
    "\n",
    "end = timer()\n",
    "print('Computing Time:', round(end - start), 'sec')"
   ]
  },
  {
   "cell_type": "markdown",
   "metadata": {},
   "source": [
    "# Combine All Clusters"
   ]
  },
  {
   "cell_type": "code",
   "execution_count": 30,
   "metadata": {},
   "outputs": [
    {
     "name": "stdout",
     "output_type": "stream",
     "text": [
      "Finalize Clusters:\n",
      "Population: 112336538\n",
      "Population clusters: 112336538\n",
      "Min. population clusters: 100\n",
      "Computing Time: 14 sec\n"
     ]
    }
   ],
   "source": [
    "print('Finalize Clusters:')\n",
    "start = timer()\n",
    "\n",
    "# Combine Urban and Rural Clusters\n",
    "clusters_final = pd.concat([clusters_valid[['CLUSTER', 'POB1', 'geometry']],clusters_rural],sort=True)\n",
    "\n",
    "# Sort by population and area\n",
    "clusters_final = pd.concat([\n",
    "clusters_final,clusters_final.geometry.area.rename('area'),\n",
    "],1).sort_values(by=['POB1','area']).drop('area',1).reset_index(\n",
    "drop=True).reset_index().rename(columns={\n",
    "'index':'cluster','POB1':'population','CLUSTER':'cvegeo'})\n",
    "\n",
    "clusters_final.population = clusters_final.population.astype(int)\n",
    "\n",
    "clusters_final['geometry']=\\\n",
    "[MultiPolygon([feature]) if type(feature)==Polygon else feature for feature in clusters_final['geometry']]\n",
    "\n",
    "clusters_final = clusters_final.reindex(columns=['cluster', 'population', 'cvegeo', 'geometry'])\n",
    "\n",
    "print('Population:', munic.POB1.sum())\n",
    "print('Population clusters:', clusters_final.population.sum())\n",
    "print('Min. population clusters:', clusters_final.population.min())\n",
    "\n",
    "end = timer()\n",
    "print('Computing Time:', round(end - start), 'sec')"
   ]
  },
  {
   "cell_type": "code",
   "execution_count": 31,
   "metadata": {},
   "outputs": [
    {
     "data": {
      "text/html": [
       "<div>\n",
       "<style scoped>\n",
       "    .dataframe tbody tr th:only-of-type {\n",
       "        vertical-align: middle;\n",
       "    }\n",
       "\n",
       "    .dataframe tbody tr th {\n",
       "        vertical-align: top;\n",
       "    }\n",
       "\n",
       "    .dataframe thead th {\n",
       "        text-align: right;\n",
       "    }\n",
       "</style>\n",
       "<table border=\"1\" class=\"dataframe\">\n",
       "  <thead>\n",
       "    <tr style=\"text-align: right;\">\n",
       "      <th></th>\n",
       "      <th>cluster</th>\n",
       "      <th>population</th>\n",
       "      <th>cvegeo</th>\n",
       "      <th>geometry</th>\n",
       "    </tr>\n",
       "  </thead>\n",
       "  <tbody>\n",
       "    <tr>\n",
       "      <th>0</th>\n",
       "      <td>0</td>\n",
       "      <td>100</td>\n",
       "      <td>[0901600010514003]</td>\n",
       "      <td>(POLYGON ((-99.22546446460659 19.4323776478605...</td>\n",
       "    </tr>\n",
       "    <tr>\n",
       "      <th>1</th>\n",
       "      <td>1</td>\n",
       "      <td>100</td>\n",
       "      <td>[0900300011552027]</td>\n",
       "      <td>(POLYGON ((-99.17264961758036 19.3104308113713...</td>\n",
       "    </tr>\n",
       "    <tr>\n",
       "      <th>2</th>\n",
       "      <td>2</td>\n",
       "      <td>100</td>\n",
       "      <td>[1510900031059057]</td>\n",
       "      <td>(POLYGON ((-99.16810817973173 19.6222906553012...</td>\n",
       "    </tr>\n",
       "    <tr>\n",
       "      <th>3</th>\n",
       "      <td>3</td>\n",
       "      <td>100</td>\n",
       "      <td>[1409800012432018]</td>\n",
       "      <td>(POLYGON ((-103.3504229026755 20.6059711208537...</td>\n",
       "    </tr>\n",
       "    <tr>\n",
       "      <th>4</th>\n",
       "      <td>4</td>\n",
       "      <td>100</td>\n",
       "      <td>[0900600011179011]</td>\n",
       "      <td>(POLYGON ((-99.06789319473418 19.4092513064329...</td>\n",
       "    </tr>\n",
       "  </tbody>\n",
       "</table>\n",
       "</div>"
      ],
      "text/plain": [
       "   cluster  population              cvegeo  \\\n",
       "0        0         100  [0901600010514003]   \n",
       "1        1         100  [0900300011552027]   \n",
       "2        2         100  [1510900031059057]   \n",
       "3        3         100  [1409800012432018]   \n",
       "4        4         100  [0900600011179011]   \n",
       "\n",
       "                                            geometry  \n",
       "0  (POLYGON ((-99.22546446460659 19.4323776478605...  \n",
       "1  (POLYGON ((-99.17264961758036 19.3104308113713...  \n",
       "2  (POLYGON ((-99.16810817973173 19.6222906553012...  \n",
       "3  (POLYGON ((-103.3504229026755 20.6059711208537...  \n",
       "4  (POLYGON ((-99.06789319473418 19.4092513064329...  "
      ]
     },
     "execution_count": 31,
     "metadata": {},
     "output_type": "execute_result"
    }
   ],
   "source": [
    "clusters_final.head()"
   ]
  },
  {
   "cell_type": "code",
   "execution_count": 33,
   "metadata": {},
   "outputs": [
    {
     "name": "stdout",
     "output_type": "stream",
     "text": [
      "Save\n",
      "Computing Time: 287 sec\n"
     ]
    }
   ],
   "source": [
    "print('Save')\n",
    "start = timer()\n",
    "\n",
    "clusters_final.to_pickle(path_to_data+'clusters/clusters-mexico.pkl')\n",
    "clusters_final.drop('cvegeo',1).to_file(path_to_data+'clusters/clusters-mexico.geojson', driver='GeoJSON')\n",
    "\n",
    "end = timer()\n",
    "print('Computing Time:', round(end - start), 'sec')"
   ]
  }
 ],
 "metadata": {
  "kernelspec": {
   "display_name": "Python 3",
   "language": "python",
   "name": "python3"
  },
  "language_info": {
   "codemirror_mode": {
    "name": "ipython",
    "version": 3
   },
   "file_extension": ".py",
   "mimetype": "text/x-python",
   "name": "python",
   "nbconvert_exporter": "python",
   "pygments_lexer": "ipython3",
   "version": "3.7.4"
  }
 },
 "nbformat": 4,
 "nbformat_minor": 2
}
