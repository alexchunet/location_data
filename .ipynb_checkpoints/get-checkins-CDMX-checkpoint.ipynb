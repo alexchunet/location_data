{
 "cells": [
  {
   "cell_type": "code",
   "execution_count": 1,
   "metadata": {},
   "outputs": [],
   "source": [
    "import os\n",
    "import sys\n",
    "import socket\n",
    "from timeit import default_timer as timer\n",
    "from datetime import datetime\n",
    "import pandas as pd\n",
    "\n",
    "from pyspark.sql import SparkSession\n",
    "from pyspark.sql.functions import udf, col\n",
    "import pyspark.sql.functions as F\n",
    "from pyspark.sql.types import MapType, StringType, IntegerType, StructType, StructField, FloatType, ArrayType"
   ]
  },
  {
   "cell_type": "code",
   "execution_count": 2,
   "metadata": {},
   "outputs": [
    {
     "name": "stdout",
     "output_type": "stream",
     "text": [
      "Hostname: Samuels-MacBook-Pro.local\n"
     ]
    }
   ],
   "source": [
    "try:\n",
    "    spark\n",
    "except NameError:\n",
    "    if 'samuel' in socket.gethostname().lower():\n",
    "        print('Create Local SparkSession')\n",
    "        spark = SparkSession.builder.config(\n",
    "        \"spark.driver.host\", \"localhost\").appName(\n",
    "        \"get-checkins-CDMX\").getOrCreate()\n",
    "    else:\n",
    "        print('Create Cluster SparkSession')\n",
    "        spark = SparkSession.builder.appName(\n",
    "        \"get-checkins-CDMX\").getOrCreate()\n",
    "        \n",
    "# Local\n",
    "print('Hostname:', socket.gethostname())\n",
    "if 'samuel' in socket.gethostname().lower():\n",
    "    path_to_tweets = '../../twitter/data/decahose/parsed/tweets/tweets-with-geocoordinates-or-place-extract/'\n",
    "    path_to_pois   = '../data/pois/'\n",
    "    path_to_output = '../data/'\n",
    "# Cluster\n",
    "else:\n",
    "    path_to_tweets = '/user/spf248/twitter/data/decahose/parsed/tweets/tweets-with-geocoordinates-or-place-extract/'\n",
    "    path_to_pois   = '/user/spf248/twitter/data/pois/'\n",
    "    path_to_output = '/user/spf248/twitter/data/decahose/parsed/tweets/'"
   ]
  },
  {
   "cell_type": "code",
   "execution_count": 3,
   "metadata": {},
   "outputs": [
    {
     "name": "stdout",
     "output_type": "stream",
     "text": [
      "Import Tweets:\n",
      "Computing Time: 4 sec\n"
     ]
    }
   ],
   "source": [
    "print('Import Tweets:')\n",
    "start = timer()\n",
    "\n",
    "# tweets = spark.read.parquet(path_to_tweets+'part-00117-b7cf4768-c0a8-43db-86bd-d13b5a84ffbb-c000.snappy.parquet')\n",
    "tweets = spark.read.parquet(path_to_tweets+'*.snappy.parquet')\n",
    "\n",
    "end = timer()\n",
    "print('Computing Time:', round(end - start), 'sec')"
   ]
  },
  {
   "cell_type": "code",
   "execution_count": 4,
   "metadata": {},
   "outputs": [
    {
     "name": "stdout",
     "output_type": "stream",
     "text": [
      "Import POIS:\n",
      "Computing Time: 2 sec\n"
     ]
    }
   ],
   "source": [
    "print('Import POIS:')\n",
    "start = timer()\n",
    "    \n",
    "pois = spark.read.option('header','true').csv(path_to_pois+'pois-twitter-cdmx.csv')\n",
    "\n",
    "end = timer()\n",
    "print('Computing Time:', round(end - start), 'sec')"
   ]
  },
  {
   "cell_type": "code",
   "execution_count": 5,
   "metadata": {},
   "outputs": [
    {
     "name": "stdout",
     "output_type": "stream",
     "text": [
      "Merge on Place ID\n"
     ]
    }
   ],
   "source": [
    "print('Merge on Place ID')\n",
    "tweets = tweets.join(pois.withColumnRenamed('id','place_id').select('place_id'), on='place_id', how='inner')"
   ]
  },
  {
   "cell_type": "code",
   "execution_count": 6,
   "metadata": {},
   "outputs": [
    {
     "name": "stdout",
     "output_type": "stream",
     "text": [
      "Save\n",
      "Computing Time: 3 sec\n"
     ]
    }
   ],
   "source": [
    "print('Save')\n",
    "start = timer()\n",
    "\n",
    "tweets.write.mode(\"overwrite\").parquet(path_to_output+'checkins-cdmx')\n",
    "\n",
    "end = timer()\n",
    "print('Computing Time:', round(end - start), 'sec')"
   ]
  }
 ],
 "metadata": {
  "kernelspec": {
   "display_name": "Python 3",
   "language": "python",
   "name": "python3"
  },
  "language_info": {
   "codemirror_mode": {
    "name": "ipython",
    "version": 3
   },
   "file_extension": ".py",
   "mimetype": "text/x-python",
   "name": "python",
   "nbconvert_exporter": "python",
   "pygments_lexer": "ipython3",
   "version": "3.7.3"
  }
 },
 "nbformat": 4,
 "nbformat_minor": 2
}
