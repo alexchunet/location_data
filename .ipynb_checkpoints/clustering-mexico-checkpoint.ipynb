{
 "cells": [
  {
   "cell_type": "markdown",
   "metadata": {},
   "source": [
    "In more general case, allow merges between urban areas if distance below a threshold.\n",
    "\n",
    "If blocks are always separated by streets of urban amenities then the average distance between blocks that are allowed to merged will be much less than the one between blocks which are parts of two cities which are far away to one another. So we would probably get the same results using a statistical criterion."
   ]
  },
  {
   "cell_type": "code",
   "execution_count": 1,
   "metadata": {},
   "outputs": [],
   "source": [
    "from timeit import default_timer as timer\n",
    "import geopandas as gpd\n",
    "import pandas as pd\n",
    "import numpy as np\n",
    "from shapely.ops import cascaded_union, unary_union, polygonize\n",
    "from shapely.geometry import MultiPolygon, Polygon\n",
    "import multiprocessing as mp\n",
    "import matplotlib.pyplot as plt\n",
    "import itertools"
   ]
  },
  {
   "cell_type": "code",
   "execution_count": 2,
   "metadata": {},
   "outputs": [],
   "source": [
    "path_to_data = '/scratch/spf248/cuebiq/data/'"
   ]
  },
  {
   "cell_type": "code",
   "execution_count": 3,
   "metadata": {},
   "outputs": [
    {
     "name": "stdout",
     "output_type": "stream",
     "text": [
      "Import Census Shapes\n",
      "# Blocks: 1376969\n",
      "# Urban: 4525\n",
      "# Munic: 2456\n",
      "Computing Time: 218 sec\n"
     ]
    }
   ],
   "source": [
    "print('Import Census Shapes')\n",
    "start = timer()\n",
    "\n",
    "blocks = gpd.read_file(path_to_data+'blocks-mexico.geojson')\n",
    "urban = gpd.read_file(path_to_data+'urban-mexico.geojson')\n",
    "munic = gpd.read_file(path_to_data+'munic-mexico.geojson')\n",
    "print('# Blocks:', blocks.shape[0])\n",
    "print('# Urban:', urban.shape[0])\n",
    "print('# Munic:', munic.shape[0])\n",
    "\n",
    "end = timer()\n",
    "print('Computing Time:', round(end - start), 'sec')"
   ]
  },
  {
   "cell_type": "code",
   "execution_count": 4,
   "metadata": {},
   "outputs": [],
   "source": [
    "blocks.set_index('BLOCK',inplace=True)"
   ]
  },
  {
   "cell_type": "code",
   "execution_count": 5,
   "metadata": {},
   "outputs": [
    {
     "data": {
      "text/html": [
       "<div>\n",
       "<style scoped>\n",
       "    .dataframe tbody tr th:only-of-type {\n",
       "        vertical-align: middle;\n",
       "    }\n",
       "\n",
       "    .dataframe tbody tr th {\n",
       "        vertical-align: top;\n",
       "    }\n",
       "\n",
       "    .dataframe thead th {\n",
       "        text-align: right;\n",
       "    }\n",
       "</style>\n",
       "<table border=\"1\" class=\"dataframe\">\n",
       "  <thead>\n",
       "    <tr style=\"text-align: right;\">\n",
       "      <th></th>\n",
       "      <th>AGEB</th>\n",
       "      <th>URBAN</th>\n",
       "      <th>MUNIC</th>\n",
       "      <th>POB1</th>\n",
       "      <th>geometry</th>\n",
       "    </tr>\n",
       "    <tr>\n",
       "      <th>BLOCK</th>\n",
       "      <th></th>\n",
       "      <th></th>\n",
       "      <th></th>\n",
       "      <th></th>\n",
       "      <th></th>\n",
       "    </tr>\n",
       "  </thead>\n",
       "  <tbody>\n",
       "    <tr>\n",
       "      <th>0100100010229001</th>\n",
       "      <td>0100100010229</td>\n",
       "      <td>010010001</td>\n",
       "      <td>01001</td>\n",
       "      <td>65</td>\n",
       "      <td>(POLYGON ((-102.295873492189 21.92998714417593...</td>\n",
       "    </tr>\n",
       "    <tr>\n",
       "      <th>0100100010229002</th>\n",
       "      <td>0100100010229</td>\n",
       "      <td>010010001</td>\n",
       "      <td>01001</td>\n",
       "      <td>0</td>\n",
       "      <td>(POLYGON ((-102.2919195976506 21.9231902834303...</td>\n",
       "    </tr>\n",
       "    <tr>\n",
       "      <th>0100100010229003</th>\n",
       "      <td>0100100010229</td>\n",
       "      <td>010010001</td>\n",
       "      <td>01001</td>\n",
       "      <td>0</td>\n",
       "      <td>(POLYGON ((-102.2916304870713 21.9189053905925...</td>\n",
       "    </tr>\n",
       "    <tr>\n",
       "      <th>0100100010229004</th>\n",
       "      <td>0100100010229</td>\n",
       "      <td>010010001</td>\n",
       "      <td>01001</td>\n",
       "      <td>0</td>\n",
       "      <td>(POLYGON ((-102.2948584083044 21.9171921055255...</td>\n",
       "    </tr>\n",
       "    <tr>\n",
       "      <th>0100100010229006</th>\n",
       "      <td>0100100010229</td>\n",
       "      <td>010010001</td>\n",
       "      <td>01001</td>\n",
       "      <td>25</td>\n",
       "      <td>(POLYGON ((-102.2962004535445 21.9312597033061...</td>\n",
       "    </tr>\n",
       "  </tbody>\n",
       "</table>\n",
       "</div>"
      ],
      "text/plain": [
       "                           AGEB      URBAN  MUNIC  POB1  \\\n",
       "BLOCK                                                     \n",
       "0100100010229001  0100100010229  010010001  01001    65   \n",
       "0100100010229002  0100100010229  010010001  01001     0   \n",
       "0100100010229003  0100100010229  010010001  01001     0   \n",
       "0100100010229004  0100100010229  010010001  01001     0   \n",
       "0100100010229006  0100100010229  010010001  01001    25   \n",
       "\n",
       "                                                           geometry  \n",
       "BLOCK                                                                \n",
       "0100100010229001  (POLYGON ((-102.295873492189 21.92998714417593...  \n",
       "0100100010229002  (POLYGON ((-102.2919195976506 21.9231902834303...  \n",
       "0100100010229003  (POLYGON ((-102.2916304870713 21.9189053905925...  \n",
       "0100100010229004  (POLYGON ((-102.2948584083044 21.9171921055255...  \n",
       "0100100010229006  (POLYGON ((-102.2962004535445 21.9312597033061...  "
      ]
     },
     "execution_count": 5,
     "metadata": {},
     "output_type": "execute_result"
    }
   ],
   "source": [
    "blocks.head()"
   ]
  },
  {
   "cell_type": "code",
   "execution_count": 6,
   "metadata": {},
   "outputs": [
    {
     "name": "stdout",
     "output_type": "stream",
     "text": [
      "Empty Blocks: 155073\n"
     ]
    }
   ],
   "source": [
    "empty_blocks = blocks.loc[blocks['POB1']==0].index.tolist()\n",
    "print('Empty Blocks:', len(empty_blocks))"
   ]
  },
  {
   "cell_type": "markdown",
   "metadata": {},
   "source": [
    "# Agglomerative Clustering of Children Blocks"
   ]
  },
  {
   "cell_type": "code",
   "execution_count": 7,
   "metadata": {},
   "outputs": [
    {
     "name": "stdout",
     "output_type": "stream",
     "text": [
      "Extract Nested Blocks\n",
      "Nested Blocks: 10005\n",
      "Computing Time: 456 sec\n"
     ]
    }
   ],
   "source": [
    "print('Extract Nested Blocks')\n",
    "start = timer()\n",
    "\n",
    "def nested_shapes(df,index_col='BLOCK'):\n",
    "    \n",
    "    # Find Shapes that are Contained in one Another\n",
    "    nested_shapes = gpd.sjoin(\n",
    "    df[['geometry']].reset_index(),\n",
    "    df[['geometry']].reset_index(),\n",
    "    op='contains',\n",
    "    lsuffix='parent',\n",
    "    rsuffix='child').drop(\n",
    "    ['index_child','geometry'],1)\n",
    "    \n",
    "    # Remove Original Shapes\n",
    "    nested_shapes = nested_shapes[\n",
    "    nested_shapes[(index_col+'_parent')]!=\\\n",
    "    nested_shapes[(index_col+'_child')]].sort_values(\n",
    "    by=[index_col+'_parent',index_col+'_child']).reset_index(drop=True)\n",
    "    \n",
    "    return nested_shapes\n",
    "\n",
    "nested_blocks = nested_shapes(blocks)\n",
    "print('Nested Blocks:', nested_blocks.shape[0])\n",
    "    \n",
    "end = timer()\n",
    "print('Computing Time:', round(end - start), 'sec')"
   ]
  },
  {
   "cell_type": "code",
   "execution_count": 8,
   "metadata": {},
   "outputs": [
    {
     "data": {
      "text/html": [
       "<div>\n",
       "<style scoped>\n",
       "    .dataframe tbody tr th:only-of-type {\n",
       "        vertical-align: middle;\n",
       "    }\n",
       "\n",
       "    .dataframe tbody tr th {\n",
       "        vertical-align: top;\n",
       "    }\n",
       "\n",
       "    .dataframe thead th {\n",
       "        text-align: right;\n",
       "    }\n",
       "</style>\n",
       "<table border=\"1\" class=\"dataframe\">\n",
       "  <thead>\n",
       "    <tr style=\"text-align: right;\">\n",
       "      <th></th>\n",
       "      <th>BLOCK_parent</th>\n",
       "      <th>BLOCK_child</th>\n",
       "    </tr>\n",
       "  </thead>\n",
       "  <tbody>\n",
       "    <tr>\n",
       "      <th>0</th>\n",
       "      <td>0200100010435033</td>\n",
       "      <td>0200100010435083</td>\n",
       "    </tr>\n",
       "    <tr>\n",
       "      <th>1</th>\n",
       "      <td>0200100010454041</td>\n",
       "      <td>0200100010454042</td>\n",
       "    </tr>\n",
       "    <tr>\n",
       "      <th>2</th>\n",
       "      <td>0200100010454041</td>\n",
       "      <td>0200100010454043</td>\n",
       "    </tr>\n",
       "    <tr>\n",
       "      <th>3</th>\n",
       "      <td>0200100010454041</td>\n",
       "      <td>0200100010454044</td>\n",
       "    </tr>\n",
       "    <tr>\n",
       "      <th>4</th>\n",
       "      <td>0200100010454041</td>\n",
       "      <td>0200100010454045</td>\n",
       "    </tr>\n",
       "  </tbody>\n",
       "</table>\n",
       "</div>"
      ],
      "text/plain": [
       "       BLOCK_parent       BLOCK_child\n",
       "0  0200100010435033  0200100010435083\n",
       "1  0200100010454041  0200100010454042\n",
       "2  0200100010454041  0200100010454043\n",
       "3  0200100010454041  0200100010454044\n",
       "4  0200100010454041  0200100010454045"
      ]
     },
     "execution_count": 8,
     "metadata": {},
     "output_type": "execute_result"
    }
   ],
   "source": [
    "nested_blocks.head()"
   ]
  },
  {
   "cell_type": "code",
   "execution_count": 9,
   "metadata": {},
   "outputs": [],
   "source": [
    "def cluster_shapes(clusters, data=blocks, pop_col='POB1', pop_threshold=100):\n",
    "    \n",
    "    # Initialize clusters populations\n",
    "    pops = [data.loc[cluster,pop_col].sum() for cluster in clusters]\n",
    "\n",
    "    # Initialize clusters geometry\n",
    "    geoms = [unary_union(data.loc[cluster,'geometry']) for cluster in clusters]\n",
    "        \n",
    "    # Stop if there is only one cluster left\n",
    "    while len(clusters) > 1:\n",
    "\n",
    "        # Create random vector to break ties\n",
    "        np.random.seed()\n",
    "        pops_tiebreak = np.random.random(len(pops))\n",
    "        \n",
    "        # Find the position of the cluster with the smallest population\n",
    "        pos_smallest = np.lexsort((pops_tiebreak, pops))[0]\n",
    "\n",
    "        # Stop if the smallest cluster is above the threshold\n",
    "        if pops[pos_smallest] >= pop_threshold:\n",
    "            break\n",
    "\n",
    "        # Compute distances to the smallest cluster\n",
    "        dists = [geom.distance(geoms[pos_smallest]) for geom in geoms]\n",
    "        \n",
    "        # Create random vector to break ties\n",
    "        np.random.seed()\n",
    "        dists_tiebreak = np.random.random(len(dists))\n",
    "        \n",
    "        # Find the position of the smallest cluster's closest neighboring cluster\n",
    "        pos_dists   = np.lexsort((dists_tiebreak, dists))\n",
    "        pos_closest = [pos for pos in pos_dists if pos != pos_smallest][0]\n",
    "        \n",
    "        # Create a new cluster merging the smallest cluster and its closest neighbor\n",
    "        new_cluster = clusters[pos_smallest] + clusters[pos_closest]\n",
    "        new_pop     = pops[pos_smallest] + pops[pos_closest]\n",
    "        new_geom    = unary_union([geoms[pos_smallest], geoms[pos_closest]])\n",
    "        \n",
    "        # Remove smallest cluster and its closest neighbor\n",
    "        clusters = [cluster for pos_cluster,cluster in enumerate(clusters) if pos_cluster not in [pos_smallest,pos_closest]]\n",
    "        pops     = [pop for pos_pop,pop in enumerate(pops) if pos_pop not in [pos_smallest,pos_closest]]\n",
    "        geoms    = [geom for pos_geom,geom in enumerate(geoms) if pos_geom not in [pos_smallest,pos_closest]]\n",
    "\n",
    "        # Append the new cluster and its population\n",
    "        clusters.append(new_cluster)\n",
    "        pops.append(new_pop)\n",
    "        geoms.append(new_geom)\n",
    "        \n",
    "    return clusters"
   ]
  },
  {
   "cell_type": "code",
   "execution_count": 10,
   "metadata": {},
   "outputs": [
    {
     "name": "stdout",
     "output_type": "stream",
     "text": [
      "Cluster Non-empty Children\n",
      "# Parent Blocks 1093\n",
      "# Parent 0\n",
      "# Parent 100\n",
      "# Parent 200\n",
      "# Parent 300\n",
      "# Parent 400\n",
      "# Parent 500\n",
      "# Parent 600\n",
      "# Parent 700\n",
      "# Parent 800\n",
      "# Parent 900\n",
      "# Parent 1000\n",
      "# Children Before: 9621\n",
      "# Children After: 9621\n",
      "# Children Clusters: 3268\n",
      "Computing Time: 78 sec\n"
     ]
    }
   ],
   "source": [
    "start = timer()\n",
    "print('Cluster Non-empty Children')\n",
    "\n",
    "parent2children = nested_blocks.groupby('BLOCK_parent')['BLOCK_child'].apply(\n",
    "lambda children:[[child] for child in children if child not in empty_blocks]).to_dict()\n",
    "print('# Parent Blocks', len(parent2children))\n",
    "\n",
    "clusters_children = []\n",
    "for i,idx_parent in enumerate(parent2children):\n",
    "    \n",
    "    if not i%100:\n",
    "        print('# Parent', i)\n",
    "        \n",
    "    # Cluster children\n",
    "    clusters_children += cluster_shapes(parent2children[idx_parent])\n",
    "\n",
    "print('# Children Before:', sum([len(y) for x in list(parent2children.values()) for y in x]))\n",
    "print('# Children After:', sum([len(cluster) for cluster in clusters_children]))\n",
    "print('# Children Clusters:', len(clusters_children))\n",
    "\n",
    "end = timer()\n",
    "print('Computing Time:', round(end - start), 'sec')"
   ]
  },
  {
   "cell_type": "markdown",
   "metadata": {},
   "source": [
    "# Agglomerative Clustering of Blocks By Admin Level"
   ]
  },
  {
   "cell_type": "code",
   "execution_count": 11,
   "metadata": {},
   "outputs": [
    {
     "name": "stdout",
     "output_type": "stream",
     "text": [
      "Initialize adult and non-empty blocks in its own cluster\n",
      "Also list children clusters\n",
      "Computing Time: 20 sec\n"
     ]
    }
   ],
   "source": [
    "start = timer()\n",
    "\n",
    "print('Initialize adult and non-empty blocks in its own cluster')\n",
    "ageb2blocks = pd.DataFrame(blocks.drop(\n",
    "empty_blocks,errors='ignore').drop(\n",
    "nested_blocks.BLOCK_child.unique(),errors='ignore').reset_index().groupby(\n",
    "['MUNIC','URBAN','AGEB'])['BLOCK'].apply(lambda x:[[y] for y in x]))\n",
    "\n",
    "print('Also list children clusters')\n",
    "ageb2childrenclusters = pd.DataFrame(pd.concat([\n",
    "blocks.loc[cluster].reset_index().groupby(\n",
    "['MUNIC','URBAN','AGEB'])['BLOCK'].apply(list) \n",
    "for cluster in clusters_children]).groupby(\n",
    "['MUNIC','URBAN','AGEB']).apply(list))\n",
    "\n",
    "end = timer()\n",
    "print('Computing Time:', round(end - start), 'sec')"
   ]
  },
  {
   "cell_type": "code",
   "execution_count": 12,
   "metadata": {},
   "outputs": [
    {
     "name": "stdout",
     "output_type": "stream",
     "text": [
      "Cluster blocks at the AGEB level\n",
      "Combine initial blocks and children clusters\n",
      "# Blocks Before: 1221896\n",
      "# Clusters Before: 1215543\n",
      "# Blocks After: 1221896\n",
      "# Clusters Before: 438845\n",
      "Computing Time: 331 sec\n"
     ]
    }
   ],
   "source": [
    "print('Cluster blocks at the AGEB level')\n",
    "start = timer()\n",
    "\n",
    "print('Combine initial blocks and children clusters')\n",
    "ageb2clusters = pd.DataFrame(index=ageb2blocks.index.union(ageb2childrenclusters.index))\n",
    "ageb2clusters['BLOCK'] = np.empty((len(ageb2clusters), 0)).tolist()\n",
    "ageb2clusters.loc[ageb2blocks.index] = ageb2clusters.loc[ageb2blocks.index].add(ageb2blocks)\n",
    "ageb2clusters.loc[ageb2childrenclusters.index] = \\\n",
    "ageb2clusters.loc[ageb2childrenclusters.index].add(ageb2childrenclusters)\n",
    "\n",
    "print('# Blocks Before:', ageb2clusters['BLOCK'].apply(lambda x:sum([len(y) for y in x])).sum())\n",
    "print('# Clusters Before:', ageb2clusters['BLOCK'].apply(len).sum())\n",
    "\n",
    "# Randomize order\n",
    "idx_ageb = ageb2clusters.sample(frac=1,random_state=0).index\n",
    "\n",
    "with mp.Pool() as pool:\n",
    "    clusters_ageb = pool.map(cluster_shapes, list(ageb2clusters.loc[idx_ageb,'BLOCK']))\n",
    "\n",
    "ageb2clusters.loc[idx_ageb,'BLOCK'] = clusters_ageb.copy()\n",
    "\n",
    "print('# Blocks After:', ageb2clusters['BLOCK'].apply(lambda x:sum([len(y) for y in x])).sum())\n",
    "print('# Clusters Before:', ageb2clusters['BLOCK'].apply(len).sum())\n",
    "\n",
    "end = timer()\n",
    "print('Computing Time:', round(end - start), 'sec')"
   ]
  },
  {
   "cell_type": "code",
   "execution_count": 13,
   "metadata": {},
   "outputs": [
    {
     "name": "stdout",
     "output_type": "stream",
     "text": [
      "Cluster blocks at the urban locality level\n",
      "# Blocks Before: 1221896\n",
      "# Clusters Before: 438845\n",
      "# Blocks After: 1221896\n",
      "# Clusters After: 428501\n",
      "Computing Time: 112 sec\n"
     ]
    }
   ],
   "source": [
    "print('Cluster blocks at the urban locality level')\n",
    "start = timer()\n",
    "\n",
    "urban2clusters = ageb2clusters.groupby(['MUNIC','URBAN']).sum()\n",
    "\n",
    "print('# Blocks Before:', urban2clusters['BLOCK'].apply(lambda x:sum([len(y) for y in x])).sum())\n",
    "print('# Clusters Before:', urban2clusters['BLOCK'].apply(len).sum())\n",
    "\n",
    "# Randomize order\n",
    "idx_urban = urban2clusters.sample(frac=1,random_state=0).index\n",
    "\n",
    "with mp.Pool() as pool:\n",
    "    clusters_urban = pool.map(cluster_shapes, list(urban2clusters.loc[idx_urban,'BLOCK']))\n",
    "\n",
    "urban2clusters.loc[idx_urban,'BLOCK'] = clusters_urban.copy()\n",
    "\n",
    "print('# Blocks After:', urban2clusters['BLOCK'].apply(lambda x:sum([len(y) for y in x])).sum())\n",
    "print('# Clusters After:', urban2clusters['BLOCK'].apply(len).sum())\n",
    "\n",
    "end = timer()\n",
    "print('Computing Time:', round(end - start), 'sec')"
   ]
  },
  {
   "cell_type": "markdown",
   "metadata": {},
   "source": [
    "# Finalize Clusters"
   ]
  },
  {
   "cell_type": "code",
   "execution_count": 14,
   "metadata": {
    "scrolled": false
   },
   "outputs": [
    {
     "name": "stdout",
     "output_type": "stream",
     "text": [
      "Create DataFrame of Clusters Features\n",
      "Computing Time: 84 sec\n"
     ]
    }
   ],
   "source": [
    "print('Create DataFrame of Clusters Features')\n",
    "start = timer()\n",
    "\n",
    "clusters_list = urban2clusters['BLOCK'].sum()\n",
    "    \n",
    "def get_pop(cluster, data=blocks, pop_col='POB1'):\n",
    "    return data.loc[cluster,pop_col].sum()\n",
    "\n",
    "def get_geom(cluster, data=blocks):\n",
    "    return unary_union(data.loc[cluster,'geometry'])\n",
    "\n",
    "with mp.Pool() as pool:\n",
    "    pops_list = pool.map(get_pop, clusters_list)\n",
    "\n",
    "with mp.Pool() as pool:\n",
    "    geoms_list = pool.map(get_geom, clusters_list)\n",
    "\n",
    "clusters = gpd.GeoDataFrame(pd.DataFrame([clusters_list,pops_list],index=['BLOCK','POB1']).T,geometry=geoms_list)\n",
    "clusters['URBAN'] = clusters['BLOCK'].apply(lambda x:next(iter(set([y[:9] for y in x]))))\n",
    "clusters['MUNIC'] = clusters['URBAN'].apply(lambda x:x[:5])\n",
    "\n",
    "end = timer()\n",
    "print('Computing Time:', round(end - start), 'sec')"
   ]
  },
  {
   "cell_type": "code",
   "execution_count": 15,
   "metadata": {},
   "outputs": [
    {
     "name": "stdout",
     "output_type": "stream",
     "text": [
      "# Clusters 428501\n",
      "# Original Blocks: 1221896\n",
      "# Clustered Blocks: 1221896\n",
      "Total Pop: 86984906\n"
     ]
    }
   ],
   "source": [
    "print('# Clusters',clusters.shape[0])\n",
    "print('# Original Blocks:', blocks.shape[0]-len(empty_blocks))\n",
    "print('# Clustered Blocks:', clusters['BLOCK'].apply(len).sum())\n",
    "print('Total Pop:', clusters['POB1'].sum())"
   ]
  },
  {
   "cell_type": "markdown",
   "metadata": {},
   "source": [
    "# Remove Non-dissolved Children Blocks"
   ]
  },
  {
   "cell_type": "code",
   "execution_count": 16,
   "metadata": {},
   "outputs": [
    {
     "name": "stdout",
     "output_type": "stream",
     "text": [
      "Retrieve Children\n",
      "Computing Time: 30 sec\n"
     ]
    }
   ],
   "source": [
    "print('Retrieve Children')\n",
    "start = timer()\n",
    "\n",
    "def get_children(parents):\n",
    "    list_children = []\n",
    "    for parent in parents:\n",
    "        list_children+=list(itertools.chain.from_iterable(parent2children[parent]))\n",
    "    return set(list_children)\n",
    "\n",
    "clusters['parents'] = clusters['BLOCK'].apply(lambda x:set(x).intersection(parent2children))\n",
    "clusters['children'] = clusters['parents'].apply(get_children)\n",
    "clusters['dissolved_children'] = clusters.apply(lambda x:x['children'].intersection(x['BLOCK']),1)\n",
    "clusters['non_dissolved_children'] = clusters.apply(lambda x:x['children'].difference(x['BLOCK']),1)\n",
    "\n",
    "end = timer()\n",
    "print('Computing Time:', round(end - start), 'sec')"
   ]
  },
  {
   "cell_type": "code",
   "execution_count": 17,
   "metadata": {},
   "outputs": [
    {
     "name": "stdout",
     "output_type": "stream",
     "text": [
      "Remove Non-dissolved children from parents geometry\n",
      "Computing Time: 54 sec\n"
     ]
    }
   ],
   "source": [
    "print('Remove Non-dissolved children from parents geometry')\n",
    "start = timer()\n",
    "\n",
    "with mp.Pool() as pool:\n",
    "    clusters['geom_dissolved_children'] = pool.map(get_geom, clusters['dissolved_children'])\n",
    "\n",
    "with mp.Pool() as pool:\n",
    "    clusters['geom_non_dissolved_children'] = pool.map(get_geom, clusters['non_dissolved_children'])\n",
    "\n",
    "clusters['geometry'] = clusters.apply(lambda x:x['geometry'].difference(x['geom_non_dissolved_children']),1)\n",
    "\n",
    "end = timer()\n",
    "print('Computing Time:', round(end - start), 'sec')"
   ]
  },
  {
   "cell_type": "code",
   "execution_count": 32,
   "metadata": {},
   "outputs": [
    {
     "name": "stdout",
     "output_type": "stream",
     "text": [
      "Original # Non-empty parents 856\n",
      "Clustered # Non-empty parents 856\n",
      "Original # Non-empty children in non-empty parent 7176\n",
      "Clustered # non-empty children in non-empty parent 7176\n",
      "# non-empty children dissolved in non-empty parents 1132\n",
      "# non-empty non-dissolved children of non-empty parents 6044\n",
      "Blocks Area: 1.406063769864358\n",
      "Clusters Area: 1.406063769864358\n"
     ]
    }
   ],
   "source": [
    "print('Original # Non-empty parents', len(set(nested_blocks.BLOCK_parent).difference(empty_blocks)))\n",
    "print('Clustered # Non-empty parents', clusters['parents'].apply(len).sum())\n",
    "\n",
    "print('Original # Non-empty children in non-empty parent', \n",
    "nested_blocks[\n",
    "(-nested_blocks.BLOCK_parent.isin(empty_blocks))&\\\n",
    "(-nested_blocks.BLOCK_child.isin(empty_blocks))].shape[0])\n",
    "print('Clustered # non-empty children in non-empty parent', clusters['children'].apply(len).sum())\n",
    "\n",
    "print('# non-empty children dissolved in non-empty parents', clusters['dissolved_children'].apply(len).sum())\n",
    "print('# non-empty non-dissolved children of non-empty parents', clusters['non_dissolved_children'].apply(len).sum())\n",
    "\n",
    "print('Blocks Area:', blocks.geometry.area.sum() - blocks.loc[empty_blocks].geometry.area.sum())\n",
    "print('Clusters Area:', clusters.apply(\n",
    "lambda x:\\\n",
    "x['geometry'].area+\\\n",
    "x['geom_dissolved_children'].area+\\\n",
    "x['geom_non_dissolved_children'].area,1).sum())\n",
    "\n",
    "clusters.drop([\n",
    "'parents', \n",
    "'children',\n",
    "'dissolved_children',\n",
    "'non_dissolved_children',\n",
    "'geom_dissolved_children',\n",
    "'geom_non_dissolved_children'],1,inplace=True)"
   ]
  },
  {
   "cell_type": "code",
   "execution_count": 50,
   "metadata": {},
   "outputs": [
    {
     "data": {
      "text/html": [
       "<div>\n",
       "<style scoped>\n",
       "    .dataframe tbody tr th:only-of-type {\n",
       "        vertical-align: middle;\n",
       "    }\n",
       "\n",
       "    .dataframe tbody tr th {\n",
       "        vertical-align: top;\n",
       "    }\n",
       "\n",
       "    .dataframe thead th {\n",
       "        text-align: right;\n",
       "    }\n",
       "</style>\n",
       "<table border=\"1\" class=\"dataframe\">\n",
       "  <thead>\n",
       "    <tr style=\"text-align: right;\">\n",
       "      <th></th>\n",
       "      <th>BLOCK</th>\n",
       "      <th>POB1</th>\n",
       "      <th>geometry</th>\n",
       "      <th>URBAN</th>\n",
       "    </tr>\n",
       "  </thead>\n",
       "  <tbody>\n",
       "    <tr>\n",
       "      <th>0</th>\n",
       "      <td>[0100100010229006, 0100100010229008]</td>\n",
       "      <td>103</td>\n",
       "      <td>(POLYGON ((-102.2972162668094 21.9311580264542...</td>\n",
       "      <td>010010001</td>\n",
       "    </tr>\n",
       "    <tr>\n",
       "      <th>1</th>\n",
       "      <td>[0100100010229007, 0100100010229019, 010010001...</td>\n",
       "      <td>307</td>\n",
       "      <td>(POLYGON ((-102.2960545266846 21.9172431949010...</td>\n",
       "      <td>010010001</td>\n",
       "    </tr>\n",
       "    <tr>\n",
       "      <th>2</th>\n",
       "      <td>[0100100010233001]</td>\n",
       "      <td>194</td>\n",
       "      <td>POLYGON ((-102.3172373846377 21.90775316077418...</td>\n",
       "      <td>010010001</td>\n",
       "    </tr>\n",
       "    <tr>\n",
       "      <th>3</th>\n",
       "      <td>[0100100010233005]</td>\n",
       "      <td>246</td>\n",
       "      <td>POLYGON ((-102.319460545915 21.90867287089753,...</td>\n",
       "      <td>010010001</td>\n",
       "    </tr>\n",
       "    <tr>\n",
       "      <th>4</th>\n",
       "      <td>[0100100010233012]</td>\n",
       "      <td>202</td>\n",
       "      <td>POLYGON ((-102.3088704296389 21.90298771685945...</td>\n",
       "      <td>010010001</td>\n",
       "    </tr>\n",
       "  </tbody>\n",
       "</table>\n",
       "</div>"
      ],
      "text/plain": [
       "                                               BLOCK POB1  \\\n",
       "0               [0100100010229006, 0100100010229008]  103   \n",
       "1  [0100100010229007, 0100100010229019, 010010001...  307   \n",
       "2                                 [0100100010233001]  194   \n",
       "3                                 [0100100010233005]  246   \n",
       "4                                 [0100100010233012]  202   \n",
       "\n",
       "                                            geometry      URBAN  \n",
       "0  (POLYGON ((-102.2972162668094 21.9311580264542...  010010001  \n",
       "1  (POLYGON ((-102.2960545266846 21.9172431949010...  010010001  \n",
       "2  POLYGON ((-102.3172373846377 21.90775316077418...  010010001  \n",
       "3  POLYGON ((-102.319460545915 21.90867287089753,...  010010001  \n",
       "4  POLYGON ((-102.3088704296389 21.90298771685945...  010010001  "
      ]
     },
     "execution_count": 50,
     "metadata": {},
     "output_type": "execute_result"
    }
   ],
   "source": [
    "clusters.head()"
   ]
  },
  {
   "cell_type": "markdown",
   "metadata": {},
   "source": [
    "# Dissolve Small Urban Localities Into Rural Areas"
   ]
  },
  {
   "cell_type": "code",
   "execution_count": 88,
   "metadata": {},
   "outputs": [],
   "source": [
    "def check_validity(data=clusters, pop_col='POB1', pop_threshold=100):\n",
    "    return data.loc[data[pop_col]>=threshold].copy(), data.loc[data[pop_col]<threshold].copy()\n",
    "clusters_valid, clusters_invalid = check_validity()"
   ]
  },
  {
   "cell_type": "code",
   "execution_count": 81,
   "metadata": {},
   "outputs": [
    {
     "name": "stdout",
     "output_type": "stream",
     "text": [
      "Extract Rural Areas\n",
      "Compute Rural Population\n",
      "Computing Time: 0 sec\n"
     ]
    }
   ],
   "source": [
    "start = timer()\n",
    "\n",
    "print('Extract Rural Areas')\n",
    "rural = gpd.overlay(munic, clusters_valid, how='difference')\n",
    "\n",
    "print('Compute Rural Population')\n",
    "rural = pd.merge(rural,\n",
    "urban[urban['URBAN'].isin(clusters_valid['URBAN'].unique())].groupby('MUNIC')['POB1'].sum().reset_index(),\n",
    "on='MUNIC')\n",
    "rural['POB1'] = rural['POB1_x'] - rural['POB1_y']\n",
    "\n",
    "rural = rural[['MUNIC','POB1','geometry']].sort_values(by='MUNIC').reset_index(drop=True)\n",
    "\n",
    "end = timer()\n",
    "print('Computing Time:', round(end - start), 'sec')"
   ]
  },
  {
   "cell_type": "code",
   "execution_count": 82,
   "metadata": {},
   "outputs": [
    {
     "data": {
      "text/html": [
       "<div>\n",
       "<style scoped>\n",
       "    .dataframe tbody tr th:only-of-type {\n",
       "        vertical-align: middle;\n",
       "    }\n",
       "\n",
       "    .dataframe tbody tr th {\n",
       "        vertical-align: top;\n",
       "    }\n",
       "\n",
       "    .dataframe thead th {\n",
       "        text-align: right;\n",
       "    }\n",
       "</style>\n",
       "<table border=\"1\" class=\"dataframe\">\n",
       "  <thead>\n",
       "    <tr style=\"text-align: right;\">\n",
       "      <th></th>\n",
       "      <th>MUNIC</th>\n",
       "      <th>POB1</th>\n",
       "      <th>geometry</th>\n",
       "    </tr>\n",
       "  </thead>\n",
       "  <tbody>\n",
       "    <tr>\n",
       "      <th>0</th>\n",
       "      <td>01001</td>\n",
       "      <td>56330</td>\n",
       "      <td>(POLYGON ((-102.1064122399267 22.0603544130303...</td>\n",
       "    </tr>\n",
       "    <tr>\n",
       "      <th>1</th>\n",
       "      <td>01002</td>\n",
       "      <td>32739</td>\n",
       "      <td>POLYGON ((-102.051893439036 22.29143529350414,...</td>\n",
       "    </tr>\n",
       "    <tr>\n",
       "      <th>2</th>\n",
       "      <td>01003</td>\n",
       "      <td>27480</td>\n",
       "      <td>POLYGON ((-102.6856884472506 22.09962730886251...</td>\n",
       "    </tr>\n",
       "    <tr>\n",
       "      <th>3</th>\n",
       "      <td>01004</td>\n",
       "      <td>10144</td>\n",
       "      <td>POLYGON ((-102.287865181776 22.41649003941679,...</td>\n",
       "    </tr>\n",
       "    <tr>\n",
       "      <th>4</th>\n",
       "      <td>01005</td>\n",
       "      <td>31515</td>\n",
       "      <td>POLYGON ((-102.3356775711372 22.05066521496391...</td>\n",
       "    </tr>\n",
       "  </tbody>\n",
       "</table>\n",
       "</div>"
      ],
      "text/plain": [
       "   MUNIC   POB1                                           geometry\n",
       "0  01001  56330  (POLYGON ((-102.1064122399267 22.0603544130303...\n",
       "1  01002  32739  POLYGON ((-102.051893439036 22.29143529350414,...\n",
       "2  01003  27480  POLYGON ((-102.6856884472506 22.09962730886251...\n",
       "3  01004  10144  POLYGON ((-102.287865181776 22.41649003941679,...\n",
       "4  01005  31515  POLYGON ((-102.3356775711372 22.05066521496391..."
      ]
     },
     "execution_count": 82,
     "metadata": {},
     "output_type": "execute_result"
    }
   ],
   "source": [
    "rural.head()"
   ]
  },
  {
   "cell_type": "code",
   "execution_count": null,
   "metadata": {},
   "outputs": [],
   "source": [
    "clusters_final = pd.concat([clusters_valid,rural])[['BLOCK','URBAN','MUNIC','POB1','geometry']]"
   ]
  },
  {
   "cell_type": "code",
   "execution_count": null,
   "metadata": {},
   "outputs": [],
   "source": [
    "# print('# Rural Areas', rural.shape[0])\n",
    "# print('# Rural Munic', rural.MUNIC.unique().shape[0])\n",
    "# print('Pop:', rural.POB1.sum())\n",
    "# print('% Valid RURAL:', rural.geometry.is_valid.sum()/rural.shape[0])\n",
    "# print('Max Intersection:', (gpd.overlay(rural, urban_merged, how='intersection').area.max()/urban_merged.area.min()))"
   ]
  }
 ],
 "metadata": {
  "kernelspec": {
   "display_name": "Python 3",
   "language": "python",
   "name": "python3"
  },
  "language_info": {
   "codemirror_mode": {
    "name": "ipython",
    "version": 3
   },
   "file_extension": ".py",
   "mimetype": "text/x-python",
   "name": "python",
   "nbconvert_exporter": "python",
   "pygments_lexer": "ipython3",
   "version": "3.7.4"
  }
 },
 "nbformat": 4,
 "nbformat_minor": 2
}
