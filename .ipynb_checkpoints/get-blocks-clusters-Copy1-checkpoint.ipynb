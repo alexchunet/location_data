{
 "cells": [
  {
   "cell_type": "markdown",
   "metadata": {},
   "source": [
    "- The median block in the CDMX census has a population of 97 households.\n",
    "\n",
    "- To preserve the privacy of Cuebiq users, we choose to aggregate blocks that were too small by clustering its nearest neighbors, using a gravity type of assumption that \n",
    "\n",
    "- Prior to doing so, we \n",
    "\n",
    "\n",
    "- We might want to check that income gaps are not too high\n",
    "\n",
    "- Drop empty blocks for the clustering\n",
    "\n",
    "- Beyond Parent / Children relationships, shapes do not intersect\n",
    "\n",
    "\n",
    "- Take out the zeros\n",
    "\n",
    "- Merge Children\n",
    "\n",
    "- Go to parents\n",
    "\n",
    "https://www.earthdatascience.org/workshops/gis-open-source-python/dissolve-polygons-in-python-geopandas-shapely/"
   ]
  },
  {
   "cell_type": "code",
   "execution_count": 1,
   "metadata": {},
   "outputs": [],
   "source": [
    "import geopandas as gpd\n",
    "import pandas as pd\n",
    "from timeit import default_timer as timer\n",
    "import multiprocessing as mp\n",
    "import numpy as np\n",
    "from shapely.ops import cascaded_union\n",
    "import matplotlib.pyplot as plt\n",
    "from functools import partial \n",
    "import seaborn as sns\n",
    "import pickle"
   ]
  },
  {
   "cell_type": "markdown",
   "metadata": {},
   "source": [
    "# Load Data"
   ]
  },
  {
   "cell_type": "code",
   "execution_count": 2,
   "metadata": {},
   "outputs": [
    {
     "name": "stdout",
     "output_type": "stream",
     "text": [
      "Import Shapefile CDMX (INEGI):\n",
      "Computing Time: 4 sec\n"
     ]
    }
   ],
   "source": [
    "print('Import Shapefile CDMX (INEGI):')\n",
    "start = timer()\n",
    "\n",
    "census_blocks = gpd.read_file(\n",
    "'../data/Geoestadistica_2018/09_ciudaddemexico/conjunto de datos/09m.shp',encoding=\"utf-8\")\n",
    "\n",
    "end = timer()\n",
    "print('Computing Time:', round(end - start), 'sec')"
   ]
  },
  {
   "cell_type": "code",
   "execution_count": 3,
   "metadata": {},
   "outputs": [
    {
     "name": "stdout",
     "output_type": "stream",
     "text": [
      "Import Census CDMX (INEGI):\n",
      "Computing Time: 20 sec\n"
     ]
    }
   ],
   "source": [
    "print('Import Census CDMX (INEGI):')\n",
    "start = timer()\n",
    "\n",
    "census_data = gpd.read_file('../data/Poblacion/RESAGEBURB_09DBF10.dbf')\n",
    "\n",
    "end = timer()\n",
    "print('Computing Time:', round(end - start), 'sec')"
   ]
  },
  {
   "cell_type": "code",
   "execution_count": 4,
   "metadata": {},
   "outputs": [
    {
     "name": "stdout",
     "output_type": "stream",
     "text": [
      "Computing Time: 6 sec\n"
     ]
    }
   ],
   "source": [
    "start = timer()\n",
    "\n",
    "#Merge Census Blocks and Data\n",
    "census_fields = ['POBTOT']\n",
    "census = pd.merge(\n",
    "census_blocks[['CVE_ENT','CVE_MUN','CVE_LOC','CVE_AGEB','CVE_MZA']+['CVEGEO','geometry']],\n",
    "census_data[['ENTIDAD','MUN','LOC','AGEB','MZA']+census_fields],\n",
    "left_on=['CVE_ENT','CVE_MUN','CVE_LOC','CVE_AGEB','CVE_MZA'],\n",
    "right_on=['ENTIDAD','MUN','LOC','AGEB','MZA'])[['CVEGEO']+census_fields+['geometry']]\n",
    "census['POBTOT'] = census['POBTOT'].astype(int)\n",
    "\n",
    "#Remove Empty Blocks\n",
    "census = census[census['POBTOT']>0].copy()\n",
    "\n",
    "#Sort By Population Size and Area\n",
    "census = pd.concat(\n",
    "[census,census.geometry.area.rename('AREA')],1).sort_values(\n",
    "by=['POBTOT','AREA']).reset_index(drop=True)\n",
    "\n",
    "#Project to wgs84\n",
    "census_wgs84 = census.to_crs({'init': 'epsg:4326'})\n",
    "\n",
    "end = timer()\n",
    "print('Computing Time:', round(end - start), 'sec')"
   ]
  },
  {
   "cell_type": "code",
   "execution_count": 5,
   "metadata": {},
   "outputs": [
    {
     "data": {
      "text/html": [
       "<div>\n",
       "<style scoped>\n",
       "    .dataframe tbody tr th:only-of-type {\n",
       "        vertical-align: middle;\n",
       "    }\n",
       "\n",
       "    .dataframe tbody tr th {\n",
       "        vertical-align: top;\n",
       "    }\n",
       "\n",
       "    .dataframe thead th {\n",
       "        text-align: right;\n",
       "    }\n",
       "</style>\n",
       "<table border=\"1\" class=\"dataframe\">\n",
       "  <thead>\n",
       "    <tr style=\"text-align: right;\">\n",
       "      <th></th>\n",
       "      <th>CVEGEO</th>\n",
       "      <th>POBTOT</th>\n",
       "      <th>geometry</th>\n",
       "      <th>AREA</th>\n",
       "    </tr>\n",
       "  </thead>\n",
       "  <tbody>\n",
       "    <tr>\n",
       "      <th>0</th>\n",
       "      <td>0900200010580007</td>\n",
       "      <td>1</td>\n",
       "      <td>POLYGON ((-99.14500959994513 19.47020226011121...</td>\n",
       "      <td>198.914771</td>\n",
       "    </tr>\n",
       "    <tr>\n",
       "      <th>1</th>\n",
       "      <td>0900500011294026</td>\n",
       "      <td>1</td>\n",
       "      <td>POLYGON ((-99.10358525021086 19.48651605024127...</td>\n",
       "      <td>201.473993</td>\n",
       "    </tr>\n",
       "    <tr>\n",
       "      <th>2</th>\n",
       "      <td>0900500012837004</td>\n",
       "      <td>1</td>\n",
       "      <td>POLYGON ((-99.13612875532323 19.52221415056184...</td>\n",
       "      <td>213.305924</td>\n",
       "    </tr>\n",
       "    <tr>\n",
       "      <th>3</th>\n",
       "      <td>0901700011384015</td>\n",
       "      <td>1</td>\n",
       "      <td>POLYGON ((-99.09960187994574 19.41345100010429...</td>\n",
       "      <td>222.296886</td>\n",
       "    </tr>\n",
       "    <tr>\n",
       "      <th>4</th>\n",
       "      <td>0901000010328049</td>\n",
       "      <td>1</td>\n",
       "      <td>POLYGON ((-99.23764940038554 19.37966822993875...</td>\n",
       "      <td>336.779882</td>\n",
       "    </tr>\n",
       "  </tbody>\n",
       "</table>\n",
       "</div>"
      ],
      "text/plain": [
       "             CVEGEO  POBTOT  \\\n",
       "0  0900200010580007       1   \n",
       "1  0900500011294026       1   \n",
       "2  0900500012837004       1   \n",
       "3  0901700011384015       1   \n",
       "4  0901000010328049       1   \n",
       "\n",
       "                                            geometry        AREA  \n",
       "0  POLYGON ((-99.14500959994513 19.47020226011121...  198.914771  \n",
       "1  POLYGON ((-99.10358525021086 19.48651605024127...  201.473993  \n",
       "2  POLYGON ((-99.13612875532323 19.52221415056184...  213.305924  \n",
       "3  POLYGON ((-99.09960187994574 19.41345100010429...  222.296886  \n",
       "4  POLYGON ((-99.23764940038554 19.37966822993875...  336.779882  "
      ]
     },
     "execution_count": 5,
     "metadata": {},
     "output_type": "execute_result"
    }
   ],
   "source": [
    "census_wgs84.head()"
   ]
  },
  {
   "cell_type": "markdown",
   "metadata": {},
   "source": [
    "# Check Intersecting Shapes"
   ]
  },
  {
   "cell_type": "code",
   "execution_count": 6,
   "metadata": {},
   "outputs": [
    {
     "name": "stdout",
     "output_type": "stream",
     "text": [
      "Computing Time: 35 sec\n"
     ]
    }
   ],
   "source": [
    "start = timer()\n",
    "\n",
    "#Find Blocks Containing Other Blocks\n",
    "contains = gpd.sjoin(census_wgs84,census_wgs84,op='contains',lsuffix='parent',rsuffix='child')\n",
    "\n",
    "#Remove Those Containing Themselves\n",
    "contains = contains[(contains['CVEGEO_parent'] != contains['CVEGEO_child'])].copy()\n",
    "\n",
    "#Sort By Pop Size\n",
    "contains.sort_values(by=['POBTOT_parent','CVEGEO_parent','POBTOT_child'],inplace=True)\n",
    "\n",
    "#List Children by Parent\n",
    "parent2children = contains.groupby(contains.index)['index_child'].apply(list)\n",
    "\n",
    "end = timer()\n",
    "print('Computing Time:', round(end - start), 'sec')"
   ]
  },
  {
   "cell_type": "code",
   "execution_count": 7,
   "metadata": {},
   "outputs": [],
   "source": [
    "def cluster_children(idx_parent, pop_threshold = 100):\n",
    "    \n",
    "    # Initialize Clusters By Putting Each Child Into Its Own Cluster\n",
    "    clusters = [[x] for x in parent2children[idx_parent]]\n",
    "\n",
    "    # Initialize Parent\n",
    "    parent = [idx_parent]\n",
    "\n",
    "    while True:\n",
    "\n",
    "        # Stop if there is only one cluster left\n",
    "        if len(clusters) == 1:\n",
    "\n",
    "            # If the remaining cluster is below the threshold\n",
    "            if census_wgs84.loc[clusters[0],'POBTOT'].sum() < pop_threshold:\n",
    "\n",
    "                # Dissolve it into its parent\n",
    "                parent += clusters.pop()\n",
    "\n",
    "            break\n",
    "\n",
    "        # Find Cluster Position With the Smallest Pop\n",
    "        idx_smallest = np.argmin([census_wgs84.loc[cluster,'POBTOT'].sum() for cluster in clusters])\n",
    "\n",
    "        # Stop if the smallest cluster is above the threshold\n",
    "        if census_wgs84.loc[clusters[idx_smallest],'POBTOT'].sum()>=pop_threshold:\n",
    "            break\n",
    "\n",
    "        # Find Cluster Position Of Its Closest Neighbor\n",
    "        idx_closest = np.argsort([\n",
    "        cascaded_union(census_wgs84.loc[cluster,'geometry']).distance(\n",
    "        cascaded_union(census_wgs84.loc[clusters[idx_smallest],'geometry'])) for cluster in clusters])[1]\n",
    "\n",
    "        # Create a new cluster merging of the two\n",
    "        new_cluster = clusters[idx_smallest]+clusters[idx_closest]\n",
    "\n",
    "        # Remove smallest cluster and its closest neighbor\n",
    "        clusters = [cluster for idx_cluster,cluster in enumerate(clusters) if idx_cluster not in [idx_smallest,idx_closest]]\n",
    "\n",
    "        # Append the new cluster\n",
    "        clusters.append(new_cluster)\n",
    "    \n",
    "    # List of cluster can be empty\n",
    "    return parent, clusters"
   ]
  },
  {
   "cell_type": "code",
   "execution_count": 8,
   "metadata": {},
   "outputs": [
    {
     "name": "stdout",
     "output_type": "stream",
     "text": [
      "Cluster Children\n",
      "# Parent 0\n",
      "# Parent 100\n",
      "# Parent 200\n",
      "# Parent 300\n",
      "# Parent 400\n",
      "# Parent 500\n",
      "# Parent 600\n",
      "Computing Time: 97 sec\n"
     ]
    }
   ],
   "source": [
    "start = timer()\n",
    "print('Cluster Children')\n",
    "parent2clusters = {}\n",
    "\n",
    "for i,idx_parent in enumerate(contains.index.unique()):\n",
    "    \n",
    "    if not i%100:\n",
    "        print('# Parent', i)\n",
    "        \n",
    "    parent2clusters[idx_parent] = cluster_children(idx_parent,pop_threshold=100)\n",
    "    \n",
    "end = timer()\n",
    "print('Computing Time:', round(end - start), 'sec')"
   ]
  },
  {
   "cell_type": "code",
   "execution_count": 9,
   "metadata": {},
   "outputs": [
    {
     "name": "stdout",
     "output_type": "stream",
     "text": [
      "Check Parents in Which Children Were Dissolved:\n",
      "0.10132890365448505\n",
      "0.10132890365448505\n"
     ]
    }
   ],
   "source": [
    "print(\"Check Parents in Which Children Were Dissolved:\")\n",
    "print((contains.groupby(contains.index)['POBTOT_child'].sum()<100).mean())\n",
    "print(len([parent for (parent,clusters) in parent2clusters.values() if len(parent) > 1])/len(parent2clusters))"
   ]
  },
  {
   "cell_type": "code",
   "execution_count": 10,
   "metadata": {},
   "outputs": [
    {
     "name": "stdout",
     "output_type": "stream",
     "text": [
      "Check Population Parents+Children:\n",
      "616579\n",
      "616579\n"
     ]
    }
   ],
   "source": [
    "print(\"Check Population Parents+Children:\")\n",
    "print(contains.groupby(contains.index).agg({'POBTOT_parent':'first','POBTOT_child':'sum'}).sum().sum())\n",
    "print(\n",
    "sum([census_wgs84.loc[parent,'POBTOT'].sum() for (parent,clusters) in parent2clusters.values()])+\\\n",
    "sum([census_wgs84.loc[cluster,'POBTOT'].sum() for (parent,clusters) in parent2clusters.values() for cluster in clusters]))"
   ]
  },
  {
   "cell_type": "code",
   "execution_count": 11,
   "metadata": {},
   "outputs": [],
   "source": [
    "def plot_parent2children(idx_parent):\n",
    "\n",
    "    colors = sns.color_palette(\"Set3\", 10)\n",
    "    \n",
    "    if idx_parent not in parent2children:\n",
    "        print('No Children :(')\n",
    "        return\n",
    "    \n",
    "    fig, ax = plt.subplots(figsize = (15,15)) \n",
    "\n",
    "    data_parent = census_wgs84.loc[[idx_parent]].copy()\n",
    "\n",
    "    data_parent.plot(\n",
    "    ax=ax,\n",
    "    linewidth=0,\n",
    "    color='k',\n",
    "    alpha=0.25,\n",
    "    edgecolor='k')\n",
    "\n",
    "    plt.annotate(\n",
    "    s=data_parent['POBTOT'].values[0], \n",
    "    xy=(data_parent['geometry'].centroid.x,data_parent['geometry'].centroid.y),\n",
    "    horizontalalignment='center',\n",
    "    color='k',\n",
    "    fontsize=30,\n",
    "    alpha=1,\n",
    "    fontweight='bold')\n",
    "\n",
    "    data_children = census_wgs84.loc[parent2children[idx_parent]].copy()\n",
    "\n",
    "    data_children.plot(\n",
    "    ax=ax,\n",
    "    color=colors[-1],\n",
    "    linewidth=0,\n",
    "    edgecolor=colors[-1])\n",
    "\n",
    "    for idx, row in data_children.iterrows():\n",
    "        plt.annotate(\n",
    "        s=row['POBTOT'], \n",
    "        xy=(row['geometry'].centroid.x,row['geometry'].centroid.y),\n",
    "        horizontalalignment='center',\n",
    "        color='k')\n",
    "\n",
    "    ax.axis('off')\n",
    "    plt.savefig('../figures/parent2children-'+census_wgs84.loc[idx_parent,'CVEGEO']+'.pdf',bbox_inches='tight')"
   ]
  },
  {
   "cell_type": "code",
   "execution_count": 12,
   "metadata": {},
   "outputs": [],
   "source": [
    "def plot_childrenclusters(idx_parent,pop_threshold = 100):\n",
    "\n",
    "    colors = sns.color_palette(\"Set3\", 10)\n",
    "    \n",
    "    if idx_parent not in parent2children:\n",
    "        print('No Children :(')\n",
    "        return\n",
    "\n",
    "    parent, clusters = cluster_children(idx_parent,pop_threshold)\n",
    "\n",
    "    fig, ax = plt.subplots(figsize = (15,15))\n",
    "\n",
    "    data_parent = census_wgs84.loc[parent].drop('CVEGEO',1).reset_index(drop=True)\n",
    "\n",
    "    data_parent.plot(ax=ax,color='k',alpha=0.25)\n",
    "\n",
    "    plt.annotate(\n",
    "    s=data_parent['POBTOT'].sum(), \n",
    "    xy=(cascaded_union(data_parent['geometry']).centroid.x,cascaded_union(data_parent['geometry']).centroid.y),\n",
    "    horizontalalignment='center',\n",
    "    color='k',\n",
    "    fontsize=30,\n",
    "    fontweight='bold',\n",
    "    alpha=1)\n",
    "\n",
    "    if len(clusters):\n",
    "\n",
    "        data_clusters = pd.concat([\n",
    "        census_wgs84.loc[cluster].drop('CVEGEO',1) for cluster in clusters],\n",
    "        keys=range(len(clusters))).reset_index(\n",
    "        level=1,drop=True).reset_index().dissolve(by='index', aggfunc='sum')\n",
    "\n",
    "        data_clusters.plot(ax=ax,cmap='YlOrRd')\n",
    "\n",
    "        for idx, row in data_clusters.iterrows():\n",
    "            plt.annotate(\n",
    "            s=row['POBTOT'], \n",
    "            xy=(row['geometry'].centroid.x,row['geometry'].centroid.y),\n",
    "            horizontalalignment='center',\n",
    "            color='k')\n",
    "\n",
    "    ax.axis('off')\n",
    "    plt.savefig('../figures/childrenclusters-'+census_wgs84.loc[idx_parent,'CVEGEO']+'.pdf',bbox_inches='tight')"
   ]
  },
  {
   "cell_type": "code",
   "execution_count": 13,
   "metadata": {},
   "outputs": [],
   "source": [
    "# plot_parent2children(9)\n",
    "# plot_childrenclusters(9)"
   ]
  },
  {
   "cell_type": "code",
   "execution_count": 14,
   "metadata": {},
   "outputs": [],
   "source": [
    "# plot_parent2children(52)\n",
    "# plot_childrenclusters(52)"
   ]
  },
  {
   "cell_type": "code",
   "execution_count": 15,
   "metadata": {},
   "outputs": [],
   "source": [
    "# plot_parent2children(294)\n",
    "# plot_childrenclusters(294)"
   ]
  },
  {
   "cell_type": "markdown",
   "metadata": {},
   "source": [
    "# 2nd Stage"
   ]
  },
  {
   "cell_type": "code",
   "execution_count": 16,
   "metadata": {},
   "outputs": [],
   "source": [
    "# Compute Distance Between 2 Clusters\n",
    "def get_distance(smallest, cluster):\n",
    "    return cascaded_union(\n",
    "    census_wgs84.loc[cluster,'geometry']).distance(cascaded_union(\n",
    "    census_wgs84.loc[smallest,'geometry']))"
   ]
  },
  {
   "cell_type": "code",
   "execution_count": 17,
   "metadata": {},
   "outputs": [],
   "source": [
    "def cluster_blocks(pop_threshold=100):\n",
    "    \n",
    "    # Take all the parents' neighbors\n",
    "    neighbors=sorted(set(census_wgs84.index).difference(set(contains.index)).difference(set(contains.index_child)))\n",
    "\n",
    "    # Initialize Clusters By Putting Each Neighbor In Its Own Cluster and Allow Merges With Parents\n",
    "    clusters=[[neighbor] for neighbor in neighbors]+[parent for (parent,childrenclusters) in parent2clusters.values()]\n",
    "#     clusters=[clusters[i] for i in np.random.choice(range(len(clusters)),100)]\n",
    "\n",
    "    # Initialize Clusters Populations\n",
    "    pops=[census_wgs84.loc[cluster,'POBTOT'].sum() for cluster in clusters]\n",
    "\n",
    "    i = 0 \n",
    "    start = timer()\n",
    "    \n",
    "    while True:\n",
    "\n",
    "        if not i % 100:\n",
    "            print('Iteration', i)\n",
    "            end = timer()\n",
    "            print('Computing Time:', round(end - start), 'Sec')\n",
    "            start = timer()\n",
    "\n",
    "        # Find Cluster Position With the Smallest Pop\n",
    "        idx_smallest=np.argmin(pops)\n",
    "\n",
    "        # Stop if the smallest cluster is above the threshold\n",
    "        if pops[idx_smallest]>=pop_threshold:\n",
    "            break\n",
    "\n",
    "        # First Dimension Gets Partialized\n",
    "        partial_distance = partial(get_distance, clusters[idx_smallest])\n",
    "\n",
    "        # Compute Distances to Smallest Cluster\n",
    "        with mp.Pool() as pool:\n",
    "            distances = pool.map(partial_distance, clusters)\n",
    "\n",
    "        # Find Cluster Position Of Its Closest Neighbor\n",
    "        idx_closest = np.argsort(distances)[1]\n",
    "\n",
    "        # Create a new cluster merging the smallest cluster and its closest neighbor\n",
    "        new_cluster = clusters[idx_smallest]+clusters[idx_closest]\n",
    "        new_pop = census_wgs84.loc[new_cluster,'POBTOT'].sum()\n",
    "\n",
    "        # Remove smallest cluster and its closest neighbor\n",
    "        clusters = [cluster for idx_cluster,cluster in enumerate(clusters) if idx_cluster not in [idx_smallest,idx_closest]]\n",
    "        pops = [pop for idx_pop,pop in enumerate(pops) if idx_pop not in [idx_smallest,idx_closest]]\n",
    "\n",
    "        # Append the new cluster and its pop\n",
    "        clusters.append(new_cluster)\n",
    "        pops.append(new_pop)\n",
    "\n",
    "        i+=1\n",
    "    \n",
    "    return clusters"
   ]
  },
  {
   "cell_type": "code",
   "execution_count": 18,
   "metadata": {},
   "outputs": [
    {
     "name": "stdout",
     "output_type": "stream",
     "text": [
      "Cluster Blocks\n",
      "Iteration 0\n",
      "Computing Time: 0 Sec\n",
      "Iteration 10\n",
      "Computing Time: 1 Sec\n",
      "Iteration 20\n",
      "Computing Time: 1 Sec\n",
      "Iteration 30\n",
      "Computing Time: 1 Sec\n",
      "Iteration 40\n",
      "Computing Time: 1 Sec\n",
      "Computing Time: 6 sec\n"
     ]
    }
   ],
   "source": [
    "start = timer()\n",
    "print('Cluster Blocks')\n",
    "\n",
    "clusters = cluster_blocks(pop_threshold=100)\n",
    "\n",
    "end = timer()\n",
    "print('Computing Time:', round(end - start), 'sec')"
   ]
  },
  {
   "cell_type": "code",
   "execution_count": 19,
   "metadata": {},
   "outputs": [
    {
     "name": "stdout",
     "output_type": "stream",
     "text": [
      "# Days 7.651657732689291\n"
     ]
    }
   ],
   "source": [
    "df = pd.DataFrame([\n",
    "[50, 3],\n",
    "[100, 7],\n",
    "[150, 12],\n",
    "[200, 20],\n",
    "[300, 32],\n",
    "[400, 57],\n",
    "[500, 80],\n",
    "[600, 94],\n",
    "[700, 128],\n",
    "[800, 193],\n",
    "[900, 224],\n",
    "[1000, 259]])\n",
    "\n",
    "z = np.polyfit(list(df[0]), list(df[1]), 2)\n",
    "\n",
    "p = np.poly1d(z)\n",
    "\n",
    "print('# Days', p(53830)/(3600*24))"
   ]
  },
  {
   "cell_type": "code",
   "execution_count": 22,
   "metadata": {},
   "outputs": [
    {
     "name": "stdout",
     "output_type": "stream",
     "text": [
      "SAVE\n",
      "Computing Time: 0 sec\n"
     ]
    }
   ],
   "source": [
    "print('SAVE')\n",
    "start = timer()\n",
    "\n",
    "with open(\"../data/clusters-cdmx.pkl\",\"wb\") as f:\n",
    "    pickle.dump(census_wgs84['CVEGEO'].to_dict(),f)\n",
    "    pickle.dump(parent2clusters,f)\n",
    "    pickle.dump(clusters,f)\n",
    "\n",
    "end = timer()\n",
    "print('Computing Time:', round(end - start), 'sec')"
   ]
  },
  {
   "cell_type": "markdown",
   "metadata": {},
   "source": [
    "# Inspect Results"
   ]
  },
  {
   "cell_type": "code",
   "execution_count": 37,
   "metadata": {},
   "outputs": [
    {
     "name": "stdout",
     "output_type": "stream",
     "text": [
      "LOAD\n",
      "Computing Time: 0 sec\n"
     ]
    }
   ],
   "source": [
    "print('LOAD')\n",
    "start = timer()\n",
    "\n",
    "with open(\"../data/clusters-cdmx.pkl\",\"rb\") as f:\n",
    "    idx2CVEGEO = pickle.load(f)\n",
    "    parent2clusters = pickle.load(f)\n",
    "    clusters = pickle.load(f)\n",
    "\n",
    "clusters = [cluster for parent, clusters in parent2clusters.values() for cluster in clusters] + clusters\n",
    "\n",
    "end = timer()\n",
    "print('Computing Time:', round(end - start), 'sec')"
   ]
  },
  {
   "cell_type": "code",
   "execution_count": 38,
   "metadata": {},
   "outputs": [
    {
     "name": "stdout",
     "output_type": "stream",
     "text": [
      "# Clusters: 35843\n"
     ]
    }
   ],
   "source": [
    "print('# Clusters:', len(clusters))"
   ]
  },
  {
   "cell_type": "code",
   "execution_count": 44,
   "metadata": {},
   "outputs": [],
   "source": [
    "pops = pd.Series([census_wgs84.loc[cluster,'POBTOT'].sum() for cluster in clusters])"
   ]
  },
  {
   "cell_type": "code",
   "execution_count": 46,
   "metadata": {},
   "outputs": [
    {
     "data": {
      "text/plain": [
       "count    35843.000000\n",
       "mean       244.569288\n",
       "std        214.690052\n",
       "min        100.000000\n",
       "25%        141.000000\n",
       "50%        191.000000\n",
       "75%        272.000000\n",
       "max      12964.000000\n",
       "dtype: float64"
      ]
     },
     "execution_count": 46,
     "metadata": {},
     "output_type": "execute_result"
    }
   ],
   "source": [
    "pops.describe()"
   ]
  }
 ],
 "metadata": {
  "kernelspec": {
   "display_name": "Python 3",
   "language": "python",
   "name": "python3"
  },
  "language_info": {
   "codemirror_mode": {
    "name": "ipython",
    "version": 3
   },
   "file_extension": ".py",
   "mimetype": "text/x-python",
   "name": "python",
   "nbconvert_exporter": "python",
   "pygments_lexer": "ipython3",
   "version": "3.7.3"
  }
 },
 "nbformat": 4,
 "nbformat_minor": 2
}
