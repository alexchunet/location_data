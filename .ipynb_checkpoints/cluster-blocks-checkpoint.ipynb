{
 "cells": [
  {
   "cell_type": "markdown",
   "metadata": {},
   "source": [
    "- The median block in the CDMX census has a population of 97 households.\n",
    "\n",
    "- To preserve the privacy of Cuebiq users, we choose to aggregate blocks that were too small by clustering its nearest neighbors, using a gravity type of assumption that \n",
    "\n",
    "- Prior to doing so, we aggregate children with parents\n",
    "\n",
    "- We might want to check that income gaps are not too high\n",
    "\n",
    "- Drop empty blocks for the clustering\n",
    "\n",
    "- Beyond Parent / Children relationships, shapes do not intersect\n",
    "\n",
    "- Take out the zeros\n",
    "\n",
    "- Merge Children\n",
    "\n",
    "- Go to parents"
   ]
  },
  {
   "cell_type": "code",
   "execution_count": 1,
   "metadata": {},
   "outputs": [],
   "source": [
    "import geopandas as gpd\n",
    "import pandas as pd\n",
    "from timeit import default_timer as timer\n",
    "import multiprocessing as mp\n",
    "import numpy as np\n",
    "from shapely.ops import cascaded_union\n",
    "import matplotlib.pyplot as plt\n",
    "from functools import partial \n",
    "import seaborn as sns\n",
    "import pickle"
   ]
  },
  {
   "cell_type": "markdown",
   "metadata": {},
   "source": [
    "# Load Data"
   ]
  },
  {
   "cell_type": "code",
   "execution_count": 2,
   "metadata": {},
   "outputs": [
    {
     "name": "stdout",
     "output_type": "stream",
     "text": [
      "Import Processed Census Data:\n",
      "# Blocks: 62557\n",
      "# Blocks: 59904\n",
      "Computing Time: 9 sec\n"
     ]
    }
   ],
   "source": [
    "print('Import Processed Census Data:')\n",
    "start = timer()\n",
    "\n",
    "census = gpd.read_file('../data/census-cdmx.geojson')\n",
    "print('# Blocks:', census.shape[0])\n",
    "\n",
    "#Remove Empty Blocks\n",
    "census = census[census['POBTOT']>0].reset_index(drop=True).copy()\n",
    "print('# Blocks:', census.shape[0])\n",
    "\n",
    "end = timer()\n",
    "print('Computing Time:', round(end - start), 'sec')"
   ]
  },
  {
   "cell_type": "code",
   "execution_count": 3,
   "metadata": {},
   "outputs": [
    {
     "data": {
      "text/html": [
       "<div>\n",
       "<style scoped>\n",
       "    .dataframe tbody tr th:only-of-type {\n",
       "        vertical-align: middle;\n",
       "    }\n",
       "\n",
       "    .dataframe tbody tr th {\n",
       "        vertical-align: top;\n",
       "    }\n",
       "\n",
       "    .dataframe thead th {\n",
       "        text-align: right;\n",
       "    }\n",
       "</style>\n",
       "<table border=\"1\" class=\"dataframe\">\n",
       "  <thead>\n",
       "    <tr style=\"text-align: right;\">\n",
       "      <th></th>\n",
       "      <th>CVEGEO</th>\n",
       "      <th>POBTOT</th>\n",
       "      <th>AREA</th>\n",
       "      <th>geometry</th>\n",
       "    </tr>\n",
       "  </thead>\n",
       "  <tbody>\n",
       "    <tr>\n",
       "      <th>0</th>\n",
       "      <td>0900200010580007</td>\n",
       "      <td>1</td>\n",
       "      <td>198.914771</td>\n",
       "      <td>POLYGON ((-99.14500959994513 19.47020226011121...</td>\n",
       "    </tr>\n",
       "    <tr>\n",
       "      <th>1</th>\n",
       "      <td>0900500011294026</td>\n",
       "      <td>1</td>\n",
       "      <td>201.473993</td>\n",
       "      <td>POLYGON ((-99.10358525021086 19.48651605024127...</td>\n",
       "    </tr>\n",
       "    <tr>\n",
       "      <th>2</th>\n",
       "      <td>0900500012837004</td>\n",
       "      <td>1</td>\n",
       "      <td>213.305924</td>\n",
       "      <td>POLYGON ((-99.13612875532323 19.52221415056184...</td>\n",
       "    </tr>\n",
       "    <tr>\n",
       "      <th>3</th>\n",
       "      <td>0901700011384015</td>\n",
       "      <td>1</td>\n",
       "      <td>222.296886</td>\n",
       "      <td>POLYGON ((-99.09960187994574 19.41345100010429...</td>\n",
       "    </tr>\n",
       "    <tr>\n",
       "      <th>4</th>\n",
       "      <td>0901000010328049</td>\n",
       "      <td>1</td>\n",
       "      <td>336.779882</td>\n",
       "      <td>POLYGON ((-99.23764940038554 19.37966822993875...</td>\n",
       "    </tr>\n",
       "  </tbody>\n",
       "</table>\n",
       "</div>"
      ],
      "text/plain": [
       "             CVEGEO  POBTOT        AREA  \\\n",
       "0  0900200010580007       1  198.914771   \n",
       "1  0900500011294026       1  201.473993   \n",
       "2  0900500012837004       1  213.305924   \n",
       "3  0901700011384015       1  222.296886   \n",
       "4  0901000010328049       1  336.779882   \n",
       "\n",
       "                                            geometry  \n",
       "0  POLYGON ((-99.14500959994513 19.47020226011121...  \n",
       "1  POLYGON ((-99.10358525021086 19.48651605024127...  \n",
       "2  POLYGON ((-99.13612875532323 19.52221415056184...  \n",
       "3  POLYGON ((-99.09960187994574 19.41345100010429...  \n",
       "4  POLYGON ((-99.23764940038554 19.37966822993875...  "
      ]
     },
     "execution_count": 3,
     "metadata": {},
     "output_type": "execute_result"
    }
   ],
   "source": [
    "census.head()"
   ]
  },
  {
   "cell_type": "markdown",
   "metadata": {},
   "source": [
    "# Check Intersecting Shapes"
   ]
  },
  {
   "cell_type": "code",
   "execution_count": 4,
   "metadata": {},
   "outputs": [
    {
     "name": "stdout",
     "output_type": "stream",
     "text": [
      "Find Blocks Containing Other Blocks\n",
      "# Blocks: 65376\n",
      "Remove Those Containing Themselves\n",
      "# Children: 5472\n",
      "Sort By Pop Size\n",
      "Parents and its list of children sorted by population\n",
      "# Parents: 602\n",
      "Computing Time: 42 sec\n"
     ]
    }
   ],
   "source": [
    "start = timer()\n",
    "\n",
    "print('Find Blocks Containing Other Blocks')\n",
    "contains = gpd.sjoin(census,census,op='contains',lsuffix='parent',rsuffix='child')\n",
    "print('# Blocks:', contains.shape[0])\n",
    "\n",
    "print('Remove Those Containing Themselves')\n",
    "contains = contains[(contains['CVEGEO_parent'] != contains['CVEGEO_child'])].copy()\n",
    "print('# Children:', contains.shape[0])\n",
    "\n",
    "print('Sort By Pop Size')\n",
    "contains.sort_values(by=['POBTOT_parent','CVEGEO_parent','POBTOT_child'],inplace=True)\n",
    "\n",
    "print('Parents and its list of children sorted by population')\n",
    "parent2children = contains.groupby(contains.index)['index_child'].apply(list)\n",
    "print('# Parents:', parent2children.shape[0])\n",
    "\n",
    "end = timer()\n",
    "print('Computing Time:', round(end - start), 'sec')"
   ]
  },
  {
   "cell_type": "code",
   "execution_count": 5,
   "metadata": {},
   "outputs": [
    {
     "data": {
      "text/html": [
       "<div>\n",
       "<style scoped>\n",
       "    .dataframe tbody tr th:only-of-type {\n",
       "        vertical-align: middle;\n",
       "    }\n",
       "\n",
       "    .dataframe tbody tr th {\n",
       "        vertical-align: top;\n",
       "    }\n",
       "\n",
       "    .dataframe thead th {\n",
       "        text-align: right;\n",
       "    }\n",
       "</style>\n",
       "<table border=\"1\" class=\"dataframe\">\n",
       "  <thead>\n",
       "    <tr style=\"text-align: right;\">\n",
       "      <th></th>\n",
       "      <th>CVEGEO_parent</th>\n",
       "      <th>POBTOT_parent</th>\n",
       "      <th>AREA_parent</th>\n",
       "      <th>geometry</th>\n",
       "      <th>index_child</th>\n",
       "      <th>CVEGEO_child</th>\n",
       "      <th>POBTOT_child</th>\n",
       "      <th>AREA_child</th>\n",
       "    </tr>\n",
       "  </thead>\n",
       "  <tbody>\n",
       "    <tr>\n",
       "      <th>121</th>\n",
       "      <td>0900700010727039</td>\n",
       "      <td>1</td>\n",
       "      <td>18558.964684</td>\n",
       "      <td>POLYGON ((-99.10956077967828 19.35650034958984...</td>\n",
       "      <td>10911</td>\n",
       "      <td>0900700010727044</td>\n",
       "      <td>41</td>\n",
       "      <td>602.777700</td>\n",
       "    </tr>\n",
       "    <tr>\n",
       "      <th>121</th>\n",
       "      <td>0900700010727039</td>\n",
       "      <td>1</td>\n",
       "      <td>18558.964684</td>\n",
       "      <td>POLYGON ((-99.10956077967828 19.35650034958984...</td>\n",
       "      <td>13394</td>\n",
       "      <td>0900700010727043</td>\n",
       "      <td>48</td>\n",
       "      <td>602.744769</td>\n",
       "    </tr>\n",
       "    <tr>\n",
       "      <th>121</th>\n",
       "      <td>0900700010727039</td>\n",
       "      <td>1</td>\n",
       "      <td>18558.964684</td>\n",
       "      <td>POLYGON ((-99.10956077967828 19.35650034958984...</td>\n",
       "      <td>14894</td>\n",
       "      <td>0900700010727040</td>\n",
       "      <td>52</td>\n",
       "      <td>602.744824</td>\n",
       "    </tr>\n",
       "    <tr>\n",
       "      <th>121</th>\n",
       "      <td>0900700010727039</td>\n",
       "      <td>1</td>\n",
       "      <td>18558.964684</td>\n",
       "      <td>POLYGON ((-99.10956077967828 19.35650034958984...</td>\n",
       "      <td>15969</td>\n",
       "      <td>0900700010727041</td>\n",
       "      <td>55</td>\n",
       "      <td>602.755923</td>\n",
       "    </tr>\n",
       "    <tr>\n",
       "      <th>121</th>\n",
       "      <td>0900700010727039</td>\n",
       "      <td>1</td>\n",
       "      <td>18558.964684</td>\n",
       "      <td>POLYGON ((-99.10956077967828 19.35650034958984...</td>\n",
       "      <td>16319</td>\n",
       "      <td>0900700010727042</td>\n",
       "      <td>56</td>\n",
       "      <td>602.782111</td>\n",
       "    </tr>\n",
       "  </tbody>\n",
       "</table>\n",
       "</div>"
      ],
      "text/plain": [
       "        CVEGEO_parent  POBTOT_parent   AREA_parent  \\\n",
       "121  0900700010727039              1  18558.964684   \n",
       "121  0900700010727039              1  18558.964684   \n",
       "121  0900700010727039              1  18558.964684   \n",
       "121  0900700010727039              1  18558.964684   \n",
       "121  0900700010727039              1  18558.964684   \n",
       "\n",
       "                                              geometry  index_child  \\\n",
       "121  POLYGON ((-99.10956077967828 19.35650034958984...        10911   \n",
       "121  POLYGON ((-99.10956077967828 19.35650034958984...        13394   \n",
       "121  POLYGON ((-99.10956077967828 19.35650034958984...        14894   \n",
       "121  POLYGON ((-99.10956077967828 19.35650034958984...        15969   \n",
       "121  POLYGON ((-99.10956077967828 19.35650034958984...        16319   \n",
       "\n",
       "         CVEGEO_child  POBTOT_child  AREA_child  \n",
       "121  0900700010727044            41  602.777700  \n",
       "121  0900700010727043            48  602.744769  \n",
       "121  0900700010727040            52  602.744824  \n",
       "121  0900700010727041            55  602.755923  \n",
       "121  0900700010727042            56  602.782111  "
      ]
     },
     "execution_count": 5,
     "metadata": {},
     "output_type": "execute_result"
    }
   ],
   "source": [
    "contains.head()"
   ]
  },
  {
   "cell_type": "code",
   "execution_count": 6,
   "metadata": {},
   "outputs": [
    {
     "data": {
      "text/plain": [
       "121                  [10911, 13394, 14894, 15969, 16319]\n",
       "125    [10172, 11926, 12286, 12636, 12953, 22773, 249...\n",
       "286    [28738, 29000, 30541, 30803, 32323, 32322, 323...\n",
       "442                                   [1574, 3653, 5117]\n",
       "458                                [12216, 37575, 40389]\n",
       "Name: index_child, dtype: object"
      ]
     },
     "execution_count": 6,
     "metadata": {},
     "output_type": "execute_result"
    }
   ],
   "source": [
    "parent2children.head()"
   ]
  },
  {
   "cell_type": "markdown",
   "metadata": {},
   "source": [
    "# Cluster Children"
   ]
  },
  {
   "cell_type": "code",
   "execution_count": 7,
   "metadata": {},
   "outputs": [],
   "source": [
    "def cluster_children(idx_parent, pop_threshold = 100):\n",
    "    \n",
    "    # Initialize Clusters By Putting Each Child Into Its Own Cluster\n",
    "    clusters = [[x] for x in parent2children[idx_parent]]\n",
    "\n",
    "    # Initialize Parent\n",
    "    parent = [idx_parent]\n",
    "\n",
    "    while True:\n",
    "\n",
    "        # Stop if there is only one cluster left\n",
    "        if len(clusters) == 1:\n",
    "\n",
    "            # If the remaining cluster's pop is below the threshold\n",
    "            if census.loc[clusters[0],'POBTOT'].sum() < pop_threshold:\n",
    "\n",
    "                # Dissolve it into its parent\n",
    "                parent += clusters.pop()\n",
    "\n",
    "            break\n",
    "\n",
    "        # Find Cluster Position With the Smallest Pop\n",
    "        idx_smallest = np.argmin([census.loc[cluster,'POBTOT'].sum() for cluster in clusters])\n",
    "\n",
    "        # Stop if the smallest cluster is above the threshold\n",
    "        if census.loc[clusters[idx_smallest],'POBTOT'].sum()>=pop_threshold:\n",
    "            break\n",
    "\n",
    "        # Find Cluster Position Of Its Closest Neighbor\n",
    "        idx_closest = np.argsort([\n",
    "        cascaded_union(census.loc[cluster,'geometry']).distance(\n",
    "        cascaded_union(census.loc[clusters[idx_smallest],'geometry'])) for cluster in clusters])[1]\n",
    "\n",
    "        # Create a new cluster merging the two\n",
    "        new_cluster = clusters[idx_smallest]+clusters[idx_closest]\n",
    "\n",
    "        # Remove smallest cluster and its closest neighbor\n",
    "        clusters = [cluster for idx_cluster,cluster in enumerate(clusters) if idx_cluster not in [idx_smallest,idx_closest]]\n",
    "\n",
    "        # Append the new cluster\n",
    "        clusters.append(new_cluster)\n",
    "    \n",
    "    # List of cluster can be empty\n",
    "    return parent, clusters"
   ]
  },
  {
   "cell_type": "code",
   "execution_count": 8,
   "metadata": {},
   "outputs": [
    {
     "name": "stdout",
     "output_type": "stream",
     "text": [
      "Cluster Children\n",
      "# Parent 0\n",
      "# Parent 100\n",
      "# Parent 200\n",
      "# Parent 300\n",
      "# Parent 400\n",
      "# Parent 500\n",
      "# Parent 600\n",
      "Computing Time: 105 sec\n"
     ]
    }
   ],
   "source": [
    "start = timer()\n",
    "print('Cluster Children')\n",
    "\n",
    "parent2clusters = {}\n",
    "\n",
    "for i,idx_parent in enumerate(parent2children.index):\n",
    "    \n",
    "    if not i%100:\n",
    "        print('# Parent', i)\n",
    "        \n",
    "    parent2clusters[idx_parent] = cluster_children(idx_parent,pop_threshold=100)\n",
    "    \n",
    "end = timer()\n",
    "print('Computing Time:', round(end - start), 'sec')"
   ]
  },
  {
   "cell_type": "code",
   "execution_count": 9,
   "metadata": {},
   "outputs": [
    {
     "name": "stdout",
     "output_type": "stream",
     "text": [
      "Check Pct Parents in Which Children Were Dissolved:\n",
      "0.10132890365448505\n",
      "0.10132890365448505\n"
     ]
    }
   ],
   "source": [
    "print(\"Check Pct Parents in Which Children Were Dissolved:\")\n",
    "print((contains.groupby(contains.index)['POBTOT_child'].sum()<100).mean())\n",
    "print(len([parent for (parent,clusters) in parent2clusters.values() if len(parent) > 1])/len(parent2clusters))"
   ]
  },
  {
   "cell_type": "code",
   "execution_count": 10,
   "metadata": {},
   "outputs": [
    {
     "name": "stdout",
     "output_type": "stream",
     "text": [
      "Check Population Parents+Children:\n",
      "616579\n",
      "616579\n"
     ]
    }
   ],
   "source": [
    "print(\"Check Population Parents+Children:\")\n",
    "print(contains.groupby(contains.index).agg({'POBTOT_parent':'first','POBTOT_child':'sum'}).sum().sum())\n",
    "print(\n",
    "sum([census.loc[parent,'POBTOT'].sum() for (parent,clusters) in parent2clusters.values()])+\\\n",
    "sum([census.loc[cluster,'POBTOT'].sum() for (parent,clusters) in parent2clusters.values() for cluster in clusters]))"
   ]
  },
  {
   "cell_type": "code",
   "execution_count": 11,
   "metadata": {},
   "outputs": [],
   "source": [
    "def plot_parent2children(idx_parent):\n",
    "\n",
    "    colors = sns.color_palette(\"Set3\", 10)\n",
    "    \n",
    "    if idx_parent not in parent2children:\n",
    "        print('No Children :(')\n",
    "        return\n",
    "    \n",
    "    fig, ax = plt.subplots(figsize = (15,15)) \n",
    "\n",
    "    data_parent = census.loc[[idx_parent]].copy()\n",
    "\n",
    "    data_parent.plot(\n",
    "    ax=ax,\n",
    "    linewidth=0,\n",
    "    color='k',\n",
    "    alpha=0.25,\n",
    "    edgecolor='k')\n",
    "\n",
    "    plt.annotate(\n",
    "    s=data_parent['POBTOT'].values[0], \n",
    "    xy=(data_parent['geometry'].centroid.x,data_parent['geometry'].centroid.y),\n",
    "    horizontalalignment='center',\n",
    "    color='k',\n",
    "    fontsize=30,\n",
    "    alpha=1,\n",
    "    fontweight='bold')\n",
    "\n",
    "    data_children = census.loc[parent2children[idx_parent]].copy()\n",
    "\n",
    "    data_children.plot(\n",
    "    ax=ax,\n",
    "    color=colors[-1],\n",
    "    linewidth=0,\n",
    "    edgecolor=colors[-1])\n",
    "\n",
    "    for idx, row in data_children.iterrows():\n",
    "        plt.annotate(\n",
    "        s=row['POBTOT'], \n",
    "        xy=(row['geometry'].centroid.x,row['geometry'].centroid.y),\n",
    "        horizontalalignment='center',\n",
    "        color='k')\n",
    "\n",
    "    ax.axis('off')\n",
    "#     plt.savefig('../figures/parent2children-'+census.loc[idx_parent,'CVEGEO']+'.pdf',bbox_inches='tight')"
   ]
  },
  {
   "cell_type": "code",
   "execution_count": 12,
   "metadata": {},
   "outputs": [],
   "source": [
    "def plot_childrenclusters(idx_parent,pop_threshold = 100):\n",
    "\n",
    "    colors = sns.color_palette(\"Set3\", 10)\n",
    "    \n",
    "    if idx_parent not in parent2children:\n",
    "        print('No Children :(')\n",
    "        return\n",
    "\n",
    "    parent, clusters = cluster_children(idx_parent,pop_threshold)\n",
    "\n",
    "    fig, ax = plt.subplots(figsize = (15,15))\n",
    "\n",
    "    data_parent = census.loc[parent].drop('CVEGEO',1).reset_index(drop=True)\n",
    "\n",
    "    data_parent.plot(ax=ax,color='k',alpha=0.25)\n",
    "\n",
    "    plt.annotate(\n",
    "    s=data_parent['POBTOT'].sum(), \n",
    "    xy=(cascaded_union(data_parent['geometry']).centroid.x,cascaded_union(data_parent['geometry']).centroid.y),\n",
    "    horizontalalignment='center',\n",
    "    color='k',\n",
    "    fontsize=30,\n",
    "    fontweight='bold',\n",
    "    alpha=1)\n",
    "\n",
    "    if len(clusters):\n",
    "\n",
    "        data_clusters = pd.concat([\n",
    "        census.loc[cluster].drop('CVEGEO',1) for cluster in clusters],\n",
    "        keys=range(len(clusters))).reset_index(\n",
    "        level=1,drop=True).reset_index().dissolve(by='index', aggfunc='sum')\n",
    "\n",
    "        data_clusters.plot(ax=ax,cmap='YlOrRd')\n",
    "\n",
    "        for idx, row in data_clusters.iterrows():\n",
    "            plt.annotate(\n",
    "            s=row['POBTOT'], \n",
    "            xy=(row['geometry'].centroid.x,row['geometry'].centroid.y),\n",
    "            horizontalalignment='center',\n",
    "            color='k')\n",
    "\n",
    "    ax.axis('off')\n",
    "    plt.savefig('../figures/childrenclusters-'+census.loc[idx_parent,'CVEGEO']+'.pdf',bbox_inches='tight')"
   ]
  },
  {
   "cell_type": "code",
   "execution_count": 13,
   "metadata": {},
   "outputs": [
    {
     "data": {
      "image/png": "[encoded data removed]",
      "text/plain": [
       "<Figure size 1080x1080 with 1 Axes>"
      ]
     },
     "metadata": {
      "needs_background": "light"
     },
     "output_type": "display_data"
    },
    {
     "data": {
      "image/png": "[encoded data removed]",
      "text/plain": [
       "<Figure size 1080x1080 with 1 Axes>"
      ]
     },
     "metadata": {
      "needs_background": "light"
     },
     "output_type": "display_data"
    }
   ],
   "source": [
    "plot_parent2children(121)\n",
    "plot_childrenclusters(121)"
   ]
  },
  {
   "cell_type": "markdown",
   "metadata": {},
   "source": [
    "# Cluster Parents"
   ]
  },
  {
   "cell_type": "code",
   "execution_count": 13,
   "metadata": {},
   "outputs": [],
   "source": [
    "# Compute Distance Between 2 Clusters\n",
    "def get_distance(smallest, cluster):\n",
    "    \n",
    "    return cascaded_union(census.loc[cluster,'geometry']).distance(cascaded_union(census.loc[smallest,'geometry']))"
   ]
  },
  {
   "cell_type": "code",
   "execution_count": 14,
   "metadata": {},
   "outputs": [],
   "source": [
    "def cluster_blocks(pop_threshold=100):\n",
    "    \n",
    "    # Take all the parents' neighbors\n",
    "    neighbors=sorted(set(census.index).difference(set(contains.index)).difference(set(contains.index_child)))\n",
    "\n",
    "    # Initialize Clusters By Putting Each Neighbor In Its Own Cluster and Allow Merges With Parents Clusters\n",
    "    clusters=[[neighbor] for neighbor in neighbors]+[parent for (parent,childrenclusters) in parent2clusters.values()]\n",
    "#     clusters=[clusters[i] for i in np.random.choice(range(len(clusters)),100)]\n",
    "\n",
    "    # Initialize Clusters Populations\n",
    "    pops=[census.loc[cluster,'POBTOT'].sum() for cluster in clusters]\n",
    "\n",
    "    i = 0 \n",
    "    start = timer()\n",
    "    \n",
    "    while True:\n",
    "\n",
    "        if not i % 100:\n",
    "            print('Iteration', i)\n",
    "            end = timer()\n",
    "            print('Computing Time:', round(end - start), 'Sec')\n",
    "            start = timer()\n",
    "\n",
    "        # Find Cluster Position With the Smallest Pop\n",
    "        idx_smallest=np.argmin(pops)\n",
    "\n",
    "        # Stop if the smallest cluster is above the threshold\n",
    "        if pops[idx_smallest]>=pop_threshold:\n",
    "            break\n",
    "\n",
    "        # First Dimension Gets Partialized\n",
    "        partial_distance = partial(get_distance, clusters[idx_smallest])\n",
    "\n",
    "        # Compute Distances to Smallest Cluster\n",
    "        with mp.Pool() as pool:\n",
    "            distances = pool.map(partial_distance, clusters)\n",
    "\n",
    "        # Find Cluster Position Of Its Closest Neighbor\n",
    "        idx_closest = np.argsort(distances)[1]\n",
    "\n",
    "        # Create a new cluster merging the smallest cluster and its closest neighbor\n",
    "        new_cluster = clusters[idx_smallest]+clusters[idx_closest]\n",
    "        new_pop = census.loc[new_cluster,'POBTOT'].sum()\n",
    "\n",
    "        # Remove smallest cluster and its closest neighbor\n",
    "        clusters = [cluster for idx_cluster,cluster in enumerate(clusters) if idx_cluster not in [idx_smallest,idx_closest]]\n",
    "        pops = [pop for idx_pop,pop in enumerate(pops) if idx_pop not in [idx_smallest,idx_closest]]\n",
    "\n",
    "        # Append the new cluster and its pop\n",
    "        clusters.append(new_cluster)\n",
    "        pops.append(new_pop)\n",
    "\n",
    "        i+=1\n",
    "    \n",
    "    return clusters"
   ]
  },
  {
   "cell_type": "code",
   "execution_count": 15,
   "metadata": {},
   "outputs": [
    {
     "name": "stdout",
     "output_type": "stream",
     "text": [
      "Cluster Blocks\n",
      "Iteration 0\n",
      "Computing Time: 0 Sec\n",
      "Computing Time: 5 sec\n"
     ]
    }
   ],
   "source": [
    "start = timer()\n",
    "print('Cluster Blocks')\n",
    "\n",
    "clusters = cluster_blocks(pop_threshold=100)\n",
    "\n",
    "end = timer()\n",
    "print('Computing Time:', round(end - start), 'sec')"
   ]
  },
  {
   "cell_type": "code",
   "execution_count": 16,
   "metadata": {},
   "outputs": [
    {
     "name": "stdout",
     "output_type": "stream",
     "text": [
      "# Days 7.651657732689291\n"
     ]
    }
   ],
   "source": [
    "df = pd.DataFrame([\n",
    "[50, 3],\n",
    "[100, 7],\n",
    "[150, 12],\n",
    "[200, 20],\n",
    "[300, 32],\n",
    "[400, 57],\n",
    "[500, 80],\n",
    "[600, 94],\n",
    "[700, 128],\n",
    "[800, 193],\n",
    "[900, 224],\n",
    "[1000, 259]])\n",
    "\n",
    "z = np.polyfit(list(df[0]), list(df[1]), 2)\n",
    "\n",
    "p = np.poly1d(z)\n",
    "\n",
    "print('# Days', p(53830)/(3600*24))"
   ]
  },
  {
   "cell_type": "code",
   "execution_count": 17,
   "metadata": {},
   "outputs": [
    {
     "name": "stdout",
     "output_type": "stream",
     "text": [
      "SAVE\n",
      "Computing Time: 0 sec\n"
     ]
    }
   ],
   "source": [
    "print('SAVE')\n",
    "start = timer()\n",
    "\n",
    "with open(\"../data/clusters-cdmx.pkl\",\"wb\") as f:\n",
    "    pickle.dump(census['CVEGEO'].to_dict(),f)\n",
    "    pickle.dump(parent2clusters,f)\n",
    "    pickle.dump(clusters,f)\n",
    "\n",
    "end = timer()\n",
    "print('Computing Time:', round(end - start), 'sec')"
   ]
  },
  {
   "cell_type": "code",
   "execution_count": null,
   "metadata": {},
   "outputs": [],
   "source": [
    "print('Done!')"
   ]
  },
  {
   "cell_type": "markdown",
   "metadata": {},
   "source": [
    "# Inspect Results"
   ]
  },
  {
   "cell_type": "code",
   "execution_count": 4,
   "metadata": {},
   "outputs": [
    {
     "name": "stdout",
     "output_type": "stream",
     "text": [
      "LOAD\n",
      "Computing Time: 0 sec\n"
     ]
    }
   ],
   "source": [
    "print('LOAD')\n",
    "start = timer()\n",
    "\n",
    "with open(\"../data/clusters-cdmx.pkl\",\"rb\") as f:\n",
    "    idx2CVEGEO = pickle.load(f)\n",
    "    parent2clusters = pickle.load(f)\n",
    "    clusters = pickle.load(f)\n",
    "\n",
    "clusters = [cluster for parent, clusters in parent2clusters.values() for cluster in clusters] + clusters\n",
    "\n",
    "end = timer()\n",
    "print('Computing Time:', round(end - start), 'sec')"
   ]
  },
  {
   "cell_type": "code",
   "execution_count": 5,
   "metadata": {},
   "outputs": [
    {
     "name": "stdout",
     "output_type": "stream",
     "text": [
      "# Clusters: 35843\n"
     ]
    }
   ],
   "source": [
    "print('# Clusters:', len(clusters))"
   ]
  },
  {
   "cell_type": "code",
   "execution_count": 21,
   "metadata": {},
   "outputs": [
    {
     "name": "stdout",
     "output_type": "stream",
     "text": [
      "# Blocks:\n",
      "59904\n",
      "59904\n",
      "0\n"
     ]
    }
   ],
   "source": [
    "print('# Blocks:')\n",
    "print(len(set([y for x in clusters for y in x])))\n",
    "print(census.shape[0])\n",
    "print((list(set([y for x in clusters for y in x])) != census.index).sum())"
   ]
  },
  {
   "cell_type": "code",
   "execution_count": 22,
   "metadata": {},
   "outputs": [],
   "source": [
    "pops = pd.Series([census.loc[cluster,'POBTOT'].sum() for cluster in clusters])"
   ]
  },
  {
   "cell_type": "code",
   "execution_count": 23,
   "metadata": {},
   "outputs": [
    {
     "data": {
      "text/plain": [
       "count    35843.000000\n",
       "mean       244.569288\n",
       "std        214.690052\n",
       "min        100.000000\n",
       "25%        141.000000\n",
       "50%        191.000000\n",
       "75%        272.000000\n",
       "max      12964.000000\n",
       "dtype: float64"
      ]
     },
     "execution_count": 23,
     "metadata": {},
     "output_type": "execute_result"
    }
   ],
   "source": [
    "pops.describe()"
   ]
  }
 ],
 "metadata": {
  "kernelspec": {
   "display_name": "Python 3",
   "language": "python",
   "name": "python3"
  },
  "language_info": {
   "codemirror_mode": {
    "name": "ipython",
    "version": 3
   },
   "file_extension": ".py",
   "mimetype": "text/x-python",
   "name": "python",
   "nbconvert_exporter": "python",
   "pygments_lexer": "ipython3",
   "version": "3.7.3"
  }
 },
 "nbformat": 4,
 "nbformat_minor": 2
}
