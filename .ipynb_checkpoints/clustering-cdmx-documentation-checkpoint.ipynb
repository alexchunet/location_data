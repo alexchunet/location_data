{
 "cells": [
  {
   "cell_type": "code",
   "execution_count": 1,
   "metadata": {},
   "outputs": [],
   "source": [
    "from timeit import default_timer as timer\n",
    "import pandas as pd\n",
    "import geopandas as gpd\n",
    "import json"
   ]
  },
  {
   "cell_type": "markdown",
   "metadata": {},
   "source": [
    "# Import Offifical Population Data"
   ]
  },
  {
   "cell_type": "code",
   "execution_count": 2,
   "metadata": {},
   "outputs": [
    {
     "name": "stdout",
     "output_type": "stream",
     "text": [
      "Import Census Blocks from Inegi\n",
      "Computing Time: 4 sec\n"
     ]
    }
   ],
   "source": [
    "print('Import Census Blocks from Inegi')\n",
    "start = timer()\n",
    "\n",
    "# Raw data downloaded from:\n",
    "# http://internet.contenidos.inegi.org.mx/contenidos/Productos/prod_serv/contenidos/espanol/bvinegi/productos/geografia/marcogeo/889463674658_s.zip\n",
    "blocks = gpd.read_file('../data/Geoestadistica_2018/09_ciudaddemexico/conjunto de datos/09m.shp',encoding=\"utf-8\")\n",
    "\n",
    "end = timer()\n",
    "print('Computing Time:', round(end - start), 'sec')"
   ]
  },
  {
   "cell_type": "code",
   "execution_count": 3,
   "metadata": {},
   "outputs": [
    {
     "name": "stdout",
     "output_type": "stream",
     "text": [
      "Import Population Counts from Inegi\n",
      "Computing Time: 19 sec\n"
     ]
    }
   ],
   "source": [
    "print('Import Population Counts from Inegi')\n",
    "start = timer()\n",
    "\n",
    "# Downloaded from:\n",
    "# https://www.inegi.org.mx/contenidos/programas/ccpv/2010/microdatos/iter/ageb_manzana/09_distrito_federal_2010_ageb_manzana_urbana_dbf.zip\n",
    "pop = gpd.read_file('../data/Poblacion/RESAGEBURB_09DBF10.dbf')\n",
    "\n",
    "end = timer()\n",
    "print('Computing Time:', round(end - start), 'sec')"
   ]
  },
  {
   "cell_type": "code",
   "execution_count": 4,
   "metadata": {},
   "outputs": [
    {
     "name": "stdout",
     "output_type": "stream",
     "text": [
      "Merge\n",
      "Sort blocks by population count and area\n",
      "Project to wgs84\n",
      "Computing Time: 6 sec\n"
     ]
    }
   ],
   "source": [
    "start = timer()\n",
    "\n",
    "print('Merge')\n",
    "census = pd.merge(\n",
    "blocks[['CVE_ENT','CVE_MUN','CVE_LOC','CVE_AGEB','CVE_MZA','CVEGEO','geometry']],\n",
    "pop[['ENTIDAD','MUN','LOC','AGEB','MZA','POBTOT']],\n",
    "left_on=['CVE_ENT','CVE_MUN','CVE_LOC','CVE_AGEB','CVE_MZA'],\n",
    "right_on=['ENTIDAD','MUN','LOC','AGEB','MZA'])[['CVEGEO','POBTOT','geometry']]\n",
    "\n",
    "print('Sort blocks by population count and area')\n",
    "census['POBTOT'] = census['POBTOT'].astype(int)\n",
    "census = pd.concat([census,census.geometry.area.rename('AREA')],1).sort_values(\n",
    "by=['POBTOT','AREA']).reset_index(drop=True).drop('AREA',1).rename(columns={'POBTOT':'population'})\n",
    "\n",
    "print('Project to wgs84')\n",
    "census = census.to_crs({'init': 'epsg:4326'})\n",
    "\n",
    "end = timer()\n",
    "print('Computing Time:', round(end - start), 'sec')"
   ]
  },
  {
   "cell_type": "markdown",
   "metadata": {},
   "source": [
    "# Import Clusters"
   ]
  },
  {
   "cell_type": "code",
   "execution_count": 5,
   "metadata": {},
   "outputs": [
    {
     "name": "stdout",
     "output_type": "stream",
     "text": [
      "Computing Time: 9 sec\n"
     ]
    }
   ],
   "source": [
    "start = timer()\n",
    "\n",
    "# geodataframe in which each row contains a cluster id, population, and geometry\n",
    "clusters = gpd.read_file('../data/clusters-cdmx.geojson')\n",
    "\n",
    "# dictionary converting cluster id to census block ids\n",
    "with open('../data/cluster2blocks-cdmx.json') as json_data:\n",
    "    cluster2blocks = json.load(json_data)\n",
    "\n",
    "end = timer()\n",
    "print('Computing Time:', round(end - start), 'sec')"
   ]
  },
  {
   "cell_type": "markdown",
   "metadata": {},
   "source": [
    "# Check Clusters Populations"
   ]
  },
  {
   "cell_type": "code",
   "execution_count": 6,
   "metadata": {},
   "outputs": [
    {
     "name": "stdout",
     "output_type": "stream",
     "text": [
      "Create dictionary converting each census block id (CVEGEO) to a cluster id\n",
      "Map each census block id to a cluster id (some empty blocks are not allocated to a cluster)\n",
      "Computing Time: 9 sec\n"
     ]
    }
   ],
   "source": [
    "start = timer()\n",
    "\n",
    "print('Create dictionary converting each census block id (CVEGEO) to a cluster id')\n",
    "block2cluster = pd.Series(cluster2blocks).apply(pd.Series).stack().rename('CVEGEO').reset_index(\n",
    "drop=True,level = 1).reset_index().set_index('CVEGEO')['index'].rename('CLUSTER').to_dict()\n",
    "\n",
    "print('Map each census block id to a cluster id (some empty blocks are not allocated to a cluster)')\n",
    "census['cluster'] = census['CVEGEO'].apply(lambda x:block2cluster.get(x,None)).astype(float)\n",
    "census.dropna(inplace=True)\n",
    "census['cluster'] = census['cluster'].astype(int)\n",
    "\n",
    "end = timer()\n",
    "print('Computing Time:', round(end - start), 'sec')"
   ]
  },
  {
   "cell_type": "code",
   "execution_count": 7,
   "metadata": {},
   "outputs": [
    {
     "name": "stdout",
     "output_type": "stream",
     "text": [
      "Number of People in Each Census Blocks Grouped By Cluster == Number of People in Each Cluster\n"
     ]
    },
    {
     "data": {
      "text/plain": [
       "True"
      ]
     },
     "execution_count": 7,
     "metadata": {},
     "output_type": "execute_result"
    }
   ],
   "source": [
    "print('Number of People in Each Census Blocks Grouped By Cluster == Number of People in Each Cluster')\n",
    "census.groupby('cluster')['population'].sum().equals(clusters['population'])"
   ]
  }
 ],
 "metadata": {
  "kernelspec": {
   "display_name": "Python 3",
   "language": "python",
   "name": "python3"
  },
  "language_info": {
   "codemirror_mode": {
    "name": "ipython",
    "version": 3
   },
   "file_extension": ".py",
   "mimetype": "text/x-python",
   "name": "python",
   "nbconvert_exporter": "python",
   "pygments_lexer": "ipython3",
   "version": "3.7.3"
  }
 },
 "nbformat": 4,
 "nbformat_minor": 2
}
