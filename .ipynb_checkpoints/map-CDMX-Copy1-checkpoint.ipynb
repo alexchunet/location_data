{
 "cells": [
  {
   "cell_type": "markdown",
   "metadata": {},
   "source": [
    "REFERENCE:\n",
    "    \n",
    "https://python-visualization.github.io/folium/quickstart.html\n",
    "\n",
    "https://medium.com/@bobhaffner/creating-a-legend-for-a-folium-map-c1e0ffc34373\n",
    "\n",
    "https://medium.com/starschema-blog/create-a-map-of-budapest-districts-colored-by-income-using-folium-in-python-8ab0becf4491\n",
    "\n",
    "http://andrewgaidus.com/leaflet_webmaps_python/\n",
    "\n",
    "https://www.kaggle.com/dabaker/fancy-folium"
   ]
  },
  {
   "cell_type": "code",
   "execution_count": 3,
   "metadata": {},
   "outputs": [
    {
     "name": "stderr",
     "output_type": "stream",
     "text": [
      "//anaconda3/lib/python3.7/site-packages/pysal/explore/segregation/network/network.py:16: UserWarning: You need pandana and urbanaccess to work with segregation's network module\n",
      "You can install them with  `pip install urbanaccess pandana` or `conda install -c udst pandana urbanaccess`\n",
      "  \"You need pandana and urbanaccess to work with segregation's network module\\n\"\n",
      "//anaconda3/lib/python3.7/site-packages/pysal/model/spvcm/abstracts.py:10: UserWarning: The `dill` module is required to use the sqlite backend fully.\n",
      "  from .sqlite import head_to_sql, start_sql\n"
     ]
    }
   ],
   "source": [
    "from timeit import default_timer as timer\n",
    "import geopandas as gpd\n",
    "import pandas as pd\n",
    "import json\n",
    "from shapely.geometry import Polygon, Point\n",
    "import numpy as np\n",
    "from glob import glob\n",
    "import matplotlib.pyplot as plt\n",
    "import seaborn as sns\n",
    "import folium\n",
    "import pysal as ps\n",
    "from shapely.ops import cascaded_union\n",
    "\n",
    "%matplotlib inline"
   ]
  },
  {
   "cell_type": "markdown",
   "metadata": {},
   "source": [
    "# Census Data"
   ]
  },
  {
   "cell_type": "code",
   "execution_count": 4,
   "metadata": {},
   "outputs": [
    {
     "name": "stdout",
     "output_type": "stream",
     "text": [
      "Import Shapefile CDMX (INEGI):\n",
      "Import Census CDMX (INEGI):\n",
      "Computing Time: 40 sec\n"
     ]
    }
   ],
   "source": [
    "start = timer()\n",
    "\n",
    "print('Import Shapefile CDMX (INEGI):')\n",
    "census_blocks = gpd.read_file(\n",
    "'../data/Geoestadistica_2018/09_ciudaddemexico/conjunto de datos/09m.shp',encoding=\"utf-8\")\n",
    "\n",
    "print('Import Census CDMX (INEGI):')\n",
    "census_data = gpd.read_file('../data/Poblacion/RESAGEBURB_09DBF10.dbf')\n",
    "\n",
    "census_fields = ['POBTOT']\n",
    "\n",
    "census = pd.merge(\n",
    "census_blocks[['CVE_ENT','CVE_MUN','CVE_LOC','CVE_AGEB','CVE_MZA']+['CVEGEO','geometry']],\n",
    "census_data[['ENTIDAD','MUN','LOC','AGEB','MZA']+census_fields],\n",
    "left_on=['CVE_ENT','CVE_MUN','CVE_LOC','CVE_AGEB','CVE_MZA'],\n",
    "right_on=['ENTIDAD','MUN','LOC','AGEB','MZA'])[['CVEGEO']+census_fields+['geometry']]\n",
    "\n",
    "census['POBTOT'] = census['POBTOT'].astype(int)\n",
    "\n",
    "census['POBTOT_DECILE'] = pd.qcut(census['POBTOT'],10,labels=range(1,11)).astype(int)\n",
    "census['POBTOT_QUINTILE'] = pd.qcut(census['POBTOT'],5,labels=range(1,6)).astype(int)\n",
    "\n",
    "census_wgs84 = census.to_crs({'init': 'epsg:4326'})\n",
    "\n",
    "end = timer()\n",
    "print('Computing Time:', round(end - start), 'sec')"
   ]
  },
  {
   "cell_type": "code",
   "execution_count": 6,
   "metadata": {},
   "outputs": [],
   "source": [
    "census_wgs84[['CVEGEO','geometry']].to_file(\"../data/census-wgs84.geojson\", driver='GeoJSON')"
   ]
  },
  {
   "cell_type": "markdown",
   "metadata": {},
   "source": [
    "# Clusters"
   ]
  },
  {
   "cell_type": "code",
   "execution_count": 3,
   "metadata": {},
   "outputs": [
    {
     "name": "stdout",
     "output_type": "stream",
     "text": [
      "Import Clusters Census CDMX (INEGI):\n"
     ]
    }
   ],
   "source": [
    "print('Import Clusters Census CDMX (INEGI):')\n",
    "\n",
    "clusters = pd.read_pickle('../data/clusters-cdmx-partitioned.pkl')\n",
    "clusters.dropna(inplace=True)\n",
    "\n",
    "clusters_wgs84 = \\\n",
    "gpd.GeoDataFrame(clusters.drop(['geo_clusters','idx_clusters'],1), \n",
    "geometry=gpd.GeoSeries(clusters['geo_clusters']))\n",
    "\n",
    "clusters_wgs84['POBTOT_DECILE'] = pd.qcut(clusters_wgs84['pop_clusters'],10,labels=range(1,11)).astype(int)\n",
    "clusters_wgs84['POBTOT_QUINTILE'] = pd.qcut(clusters_wgs84['pop_clusters'],5,labels=range(1,6)).astype(int)\n",
    "\n",
    "clusters_wgs84.crs = {'init': 'epsg:4326'}\n",
    "clusters = clusters_wgs84.to_crs({\n",
    "'proj': 'lcc',\n",
    "'lat_1': 17.5,\n",
    "'lat_2': 29.5,\n",
    "'lat_0': 12,\n",
    "'lon_0': -102,\n",
    "'x_0': 2500000,\n",
    "'y_0': 0,\n",
    "'ellps': 'GRS80',\n",
    "'units': 'm',\n",
    "'no_defs': True})"
   ]
  },
  {
   "cell_type": "code",
   "execution_count": 4,
   "metadata": {},
   "outputs": [
    {
     "data": {
      "text/html": [
       "<div>\n",
       "<style scoped>\n",
       "    .dataframe tbody tr th:only-of-type {\n",
       "        vertical-align: middle;\n",
       "    }\n",
       "\n",
       "    .dataframe tbody tr th {\n",
       "        vertical-align: top;\n",
       "    }\n",
       "\n",
       "    .dataframe thead th {\n",
       "        text-align: right;\n",
       "    }\n",
       "</style>\n",
       "<table border=\"1\" class=\"dataframe\">\n",
       "  <thead>\n",
       "    <tr style=\"text-align: right;\">\n",
       "      <th></th>\n",
       "      <th>CVEGEO</th>\n",
       "      <th>pop_clusters</th>\n",
       "      <th>geometry</th>\n",
       "      <th>POBTOT_DECILE</th>\n",
       "      <th>POBTOT_QUINTILE</th>\n",
       "    </tr>\n",
       "  </thead>\n",
       "  <tbody>\n",
       "    <tr>\n",
       "      <th>0</th>\n",
       "      <td>0901700010418038</td>\n",
       "      <td>116.0</td>\n",
       "      <td>(POLYGON ((-99.10753936960764 19.4362775497714...</td>\n",
       "      <td>2</td>\n",
       "      <td>1</td>\n",
       "    </tr>\n",
       "    <tr>\n",
       "      <th>1</th>\n",
       "      <td>0901700011435003</td>\n",
       "      <td>116.0</td>\n",
       "      <td>(POLYGON ((-99.10922497032271 19.4084055199851...</td>\n",
       "      <td>2</td>\n",
       "      <td>1</td>\n",
       "    </tr>\n",
       "    <tr>\n",
       "      <th>2</th>\n",
       "      <td>0900600010700031</td>\n",
       "      <td>135.0</td>\n",
       "      <td>(POLYGON ((-99.09491196497733 19.3886321350872...</td>\n",
       "      <td>3</td>\n",
       "      <td>2</td>\n",
       "    </tr>\n",
       "    <tr>\n",
       "      <th>3</th>\n",
       "      <td>0900700014382043</td>\n",
       "      <td>256.0</td>\n",
       "      <td>(POLYGON ((-99.06679093818443 19.2907883389015...</td>\n",
       "      <td>8</td>\n",
       "      <td>4</td>\n",
       "    </tr>\n",
       "    <tr>\n",
       "      <th>4</th>\n",
       "      <td>0901700010808026</td>\n",
       "      <td>148.0</td>\n",
       "      <td>(POLYGON ((-99.06935806004813 19.428225969611,...</td>\n",
       "      <td>4</td>\n",
       "      <td>2</td>\n",
       "    </tr>\n",
       "  </tbody>\n",
       "</table>\n",
       "</div>"
      ],
      "text/plain": [
       "             CVEGEO  pop_clusters  \\\n",
       "0  0901700010418038         116.0   \n",
       "1  0901700011435003         116.0   \n",
       "2  0900600010700031         135.0   \n",
       "3  0900700014382043         256.0   \n",
       "4  0901700010808026         148.0   \n",
       "\n",
       "                                            geometry  POBTOT_DECILE  \\\n",
       "0  (POLYGON ((-99.10753936960764 19.4362775497714...              2   \n",
       "1  (POLYGON ((-99.10922497032271 19.4084055199851...              2   \n",
       "2  (POLYGON ((-99.09491196497733 19.3886321350872...              3   \n",
       "3  (POLYGON ((-99.06679093818443 19.2907883389015...              8   \n",
       "4  (POLYGON ((-99.06935806004813 19.428225969611,...              4   \n",
       "\n",
       "   POBTOT_QUINTILE  \n",
       "0                1  \n",
       "1                1  \n",
       "2                2  \n",
       "3                4  \n",
       "4                2  "
      ]
     },
     "execution_count": 4,
     "metadata": {},
     "output_type": "execute_result"
    }
   ],
   "source": [
    "clusters_wgs84.head()"
   ]
  },
  {
   "cell_type": "code",
   "execution_count": 5,
   "metadata": {},
   "outputs": [
    {
     "data": {
      "text/html": [
       "<div>\n",
       "<style scoped>\n",
       "    .dataframe tbody tr th:only-of-type {\n",
       "        vertical-align: middle;\n",
       "    }\n",
       "\n",
       "    .dataframe tbody tr th {\n",
       "        vertical-align: top;\n",
       "    }\n",
       "\n",
       "    .dataframe thead th {\n",
       "        text-align: right;\n",
       "    }\n",
       "</style>\n",
       "<table border=\"1\" class=\"dataframe\">\n",
       "  <thead>\n",
       "    <tr style=\"text-align: right;\">\n",
       "      <th></th>\n",
       "      <th>CVEGEO</th>\n",
       "      <th>pop_clusters</th>\n",
       "      <th>geometry</th>\n",
       "      <th>POBTOT_DECILE</th>\n",
       "      <th>POBTOT_QUINTILE</th>\n",
       "    </tr>\n",
       "  </thead>\n",
       "  <tbody>\n",
       "    <tr>\n",
       "      <th>0</th>\n",
       "      <td>0901700010418038</td>\n",
       "      <td>116.0</td>\n",
       "      <td>(POLYGON ((2802841.529299999 829517.2874999031...</td>\n",
       "      <td>2</td>\n",
       "      <td>1</td>\n",
       "    </tr>\n",
       "    <tr>\n",
       "      <th>1</th>\n",
       "      <td>0901700011435003</td>\n",
       "      <td>116.0</td>\n",
       "      <td>(POLYGON ((2802727.073900003 826437.9708999008...</td>\n",
       "      <td>2</td>\n",
       "      <td>1</td>\n",
       "    </tr>\n",
       "    <tr>\n",
       "      <th>2</th>\n",
       "      <td>0900600010700031</td>\n",
       "      <td>135.0</td>\n",
       "      <td>(POLYGON ((2804269.959100002 824286.1534998998...</td>\n",
       "      <td>3</td>\n",
       "      <td>2</td>\n",
       "    </tr>\n",
       "    <tr>\n",
       "      <th>3</th>\n",
       "      <td>0900700014382043</td>\n",
       "      <td>256.0</td>\n",
       "      <td>(POLYGON ((2807435.736900005 813547.810299902,...</td>\n",
       "      <td>8</td>\n",
       "      <td>4</td>\n",
       "    </tr>\n",
       "    <tr>\n",
       "      <th>4</th>\n",
       "      <td>0901700010808026</td>\n",
       "      <td>148.0</td>\n",
       "      <td>(POLYGON ((2806856.729700002 828709.9422998994...</td>\n",
       "      <td>4</td>\n",
       "      <td>2</td>\n",
       "    </tr>\n",
       "  </tbody>\n",
       "</table>\n",
       "</div>"
      ],
      "text/plain": [
       "             CVEGEO  pop_clusters  \\\n",
       "0  0901700010418038         116.0   \n",
       "1  0901700011435003         116.0   \n",
       "2  0900600010700031         135.0   \n",
       "3  0900700014382043         256.0   \n",
       "4  0901700010808026         148.0   \n",
       "\n",
       "                                            geometry  POBTOT_DECILE  \\\n",
       "0  (POLYGON ((2802841.529299999 829517.2874999031...              2   \n",
       "1  (POLYGON ((2802727.073900003 826437.9708999008...              2   \n",
       "2  (POLYGON ((2804269.959100002 824286.1534998998...              3   \n",
       "3  (POLYGON ((2807435.736900005 813547.810299902,...              8   \n",
       "4  (POLYGON ((2806856.729700002 828709.9422998994...              4   \n",
       "\n",
       "   POBTOT_QUINTILE  \n",
       "0                1  \n",
       "1                1  \n",
       "2                2  \n",
       "3                4  \n",
       "4                2  "
      ]
     },
     "execution_count": 5,
     "metadata": {},
     "output_type": "execute_result"
    }
   ],
   "source": [
    "clusters.head()"
   ]
  },
  {
   "cell_type": "markdown",
   "metadata": {},
   "source": [
    "# POIS Twitter"
   ]
  },
  {
   "cell_type": "code",
   "execution_count": 6,
   "metadata": {},
   "outputs": [
    {
     "name": "stdout",
     "output_type": "stream",
     "text": [
      "Import POIS MX (Twitter Decahose):\n"
     ]
    }
   ],
   "source": [
    "print('Import POIS MX (Twitter Decahose):')\n",
    "\n",
    "pois = pd.read_pickle('../data/twitter/pois-twitter-mx-geocoded.pkl')\n",
    "\n",
    "top_pois = [\n",
    "'restaurant', \n",
    "'lodging',\n",
    "'bank',\n",
    "'bar', \n",
    "'university', \n",
    "'hospital', \n",
    "'route',\n",
    "'shopping_mall', \n",
    "'cafe', \n",
    "'car_dealer', \n",
    "'school', \n",
    "'movie_theater',\n",
    "'convenience_store', \n",
    "'museum', \n",
    "'store',\n",
    "]+['']\n",
    "\n",
    "colors = sns.color_palette(\"Set3\", len(top_pois)+1)\n",
    "\n",
    "amenity2color = dict(zip(top_pois,colors.as_hex()))\n",
    "\n",
    "pois['color'] = pois['type'].apply(lambda x:amenity2color[x] if x in amenity2color else amenity2color[''])\n",
    "\n",
    "pois.drop(['id','candidates','northeast', 'southwest', 'types',],1,inplace=True)"
   ]
  },
  {
   "cell_type": "code",
   "execution_count": 7,
   "metadata": {},
   "outputs": [
    {
     "data": {
      "text/html": [
       "<div>\n",
       "<style scoped>\n",
       "    .dataframe tbody tr th:only-of-type {\n",
       "        vertical-align: middle;\n",
       "    }\n",
       "\n",
       "    .dataframe tbody tr th {\n",
       "        vertical-align: top;\n",
       "    }\n",
       "\n",
       "    .dataframe thead th {\n",
       "        text-align: right;\n",
       "    }\n",
       "</style>\n",
       "<table border=\"1\" class=\"dataframe\">\n",
       "  <thead>\n",
       "    <tr style=\"text-align: right;\">\n",
       "      <th></th>\n",
       "      <th>full_name</th>\n",
       "      <th>n_obs</th>\n",
       "      <th>longitude</th>\n",
       "      <th>latitude</th>\n",
       "      <th>type</th>\n",
       "      <th>color</th>\n",
       "    </tr>\n",
       "  </thead>\n",
       "  <tbody>\n",
       "    <tr>\n",
       "      <th>0</th>\n",
       "      <td>Aeropuerto Internacional de Monterrey Mariano ...</td>\n",
       "      <td>1375</td>\n",
       "      <td>-100.115861</td>\n",
       "      <td>25.776234</td>\n",
       "      <td>airport</td>\n",
       "      <td>#fb8072</td>\n",
       "    </tr>\n",
       "    <tr>\n",
       "      <th>1</th>\n",
       "      <td>222, Cuauhtémoc</td>\n",
       "      <td>1355</td>\n",
       "      <td>-99.161676</td>\n",
       "      <td>19.428425</td>\n",
       "      <td>shopping_mall</td>\n",
       "      <td>#fccde5</td>\n",
       "    </tr>\n",
       "    <tr>\n",
       "      <th>2</th>\n",
       "      <td>Plaza Satelite, Naucalpan de Juárez</td>\n",
       "      <td>1305</td>\n",
       "      <td>-99.235817</td>\n",
       "      <td>19.509424</td>\n",
       "      <td>shopping_mall</td>\n",
       "      <td>#fccde5</td>\n",
       "    </tr>\n",
       "    <tr>\n",
       "      <th>3</th>\n",
       "      <td>PASEO ACOXPA, Tlalpan</td>\n",
       "      <td>1081</td>\n",
       "      <td>-99.137509</td>\n",
       "      <td>19.297972</td>\n",
       "      <td>shopping_mall</td>\n",
       "      <td>#fccde5</td>\n",
       "    </tr>\n",
       "    <tr>\n",
       "      <th>4</th>\n",
       "      <td>Aeropuerto Internacional de Guadalajara., Tlaj...</td>\n",
       "      <td>1070</td>\n",
       "      <td>-103.300773</td>\n",
       "      <td>20.525788</td>\n",
       "      <td>airport</td>\n",
       "      <td>#fb8072</td>\n",
       "    </tr>\n",
       "  </tbody>\n",
       "</table>\n",
       "</div>"
      ],
      "text/plain": [
       "                                           full_name  n_obs   longitude  \\\n",
       "0  Aeropuerto Internacional de Monterrey Mariano ...   1375 -100.115861   \n",
       "1                                    222, Cuauhtémoc   1355  -99.161676   \n",
       "2                Plaza Satelite, Naucalpan de Juárez   1305  -99.235817   \n",
       "3                              PASEO ACOXPA, Tlalpan   1081  -99.137509   \n",
       "4  Aeropuerto Internacional de Guadalajara., Tlaj...   1070 -103.300773   \n",
       "\n",
       "    latitude           type    color  \n",
       "0  25.776234        airport  #fb8072  \n",
       "1  19.428425  shopping_mall  #fccde5  \n",
       "2  19.509424  shopping_mall  #fccde5  \n",
       "3  19.297972  shopping_mall  #fccde5  \n",
       "4  20.525788        airport  #fb8072  "
      ]
     },
     "execution_count": 7,
     "metadata": {},
     "output_type": "execute_result"
    }
   ],
   "source": [
    "pois.head()"
   ]
  },
  {
   "cell_type": "markdown",
   "metadata": {},
   "source": [
    "# Histograms"
   ]
  },
  {
   "cell_type": "code",
   "execution_count": 8,
   "metadata": {},
   "outputs": [
    {
     "name": "stderr",
     "output_type": "stream",
     "text": [
      "/Users/samuel.fraiberger/anaconda3/lib/python3.6/site-packages/ipykernel_launcher.py:9: VisibleDeprecationWarning: Passing `normed=True` on non-uniform bins has always been broken, and computes neither the probability density function nor the probability mass function. The result is only correct if the bins are uniform, when density=True will produce the same result anyway. The argument will be removed in a future version of numpy.\n",
      "  if __name__ == '__main__':\n",
      "/Users/samuel.fraiberger/anaconda3/lib/python3.6/site-packages/ipykernel_launcher.py:14: VisibleDeprecationWarning: Passing `normed=True` on non-uniform bins has always been broken, and computes neither the probability density function nor the probability mass function. The result is only correct if the bins are uniform, when density=True will produce the same result anyway. The argument will be removed in a future version of numpy.\n",
      "  \n"
     ]
    },
    {
     "data": {
      "image/png": "[encoded data removed]",
      "text/plain": [
       "<Figure size 576x360 with 1 Axes>"
      ]
     },
     "metadata": {},
     "output_type": "display_data"
    }
   ],
   "source": [
    "name = 'Area (in Km$^2$)'\n",
    "\n",
    "with sns.axes_style(\"white\"):\n",
    "    sns.set_style(\"ticks\")\n",
    "\n",
    "    fig,ax = plt.subplots(figsize=(8,5))\n",
    "    \n",
    "    data = census['geometry'].area/10**6\n",
    "    y,edges = np.histogram(data, np.histogram_bin_edges(data, bins=101), normed=True)\n",
    "    centers = 0.5*(edges[1:]+ edges[:-1])\n",
    "    ax.plot(centers,y,'-*',color='r',linewidth=.5,markersize=5,label='Blocks')\n",
    "\n",
    "    data = clusters['geometry'].area/10**6\n",
    "    y,edges = np.histogram(data, np.histogram_bin_edges(data, bins=101), normed=True)\n",
    "    centers = 0.5*(edges[1:]+ edges[:-1])\n",
    "    ax.plot(centers,y,'-o',color='b',linewidth=.5,markersize=3,label='Clusters')\n",
    "    \n",
    "    ax.set_xscale('log')\n",
    "    ax.set_yscale('log')\n",
    "    ax.tick_params(which='both',direction='in',pad=3)\n",
    "    ax.locator_params(axis='both',numticks=10)\n",
    "    ax.set_xlabel(name)\n",
    "    ax.set_ylabel('P( '+name.split(' ')[0]+' )')\n",
    "    ax.legend(loc='best')"
   ]
  },
  {
   "cell_type": "code",
   "execution_count": 9,
   "metadata": {},
   "outputs": [
    {
     "name": "stderr",
     "output_type": "stream",
     "text": [
      "/Users/samuel.fraiberger/anaconda3/lib/python3.6/site-packages/ipykernel_launcher.py:9: VisibleDeprecationWarning: Passing `normed=True` on non-uniform bins has always been broken, and computes neither the probability density function nor the probability mass function. The result is only correct if the bins are uniform, when density=True will produce the same result anyway. The argument will be removed in a future version of numpy.\n",
      "  if __name__ == '__main__':\n",
      "/Users/samuel.fraiberger/anaconda3/lib/python3.6/site-packages/ipykernel_launcher.py:14: VisibleDeprecationWarning: Passing `normed=True` on non-uniform bins has always been broken, and computes neither the probability density function nor the probability mass function. The result is only correct if the bins are uniform, when density=True will produce the same result anyway. The argument will be removed in a future version of numpy.\n",
      "  \n"
     ]
    },
    {
     "data": {
      "image/png": "[encoded data removed]",
      "text/plain": [
       "<Figure size 576x360 with 1 Axes>"
      ]
     },
     "metadata": {},
     "output_type": "display_data"
    }
   ],
   "source": [
    "name = 'Population'\n",
    "\n",
    "with sns.axes_style(\"white\"):\n",
    "    sns.set_style(\"ticks\")\n",
    "\n",
    "    fig,ax = plt.subplots(figsize=(8,5))\n",
    "    \n",
    "    data = census['POBTOT']\n",
    "    y,edges = np.histogram(data, np.histogram_bin_edges(data, bins=101), normed=True)\n",
    "    centers = 0.5*(edges[1:]+ edges[:-1])\n",
    "    ax.plot(centers,y,'-*',color='r',linewidth=.5,markersize=5,label='Blocks')\n",
    "\n",
    "    data = clusters['pop_clusters']\n",
    "    y,edges = np.histogram(data, np.histogram_bin_edges(data, bins=101), normed=True)\n",
    "    centers = 0.5*(edges[1:]+ edges[:-1])\n",
    "    ax.plot(centers,y,'-o',color='b',linewidth=.5,markersize=3,label='Clusters')\n",
    "    \n",
    "    ax.set_xscale('log')\n",
    "    ax.set_yscale('log')\n",
    "    ax.tick_params(which='both',direction='in',pad=3)\n",
    "    ax.locator_params(axis='both',numticks=10)\n",
    "    ax.set_xlabel(name)\n",
    "    ax.set_ylabel('P( '+name.split(' ')[0]+' )')\n",
    "    ax.legend(loc='best')"
   ]
  },
  {
   "cell_type": "code",
   "execution_count": 10,
   "metadata": {},
   "outputs": [],
   "source": [
    "def plot_hist(data,name,bins=None):\n",
    "    \n",
    "    with sns.axes_style(\"white\"):\n",
    "        sns.set_style(\"ticks\")\n",
    "\n",
    "        fig,ax = plt.subplots(figsize=(10,6))\n",
    "\n",
    "        sns.distplot(data,ax=ax,kde=False,bins=bins,norm_hist=True,color='k')\n",
    "        ax.set_xscale('log')\n",
    "        ax.set_yscale('log')\n",
    "        ax.tick_params(which='both',direction='in',pad=3)\n",
    "        ax.locator_params(axis='both',numticks=6)\n",
    "        ax.set_xlabel(name)\n",
    "        ax.set_ylabel('P( '+name.split(' ')[0]+' )')"
   ]
  },
  {
   "cell_type": "code",
   "execution_count": 11,
   "metadata": {},
   "outputs": [
    {
     "data": {
      "image/png": "[encoded data removed]",
      "text/plain": [
       "<Figure size 720x432 with 1 Axes>"
      ]
     },
     "metadata": {},
     "output_type": "display_data"
    },
    {
     "data": {
      "image/png": "[encoded data removed]",
      "text/plain": [
       "<Figure size 720x432 with 1 Axes>"
      ]
     },
     "metadata": {},
     "output_type": "display_data"
    }
   ],
   "source": [
    "plot_hist(census['POBTOT'].astype(int),'Population',bins=None)\n",
    "plot_hist(clusters['pop_clusters'].astype(int),'Population',bins=None)"
   ]
  },
  {
   "cell_type": "code",
   "execution_count": 12,
   "metadata": {},
   "outputs": [
    {
     "data": {
      "image/png": "[encoded data removed]",
      "text/plain": [
       "<Figure size 720x432 with 1 Axes>"
      ]
     },
     "metadata": {},
     "output_type": "display_data"
    },
    {
     "data": {
      "image/png": "[encoded data removed]",
      "text/plain": [
       "<Figure size 720x432 with 1 Axes>"
      ]
     },
     "metadata": {},
     "output_type": "display_data"
    }
   ],
   "source": [
    "plot_hist(census['geometry'].area/10**6,'Area ( in Km$^2$ )',bins=None)\n",
    "plot_hist(clusters['geometry'].area/10**6,'Area ( in Km$^2$ )',bins=None)"
   ]
  },
  {
   "cell_type": "markdown",
   "metadata": {},
   "source": [
    "- Only 12 blocks have area above 1Km$^2$, and their population is less 0.0004 of the total population.\n",
    "\n",
    "- Hence, we should aim at partitioning the space in blocks."
   ]
  },
  {
   "cell_type": "markdown",
   "metadata": {},
   "source": [
    "# Create Map"
   ]
  },
  {
   "cell_type": "code",
   "execution_count": 32,
   "metadata": {},
   "outputs": [
    {
     "name": "stdout",
     "output_type": "stream",
     "text": [
      "Create Map:\n",
      "Computing Time: 176 sec\n"
     ]
    }
   ],
   "source": [
    "print('Create Map:')\n",
    "start = timer()\n",
    "\n",
    "m = folium.Map(\n",
    "location = [19.4, -99.13],\n",
    "zoom_start = 11, \n",
    "tiles='cartodbpositron',\n",
    ")\n",
    "\n",
    "# add chloropleth layer\n",
    "m.choropleth(\n",
    "geo_data=census_wgs84.sample(frac=1,random_state=0).to_json(),\n",
    "name='Blocks',\n",
    "data=census_wgs84.sample(frac=1,random_state=0),\n",
    "columns=['CVEGEO', 'POBTOT_DECILE'],\n",
    "fill_color='YlOrRd',\n",
    "key_on='feature.properties.CVEGEO',\n",
    "legend_name='Decile of Block Population',\n",
    "fill_opacity = 0.25,\n",
    "line_opacity = 0.,\n",
    "line_weight=0.,\n",
    "highlight=True,\n",
    ")\n",
    "\n",
    "m.choropleth(\n",
    "geo_data=clusters_wgs84.sample(frac=1,random_state=0).to_json(),\n",
    "name='Clusters',\n",
    "data=clusters_wgs84.sample(frac=1,random_state=0),\n",
    "columns=['CVEGEO', 'POBTOT_DECILE'],\n",
    "fill_color='YlOrRd',\n",
    "key_on='feature.properties.CVEGEO',\n",
    "legend_name='Decile of Cluster Population',\n",
    "fill_opacity = 0.25,\n",
    "line_opacity = 0.,\n",
    "line_weight=0.,\n",
    "highlight=True,\n",
    ")\n",
    "\n",
    "markers = folium.FeatureGroup(name='Points of Interest')\n",
    "\n",
    "for i, (poi_name, poi_type, color, lat, lon, n_obs) in enumerate(zip(\n",
    "pois['full_name'],\n",
    "pois['type'],\n",
    "pois['color'],\n",
    "pois['latitude'],\n",
    "pois['longitude'],\n",
    "pois['n_obs'])):\n",
    "    \n",
    "    if poi_type in top_pois:\n",
    "        poi_label = poi_type.replace('_',' ').title()\n",
    "    else:\n",
    "        poi_label = 'other'\n",
    "        \n",
    "    markers.add_child(folium.CircleMarker(\n",
    "    [lat, lon],\n",
    "    radius=0.25*np.sqrt(n_obs),\n",
    "    popup = folium.Popup(\n",
    "    poi_name.title() + ' ('+poi_label+')', \n",
    "    parse_html=True,\n",
    "    max_width=10000),\n",
    "    color=color,\n",
    "    fill=True,\n",
    "    weight=0,\n",
    "    fill_opacity=1,\n",
    "    ))\n",
    "    \n",
    "#     if i > 100:\n",
    "#         break\n",
    "\n",
    "m.add_child(markers)\n",
    "\n",
    "# enable layers to be turned in or out\n",
    "folium.LayerControl().add_to(m)\n",
    "    \n",
    "end = timer()\n",
    "print('Computing Time:', round(end - start), 'sec')"
   ]
  },
  {
   "cell_type": "code",
   "execution_count": 33,
   "metadata": {},
   "outputs": [
    {
     "name": "stdout",
     "output_type": "stream",
     "text": [
      "Save Map:\n",
      "Computing Time: 58 sec\n"
     ]
    }
   ],
   "source": [
    "print('Save Map:')\n",
    "start = timer()\n",
    "\n",
    "m.save('../figures/map-cdmx-blocks-clusters-pois.html')\n",
    "\n",
    "end = timer()\n",
    "print('Computing Time:', round(end - start), 'sec')"
   ]
  }
 ],
 "metadata": {
  "kernelspec": {
   "display_name": "Python 3",
   "language": "python",
   "name": "python3"
  },
  "language_info": {
   "codemirror_mode": {
    "name": "ipython",
    "version": 3
   },
   "file_extension": ".py",
   "mimetype": "text/x-python",
   "name": "python",
   "nbconvert_exporter": "python",
   "pygments_lexer": "ipython3",
   "version": "3.7.3"
  }
 },
 "nbformat": 4,
 "nbformat_minor": 2
}
