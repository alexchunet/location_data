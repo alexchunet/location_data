{
 "cells": [
  {
   "cell_type": "code",
   "execution_count": 1,
   "metadata": {},
   "outputs": [],
   "source": [
    "import geopandas as gpd\n",
    "import pandas as pd\n",
    "from timeit import default_timer as timer"
   ]
  },
  {
   "cell_type": "markdown",
   "metadata": {},
   "source": [
    "# Import Data"
   ]
  },
  {
   "cell_type": "code",
   "execution_count": 2,
   "metadata": {},
   "outputs": [
    {
     "name": "stdout",
     "output_type": "stream",
     "text": [
      "Import Shapefile CDMX (INEGI):\n",
      "Computing Time: 4 sec\n"
     ]
    }
   ],
   "source": [
    "print('Import Shapefile CDMX (INEGI):')\n",
    "start = timer()\n",
    "\n",
    "blocks = gpd.read_file('../data/Geoestadistica_2018/09_ciudaddemexico/conjunto de datos/09m.shp',encoding=\"utf-8\")\n",
    "\n",
    "end = timer()\n",
    "print('Computing Time:', round(end - start), 'sec')"
   ]
  },
  {
   "cell_type": "code",
   "execution_count": 3,
   "metadata": {},
   "outputs": [
    {
     "data": {
      "text/html": [
       "<div>\n",
       "<style scoped>\n",
       "    .dataframe tbody tr th:only-of-type {\n",
       "        vertical-align: middle;\n",
       "    }\n",
       "\n",
       "    .dataframe tbody tr th {\n",
       "        vertical-align: top;\n",
       "    }\n",
       "\n",
       "    .dataframe thead th {\n",
       "        text-align: right;\n",
       "    }\n",
       "</style>\n",
       "<table border=\"1\" class=\"dataframe\">\n",
       "  <thead>\n",
       "    <tr style=\"text-align: right;\">\n",
       "      <th></th>\n",
       "      <th>CVEGEO</th>\n",
       "      <th>CVE_ENT</th>\n",
       "      <th>CVE_MUN</th>\n",
       "      <th>CVE_LOC</th>\n",
       "      <th>CVE_AGEB</th>\n",
       "      <th>CVE_MZA</th>\n",
       "      <th>AMBITO</th>\n",
       "      <th>TIPOMZA</th>\n",
       "      <th>geometry</th>\n",
       "    </tr>\n",
       "  </thead>\n",
       "  <tbody>\n",
       "    <tr>\n",
       "      <th>0</th>\n",
       "      <td>0900200010985032</td>\n",
       "      <td>09</td>\n",
       "      <td>002</td>\n",
       "      <td>0001</td>\n",
       "      <td>0985</td>\n",
       "      <td>032</td>\n",
       "      <td>Urbana</td>\n",
       "      <td>Contenedora</td>\n",
       "      <td>POLYGON ((2792967.245200001 836064.8891999982,...</td>\n",
       "    </tr>\n",
       "    <tr>\n",
       "      <th>1</th>\n",
       "      <td>0900200011165018</td>\n",
       "      <td>09</td>\n",
       "      <td>002</td>\n",
       "      <td>0001</td>\n",
       "      <td>1165</td>\n",
       "      <td>018</td>\n",
       "      <td>Urbana</td>\n",
       "      <td>b'T\\xedpica'</td>\n",
       "      <td>POLYGON ((2796238.428599998 837187.331199998, ...</td>\n",
       "    </tr>\n",
       "    <tr>\n",
       "      <th>2</th>\n",
       "      <td>0900200010970028</td>\n",
       "      <td>09</td>\n",
       "      <td>002</td>\n",
       "      <td>0001</td>\n",
       "      <td>0970</td>\n",
       "      <td>028</td>\n",
       "      <td>Urbana</td>\n",
       "      <td>b'T\\xedpica'</td>\n",
       "      <td>POLYGON ((2792523.801799997 836097.2203000002,...</td>\n",
       "    </tr>\n",
       "    <tr>\n",
       "      <th>3</th>\n",
       "      <td>0900200010970019</td>\n",
       "      <td>09</td>\n",
       "      <td>002</td>\n",
       "      <td>0001</td>\n",
       "      <td>0970</td>\n",
       "      <td>019</td>\n",
       "      <td>Urbana</td>\n",
       "      <td>b'T\\xedpica'</td>\n",
       "      <td>POLYGON ((2792409.096000001 836021.0111999977,...</td>\n",
       "    </tr>\n",
       "    <tr>\n",
       "      <th>4</th>\n",
       "      <td>0900200010858012</td>\n",
       "      <td>09</td>\n",
       "      <td>002</td>\n",
       "      <td>0001</td>\n",
       "      <td>0858</td>\n",
       "      <td>012</td>\n",
       "      <td>Urbana</td>\n",
       "      <td>b'T\\xedpica'</td>\n",
       "      <td>POLYGON ((2796875.946400004 832036.5449999999,...</td>\n",
       "    </tr>\n",
       "  </tbody>\n",
       "</table>\n",
       "</div>"
      ],
      "text/plain": [
       "             CVEGEO CVE_ENT CVE_MUN CVE_LOC CVE_AGEB CVE_MZA  AMBITO  \\\n",
       "0  0900200010985032      09     002    0001     0985     032  Urbana   \n",
       "1  0900200011165018      09     002    0001     1165     018  Urbana   \n",
       "2  0900200010970028      09     002    0001     0970     028  Urbana   \n",
       "3  0900200010970019      09     002    0001     0970     019  Urbana   \n",
       "4  0900200010858012      09     002    0001     0858     012  Urbana   \n",
       "\n",
       "        TIPOMZA                                           geometry  \n",
       "0   Contenedora  POLYGON ((2792967.245200001 836064.8891999982,...  \n",
       "1  b'T\\xedpica'  POLYGON ((2796238.428599998 837187.331199998, ...  \n",
       "2  b'T\\xedpica'  POLYGON ((2792523.801799997 836097.2203000002,...  \n",
       "3  b'T\\xedpica'  POLYGON ((2792409.096000001 836021.0111999977,...  \n",
       "4  b'T\\xedpica'  POLYGON ((2796875.946400004 832036.5449999999,...  "
      ]
     },
     "execution_count": 3,
     "metadata": {},
     "output_type": "execute_result"
    }
   ],
   "source": [
    "blocks.head()"
   ]
  },
  {
   "cell_type": "code",
   "execution_count": null,
   "metadata": {},
   "outputs": [
    {
     "name": "stdout",
     "output_type": "stream",
     "text": [
      "Import Census CDMX (INEGI):\n"
     ]
    }
   ],
   "source": [
    "print('Import Census CDMX (INEGI):')\n",
    "start = timer()\n",
    "\n",
    "census = gpd.read_file('../data/Poblacion/RESAGEBURB_09DBF10.dbf')\n",
    "\n",
    "end = timer()\n",
    "print('Computing Time:', round(end - start), 'sec')"
   ]
  },
  {
   "cell_type": "code",
   "execution_count": null,
   "metadata": {},
   "outputs": [],
   "source": [
    "census.shape"
   ]
  },
  {
   "cell_type": "code",
   "execution_count": null,
   "metadata": {},
   "outputs": [],
   "source": [
    "census.head()"
   ]
  },
  {
   "cell_type": "markdown",
   "metadata": {},
   "source": [
    "# Merge Blocks Shapes with Census Data"
   ]
  },
  {
   "cell_type": "code",
   "execution_count": 6,
   "metadata": {},
   "outputs": [
    {
     "name": "stdout",
     "output_type": "stream",
     "text": [
      "Merge Census Blocks and Data\n",
      "Computing Time: 6 sec\n"
     ]
    }
   ],
   "source": [
    "print('Merge Census Blocks and Data')\n",
    "start = timer()\n",
    "\n",
    "census_fields = ['POBTOT']\n",
    "\n",
    "census = pd.merge(\n",
    "blocks[['CVE_ENT','CVE_MUN','CVE_LOC','CVE_AGEB','CVE_MZA']+['CVEGEO','geometry']],\n",
    "census[['ENTIDAD','MUN','LOC','AGEB','MZA']+census_fields],\n",
    "left_on=['CVE_ENT','CVE_MUN','CVE_LOC','CVE_AGEB','CVE_MZA'],\n",
    "right_on=['ENTIDAD','MUN','LOC','AGEB','MZA'])[['CVEGEO']+census_fields+['geometry']]\n",
    "\n",
    "census['POBTOT'] = census['POBTOT'].astype(int)\n",
    "\n",
    "#Sort By Population Size and Area\n",
    "census = pd.concat([census,census.geometry.area.rename('AREA')],1).sort_values(\n",
    "by=['POBTOT','AREA']).reset_index(drop=True)\n",
    "\n",
    "#Project to wgs84\n",
    "census = census.to_crs({'init': 'epsg:4326'})\n",
    "\n",
    "end = timer()\n",
    "print('Computing Time:', round(end - start), 'sec')"
   ]
  },
  {
   "cell_type": "code",
   "execution_count": 7,
   "metadata": {},
   "outputs": [
    {
     "name": "stdout",
     "output_type": "stream",
     "text": [
      "Save\n",
      "Computing Time: 40 sec\n"
     ]
    }
   ],
   "source": [
    "print('Save')\n",
    "start = timer()\n",
    "\n",
    "census.to_file(\"../data/census-cdmx.geojson\", driver='GeoJSON')\n",
    "\n",
    "end = timer()\n",
    "print('Computing Time:', round(end - start), 'sec')"
   ]
  },
  {
   "cell_type": "code",
   "execution_count": 8,
   "metadata": {},
   "outputs": [
    {
     "data": {
      "text/plain": [
       "(62557, 4)"
      ]
     },
     "execution_count": 8,
     "metadata": {},
     "output_type": "execute_result"
    }
   ],
   "source": [
    "census.shape"
   ]
  },
  {
   "cell_type": "code",
   "execution_count": 9,
   "metadata": {},
   "outputs": [
    {
     "data": {
      "text/html": [
       "<div>\n",
       "<style scoped>\n",
       "    .dataframe tbody tr th:only-of-type {\n",
       "        vertical-align: middle;\n",
       "    }\n",
       "\n",
       "    .dataframe tbody tr th {\n",
       "        vertical-align: top;\n",
       "    }\n",
       "\n",
       "    .dataframe thead th {\n",
       "        text-align: right;\n",
       "    }\n",
       "</style>\n",
       "<table border=\"1\" class=\"dataframe\">\n",
       "  <thead>\n",
       "    <tr style=\"text-align: right;\">\n",
       "      <th></th>\n",
       "      <th>POBTOT</th>\n",
       "      <th>AREA</th>\n",
       "    </tr>\n",
       "  </thead>\n",
       "  <tbody>\n",
       "    <tr>\n",
       "      <th>count</th>\n",
       "      <td>62557.000000</td>\n",
       "      <td>6.255700e+04</td>\n",
       "    </tr>\n",
       "    <tr>\n",
       "      <th>mean</th>\n",
       "      <td>140.129754</td>\n",
       "      <td>9.784768e+03</td>\n",
       "    </tr>\n",
       "    <tr>\n",
       "      <th>std</th>\n",
       "      <td>183.271180</td>\n",
       "      <td>4.700606e+04</td>\n",
       "    </tr>\n",
       "    <tr>\n",
       "      <th>min</th>\n",
       "      <td>0.000000</td>\n",
       "      <td>2.738191e+01</td>\n",
       "    </tr>\n",
       "    <tr>\n",
       "      <th>25%</th>\n",
       "      <td>47.000000</td>\n",
       "      <td>1.181759e+03</td>\n",
       "    </tr>\n",
       "    <tr>\n",
       "      <th>50%</th>\n",
       "      <td>97.000000</td>\n",
       "      <td>3.966870e+03</td>\n",
       "    </tr>\n",
       "    <tr>\n",
       "      <th>75%</th>\n",
       "      <td>175.000000</td>\n",
       "      <td>8.034636e+03</td>\n",
       "    </tr>\n",
       "    <tr>\n",
       "      <th>max</th>\n",
       "      <td>12964.000000</td>\n",
       "      <td>7.044431e+06</td>\n",
       "    </tr>\n",
       "  </tbody>\n",
       "</table>\n",
       "</div>"
      ],
      "text/plain": [
       "             POBTOT          AREA\n",
       "count  62557.000000  6.255700e+04\n",
       "mean     140.129754  9.784768e+03\n",
       "std      183.271180  4.700606e+04\n",
       "min        0.000000  2.738191e+01\n",
       "25%       47.000000  1.181759e+03\n",
       "50%       97.000000  3.966870e+03\n",
       "75%      175.000000  8.034636e+03\n",
       "max    12964.000000  7.044431e+06"
      ]
     },
     "execution_count": 9,
     "metadata": {},
     "output_type": "execute_result"
    }
   ],
   "source": [
    "census.describe()"
   ]
  },
  {
   "cell_type": "code",
   "execution_count": 10,
   "metadata": {},
   "outputs": [
    {
     "data": {
      "text/html": [
       "<div>\n",
       "<style scoped>\n",
       "    .dataframe tbody tr th:only-of-type {\n",
       "        vertical-align: middle;\n",
       "    }\n",
       "\n",
       "    .dataframe tbody tr th {\n",
       "        vertical-align: top;\n",
       "    }\n",
       "\n",
       "    .dataframe thead th {\n",
       "        text-align: right;\n",
       "    }\n",
       "</style>\n",
       "<table border=\"1\" class=\"dataframe\">\n",
       "  <thead>\n",
       "    <tr style=\"text-align: right;\">\n",
       "      <th></th>\n",
       "      <th>CVEGEO</th>\n",
       "      <th>POBTOT</th>\n",
       "      <th>geometry</th>\n",
       "      <th>AREA</th>\n",
       "    </tr>\n",
       "  </thead>\n",
       "  <tbody>\n",
       "    <tr>\n",
       "      <th>0</th>\n",
       "      <td>0900500012574037</td>\n",
       "      <td>0</td>\n",
       "      <td>POLYGON ((-99.12797342969863 19.52445336985819...</td>\n",
       "      <td>43.118400</td>\n",
       "    </tr>\n",
       "    <tr>\n",
       "      <th>1</th>\n",
       "      <td>0900500012574036</td>\n",
       "      <td>0</td>\n",
       "      <td>POLYGON ((-99.12853136985125 19.52385929041152...</td>\n",
       "      <td>49.704585</td>\n",
       "    </tr>\n",
       "    <tr>\n",
       "      <th>2</th>\n",
       "      <td>0901700011153014</td>\n",
       "      <td>0</td>\n",
       "      <td>POLYGON ((-99.09659301958341 19.41924151028344...</td>\n",
       "      <td>52.225552</td>\n",
       "    </tr>\n",
       "    <tr>\n",
       "      <th>3</th>\n",
       "      <td>0900500011608012</td>\n",
       "      <td>0</td>\n",
       "      <td>POLYGON ((-99.12548104995354 19.47065120003226...</td>\n",
       "      <td>57.285436</td>\n",
       "    </tr>\n",
       "    <tr>\n",
       "      <th>4</th>\n",
       "      <td>0901400010524023</td>\n",
       "      <td>0</td>\n",
       "      <td>POLYGON ((-99.13606798030779 19.38082055027066...</td>\n",
       "      <td>71.928563</td>\n",
       "    </tr>\n",
       "  </tbody>\n",
       "</table>\n",
       "</div>"
      ],
      "text/plain": [
       "             CVEGEO  POBTOT  \\\n",
       "0  0900500012574037       0   \n",
       "1  0900500012574036       0   \n",
       "2  0901700011153014       0   \n",
       "3  0900500011608012       0   \n",
       "4  0901400010524023       0   \n",
       "\n",
       "                                            geometry       AREA  \n",
       "0  POLYGON ((-99.12797342969863 19.52445336985819...  43.118400  \n",
       "1  POLYGON ((-99.12853136985125 19.52385929041152...  49.704585  \n",
       "2  POLYGON ((-99.09659301958341 19.41924151028344...  52.225552  \n",
       "3  POLYGON ((-99.12548104995354 19.47065120003226...  57.285436  \n",
       "4  POLYGON ((-99.13606798030779 19.38082055027066...  71.928563  "
      ]
     },
     "execution_count": 10,
     "metadata": {},
     "output_type": "execute_result"
    }
   ],
   "source": [
    "census.head()"
   ]
  }
 ],
 "metadata": {
  "kernelspec": {
   "display_name": "Python 3",
   "language": "python",
   "name": "python3"
  },
  "language_info": {
   "codemirror_mode": {
    "name": "ipython",
    "version": 3
   },
   "file_extension": ".py",
   "mimetype": "text/x-python",
   "name": "python",
   "nbconvert_exporter": "python",
   "pygments_lexer": "ipython3",
   "version": "3.7.3"
  }
 },
 "nbformat": 4,
 "nbformat_minor": 2
}
