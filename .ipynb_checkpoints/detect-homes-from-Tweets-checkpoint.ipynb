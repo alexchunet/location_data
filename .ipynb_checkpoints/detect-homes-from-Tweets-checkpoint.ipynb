{
 "cells": [
  {
   "cell_type": "code",
   "execution_count": 1,
   "metadata": {},
   "outputs": [],
   "source": [
    "import os\n",
    "import sys\n",
    "import socket\n",
    "from timeit import default_timer as timer\n",
    "from datetime import datetime\n",
    "\n",
    "from pyspark.sql import SparkSession\n",
    "from pyspark.sql.functions import udf, col\n",
    "import pyspark.sql.functions as F\n",
    "from pyspark.sql.types import MapType, StringType, IntegerType, StructType, StructField, FloatType, ArrayType"
   ]
  },
  {
   "cell_type": "code",
   "execution_count": 13,
   "metadata": {},
   "outputs": [
    {
     "data": {
      "text/plain": [
       "datetime.timedelta(seconds=40809, microseconds=238000)"
      ]
     },
     "execution_count": 13,
     "metadata": {},
     "output_type": "execute_result"
    }
   ],
   "source": [
    "datetime.fromtimestamp(1568377105818/1000) - datetime.fromtimestamp(1568336296580/1000)"
   ]
  },
  {
   "cell_type": "code",
   "execution_count": 5,
   "metadata": {},
   "outputs": [
    {
     "name": "stdout",
     "output_type": "stream",
     "text": [
      "Hostname: Samuels-MBP\n"
     ]
    }
   ],
   "source": [
    "try:\n",
    "    spark\n",
    "except NameError:\n",
    "    if 'samuel' in socket.gethostname().lower():\n",
    "        print('Create Local SparkSession')\n",
    "        spark = SparkSession.builder.config(\n",
    "        \"spark.driver.host\", \"localhost\").appName(\n",
    "        \"get-users-by-account-location\").getOrCreate()\n",
    "    else:\n",
    "        print('Create Cluster SparkSession')\n",
    "        spark = SparkSession.builder.appName(\n",
    "        \"get-users-by-account-location\").getOrCreate()\n",
    "        \n",
    "# Local\n",
    "print('Hostname:', socket.gethostname())\n",
    "if 'samuel' in socket.gethostname().lower():\n",
    "    path_to_tweets = '../data/tweets-with-geocoordinates-cdmx/'\n",
    "# Cluster\n",
    "else:\n",
    "    path_to_tweets = '/user/spf248/cuebiq/data/tweets-with-geocoordinates-cdmx/'"
   ]
  },
  {
   "cell_type": "code",
   "execution_count": 15,
   "metadata": {},
   "outputs": [
    {
     "name": "stdout",
     "output_type": "stream",
     "text": [
      "Import:\n",
      "Computing Time: 0 sec\n"
     ]
    }
   ],
   "source": [
    "print('Import:')\n",
    "start = timer()\n",
    "\n",
    "df = spark.read.parquet(path_to_tweets+'*.snappy.parquet')\n",
    "\n",
    "end = timer()\n",
    "print('Computing Time:', round(end - start), 'sec')"
   ]
  },
  {
   "cell_type": "code",
   "execution_count": 18,
   "metadata": {},
   "outputs": [],
   "source": [
    "to_drop = ['point', 'polygon']\n",
    "df = df.drop(*to_drop)"
   ]
  },
  {
   "cell_type": "code",
   "execution_count": 36,
   "metadata": {},
   "outputs": [
    {
     "name": "stdout",
     "output_type": "stream",
     "text": [
      "+---------+----------------+---------------+\n",
      "|  user_id|          CVEGEO|count(tweet_id)|\n",
      "+---------+----------------+---------------+\n",
      "|103676029|0900200011095001|              1|\n",
      "|219552125|0900400010195060|              1|\n",
      "|228481163|0901300010033001|              1|\n",
      "|309341403|0900900010505002|              1|\n",
      "| 67500811|090140001076A003|              1|\n",
      "|138623151|0901400010825002|              1|\n",
      "|378929149|0901400010350007|              1|\n",
      "| 32414338|0900800010067015|              1|\n",
      "|155040011|0901700011416023|              1|\n",
      "| 94659824|0900600010293010|              1|\n",
      "|152769984|0900500011805004|              1|\n",
      "| 46193696|0901500011002016|              1|\n",
      "|940351608|0900800010300003|              1|\n",
      "|747547783|0901400010416009|              1|\n",
      "|631485814|0901400010702007|              1|\n",
      "|248965722|0901500010678016|              1|\n",
      "|309144870|0900200010665031|              1|\n",
      "|239978612|0900300010215019|              1|\n",
      "| 63297498|0901500010767003|              1|\n",
      "|126031737|0901600010444017|              1|\n",
      "+---------+----------------+---------------+\n",
      "only showing top 20 rows\n",
      "\n"
     ]
    }
   ],
   "source": [
    "df.groupby(['user_id','CVEGEO']).agg({'tweet_id':'count'}).show()"
   ]
  },
  {
   "cell_type": "code",
   "execution_count": null,
   "metadata": {},
   "outputs": [],
   "source": []
  }
 ],
 "metadata": {
  "kernelspec": {
   "display_name": "Python 3",
   "language": "python",
   "name": "python3"
  },
  "language_info": {
   "codemirror_mode": {
    "name": "ipython",
    "version": 3
   },
   "file_extension": ".py",
   "mimetype": "text/x-python",
   "name": "python",
   "nbconvert_exporter": "python",
   "pygments_lexer": "ipython3",
   "version": "3.7.3"
  }
 },
 "nbformat": 4,
 "nbformat_minor": 2
}
