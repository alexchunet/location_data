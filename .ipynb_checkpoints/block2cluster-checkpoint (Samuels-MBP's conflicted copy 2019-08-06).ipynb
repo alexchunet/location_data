{
 "cells": [
  {
   "cell_type": "markdown",
   "metadata": {},
   "source": [
    "- The median block in the census has 97 observations. To preserve the privacy of Cuebiq users, we aggregated blocks that were too small by clustering its nearest neighbors. \n",
    "\n",
    "- We might want to check that income gaps are not too high\n",
    "\n",
    "- Drop empty blocks for the clustering\n",
    "\n",
    "- Beyond Parent / Children relationships, shapes do not intersect\n",
    "\n",
    "https://www.earthdatascience.org/workshops/gis-open-source-python/dissolve-polygons-in-python-geopandas-shapely/"
   ]
  },
  {
   "cell_type": "code",
   "execution_count": 78,
   "metadata": {},
   "outputs": [],
   "source": [
    "import geopandas as gpd\n",
    "import pandas as pd\n",
    "from timeit import default_timer as timer\n",
    "import multiprocessing as mp\n",
    "import numpy as np\n",
    "from shapely.ops import cascaded_union\n",
    "import matplotlib.pyplot as plt"
   ]
  },
  {
   "cell_type": "code",
   "execution_count": 2,
   "metadata": {},
   "outputs": [
    {
     "name": "stdout",
     "output_type": "stream",
     "text": [
      "Import Shapefile CDMX (INEGI):\n",
      "Computing Time: 5 sec\n"
     ]
    }
   ],
   "source": [
    "print('Import Shapefile CDMX (INEGI):')\n",
    "start = timer()\n",
    "\n",
    "census_blocks = gpd.read_file(\n",
    "'../data/Geoestadistica_2018/09_ciudaddemexico/conjunto de datos/09m.shp',encoding=\"utf-8\")\n",
    "\n",
    "end = timer()\n",
    "print('Computing Time:', round(end - start), 'sec')"
   ]
  },
  {
   "cell_type": "code",
   "execution_count": 3,
   "metadata": {},
   "outputs": [
    {
     "name": "stdout",
     "output_type": "stream",
     "text": [
      "Import Census CDMX (INEGI):\n",
      "Computing Time: 36 sec\n"
     ]
    }
   ],
   "source": [
    "print('Import Census CDMX (INEGI):')\n",
    "start = timer()\n",
    "\n",
    "census_data = gpd.read_file(\n",
    "'../data/Poblacion/RESAGEBURB_09DBF10.dbf')\n",
    "\n",
    "end = timer()\n",
    "print('Computing Time:', round(end - start), 'sec')"
   ]
  },
  {
   "cell_type": "code",
   "execution_count": 4,
   "metadata": {},
   "outputs": [],
   "source": [
    "census_fields = ['POBTOT']\n",
    "\n",
    "census = pd.merge(\n",
    "census_blocks[['CVE_ENT','CVE_MUN','CVE_LOC','CVE_AGEB','CVE_MZA']+['CVEGEO','geometry']],\n",
    "census_data[['ENTIDAD','MUN','LOC','AGEB','MZA']+census_fields],\n",
    "left_on=['CVE_ENT','CVE_MUN','CVE_LOC','CVE_AGEB','CVE_MZA'],\n",
    "right_on=['ENTIDAD','MUN','LOC','AGEB','MZA'])[['CVEGEO']+census_fields+['geometry']]\n",
    "\n",
    "census['POBTOT'] = census['POBTOT'].astype(int)\n",
    "\n",
    "census = census[census['POBTOT']>0].copy()\n",
    "\n",
    "census = census.sample(frac=1,random_state=0).sort_values(by='POBTOT').reset_index(drop=True)\n",
    "\n",
    "census_wgs84 = census.to_crs({'init': 'epsg:4326'})\n",
    "\n",
    "census_wgs84_1 = census_wgs84.copy()\n",
    "census_wgs84_2 = census_wgs84.copy()"
   ]
  },
  {
   "cell_type": "code",
   "execution_count": 5,
   "metadata": {},
   "outputs": [
    {
     "data": {
      "text/html": [
       "<div>\n",
       "<style scoped>\n",
       "    .dataframe tbody tr th:only-of-type {\n",
       "        vertical-align: middle;\n",
       "    }\n",
       "\n",
       "    .dataframe tbody tr th {\n",
       "        vertical-align: top;\n",
       "    }\n",
       "\n",
       "    .dataframe thead th {\n",
       "        text-align: right;\n",
       "    }\n",
       "</style>\n",
       "<table border=\"1\" class=\"dataframe\">\n",
       "  <thead>\n",
       "    <tr style=\"text-align: right;\">\n",
       "      <th></th>\n",
       "      <th>CVEGEO</th>\n",
       "      <th>POBTOT</th>\n",
       "      <th>geometry</th>\n",
       "    </tr>\n",
       "  </thead>\n",
       "  <tbody>\n",
       "    <tr>\n",
       "      <th>0</th>\n",
       "      <td>0900300011317018</td>\n",
       "      <td>1</td>\n",
       "      <td>POLYGON ((-99.1098052450333 19.32697043040573,...</td>\n",
       "    </tr>\n",
       "    <tr>\n",
       "      <th>1</th>\n",
       "      <td>090160001082A006</td>\n",
       "      <td>1</td>\n",
       "      <td>POLYGON ((-99.21815266003391 19.43114878026167...</td>\n",
       "    </tr>\n",
       "    <tr>\n",
       "      <th>2</th>\n",
       "      <td>0900500010385029</td>\n",
       "      <td>1</td>\n",
       "      <td>POLYGON ((-99.15803054007554 19.52252945009733...</td>\n",
       "    </tr>\n",
       "    <tr>\n",
       "      <th>3</th>\n",
       "      <td>0900300011478001</td>\n",
       "      <td>1</td>\n",
       "      <td>POLYGON ((-99.10479302966337 19.31825756965477...</td>\n",
       "    </tr>\n",
       "    <tr>\n",
       "      <th>4</th>\n",
       "      <td>0900500010309035</td>\n",
       "      <td>1</td>\n",
       "      <td>POLYGON ((-99.14335085973637 19.52306692009434...</td>\n",
       "    </tr>\n",
       "  </tbody>\n",
       "</table>\n",
       "</div>"
      ],
      "text/plain": [
       "             CVEGEO  POBTOT                                           geometry\n",
       "0  0900300011317018       1  POLYGON ((-99.1098052450333 19.32697043040573,...\n",
       "1  090160001082A006       1  POLYGON ((-99.21815266003391 19.43114878026167...\n",
       "2  0900500010385029       1  POLYGON ((-99.15803054007554 19.52252945009733...\n",
       "3  0900300011478001       1  POLYGON ((-99.10479302966337 19.31825756965477...\n",
       "4  0900500010309035       1  POLYGON ((-99.14335085973637 19.52306692009434..."
      ]
     },
     "execution_count": 5,
     "metadata": {},
     "output_type": "execute_result"
    }
   ],
   "source": [
    "census_wgs84.head()"
   ]
  },
  {
   "cell_type": "markdown",
   "metadata": {},
   "source": [
    "# Check Intersecting Shapes"
   ]
  },
  {
   "cell_type": "code",
   "execution_count": 253,
   "metadata": {},
   "outputs": [],
   "source": [
    "within = gpd.sjoin(census_wgs84_1,census_wgs84_2,op='within')\n",
    "within = within[(within['CVEGEO_left'] != within['CVEGEO_right'])].copy()\n",
    "within = pd.merge(within,census_wgs84_2[['geometry']].reset_index(),on='index_right',suffixes=['_left','_right'])\n",
    "within.sort_values(by=['POBTOT_right','CVEGEO_right','POBTOT_left'],inplace=True)"
   ]
  },
  {
   "cell_type": "code",
   "execution_count": 266,
   "metadata": {},
   "outputs": [],
   "source": [
    "within=pd.concat([\n",
    "within,\n",
    "within.groupby('CVEGEO_right')['POBTOT_left'].transform(\n",
    "lambda x:x.expanding().sum()).rename('POBCUM_left'),\n",
    "],1)"
   ]
  },
  {
   "cell_type": "code",
   "execution_count": 218,
   "metadata": {},
   "outputs": [
    {
     "data": {
      "text/plain": [
       "<matplotlib.axes._subplots.AxesSubplot at 0x12dfa2a20>"
      ]
     },
     "execution_count": 218,
     "metadata": {},
     "output_type": "execute_result"
    },
    {
     "data": {
      "image/png": "[encoded data removed]",
      "text/plain": [
       "<Figure size 432x288 with 1 Axes>"
      ]
     },
     "metadata": {
      "needs_background": "light"
     },
     "output_type": "display_data"
    }
   ],
   "source": [
    "within.drop_duplicates('CVEGEO_right')['POBTOT_left'].hist(bins=100)"
   ]
  },
  {
   "cell_type": "code",
   "execution_count": 195,
   "metadata": {},
   "outputs": [
    {
     "data": {
      "text/plain": [
       "<matplotlib.axes._subplots.AxesSubplot at 0x12af0a470>"
      ]
     },
     "execution_count": 195,
     "metadata": {},
     "output_type": "execute_result"
    },
    {
     "data": {
      "image/png": "[encoded data removed]",
      "text/plain": [
       "<Figure size 432x288 with 1 Axes>"
      ]
     },
     "metadata": {
      "needs_background": "light"
     },
     "output_type": "display_data"
    }
   ],
   "source": [
    "within.groupby('CVEGEO_right').agg(\n",
    "{'POBTOT_right':'first','POBTOT_left':'sum'}).sum(1).hist(bins=100)"
   ]
  },
  {
   "cell_type": "code",
   "execution_count": 220,
   "metadata": {},
   "outputs": [
    {
     "data": {
      "text/plain": [
       "(-99.11104813570063,\n",
       " -99.10913312417574,\n",
       " 19.356423991347782,\n",
       " 19.357933378249864)"
      ]
     },
     "execution_count": 220,
     "metadata": {},
     "output_type": "execute_result"
    },
    {
     "data": {
      "image/png": "[encoded data removed]",
      "text/plain": [
       "<Figure size 720x360 with 1 Axes>"
      ]
     },
     "metadata": {
      "needs_background": "light"
     },
     "output_type": "display_data"
    }
   ],
   "source": [
    "id_parent = '0900700010727039'\n",
    "# id_parent = '0900500011307007'\n",
    "\n",
    "fig, ax = plt.subplots(figsize = (10,5)) \n",
    "\n",
    "gdf_parent = gpd.GeoDataFrame(\n",
    "within.loc[within['CVEGEO_right']==id_parent,['POBTOT_right','geometry_y']],geometry='geometry_y')\n",
    "\n",
    "gdf_parent.boundary.plot(\n",
    "ax=ax,\n",
    "color=None)\n",
    "\n",
    "for idx, row in gdf_parent.iterrows():\n",
    "    plt.annotate(\n",
    "    s=row['POBTOT_right'], \n",
    "    xy=(row.geometry_y.centroid.x,row.geometry_y.centroid.y),\n",
    "    horizontalalignment='center',\n",
    "    color='b')\n",
    "\n",
    "gdf_children = gpd.GeoDataFrame(\n",
    "within.loc[within['CVEGEO_right']==id_parent,['POBTOT_left','geometry_x']],geometry='geometry_x')\n",
    "\n",
    "gdf_children.boundary.plot(\n",
    "ax=ax,\n",
    "color=None,\n",
    "edgecolor='k')\n",
    "\n",
    "for idx, row in gdf_children.iterrows():\n",
    "    plt.annotate(\n",
    "    s=row['POBTOT_left'], \n",
    "    xy=(row.geometry_x.centroid.x,row.geometry_x.centroid.y),\n",
    "    horizontalalignment='center',\n",
    "    color='k')\n",
    "    \n",
    "ax.axis('off')"
   ]
  },
  {
   "cell_type": "markdown",
   "metadata": {},
   "source": [
    "# Clustering"
   ]
  },
  {
   "cell_type": "code",
   "execution_count": 6,
   "metadata": {},
   "outputs": [],
   "source": [
    "def block2cluster(idx,idx_excluded=[],threshold=100):\n",
    "\n",
    "    # Initialize Cluster\n",
    "    idx_cluster = [idx]\n",
    "    \n",
    "    # Initialize Pop\n",
    "    pop_cluster = census_wgs84.loc[idx,'POBTOT']\n",
    "    \n",
    "    # Initialize Geometry\n",
    "    geo_cluster = census_wgs84.loc[idx,'geometry']\n",
    "    \n",
    "    if pop_cluster >= threshold:\n",
    "        \n",
    "        return idx_cluster, pop_cluster, geo_cluster \n",
    "    \n",
    "    else:\n",
    "        \n",
    "        # Compute Distances Exluding the Blocks already Picked\n",
    "        distances = census_wgs84.drop(idx_excluded).geometry.distance(census_wgs84.geometry.loc[idx]).sort_values()\n",
    "\n",
    "        while pop_cluster < threshold:\n",
    "\n",
    "            # Get Index Of The Closest Block To The Origin Block Exluding the Blocks already Picked\n",
    "            idx_closest = distances.drop(idx_cluster).index[0]\n",
    "\n",
    "            # Update Cluster\n",
    "            idx_cluster.append(idx_closest)\n",
    "\n",
    "            # Update Pop\n",
    "            pop_cluster += census_wgs84.loc[idx_closest,'POBTOT']\n",
    "\n",
    "            # Update Geometry\n",
    "            geo_cluster = cascaded_union(census_wgs84.loc[idx_cluster,'geometry'])\n",
    "            \n",
    "        return idx_cluster, pop_cluster, geo_cluster "
   ]
  },
  {
   "cell_type": "code",
   "execution_count": 7,
   "metadata": {
    "scrolled": false
   },
   "outputs": [
    {
     "name": "stdout",
     "output_type": "stream",
     "text": [
      "COMPUTE CLUSTER\n",
      "0 [0, 353] 111\n",
      "100 [100, 148, 173] 132\n",
      "200 None None\n",
      "300 None None\n",
      "400 None None\n",
      "500 None None\n",
      "600 None None\n",
      "Computing Time: 4 sec\n"
     ]
    }
   ],
   "source": [
    "print('COMPUTE CLUSTER')\n",
    "start = timer()\n",
    "\n",
    "idx_clusters = []\n",
    "pop_clusters = []\n",
    "geo_clusters = []\n",
    "idx_excluded = []\n",
    "\n",
    "for idx in census_wgs84.index:\n",
    "    \n",
    "    # Drop Blocks Already Used\n",
    "    if idx in idx_excluded:\n",
    "        \n",
    "        idx_cluster = None\n",
    "        pop_cluster = None\n",
    "        geo_cluster = None\n",
    "\n",
    "    else:\n",
    "\n",
    "        idx_cluster, pop_cluster, geo_cluster = block2cluster(idx,idx_excluded)\n",
    "\n",
    "        idx_excluded += idx_cluster\n",
    "\n",
    "    idx_clusters.append(idx_cluster)\n",
    "    pop_clusters.append(pop_cluster)\n",
    "    geo_clusters.append(geo_cluster)\n",
    "\n",
    "    if not idx % 100:\n",
    "        print(idx, idx_cluster, pop_cluster)\n",
    "\n",
    "end = timer()\n",
    "print('Computing Time:', round(end - start), 'sec')"
   ]
  },
  {
   "cell_type": "code",
   "execution_count": 8,
   "metadata": {},
   "outputs": [
    {
     "data": {
      "text/plain": [
       "7.1096746031746125"
      ]
     },
     "execution_count": 8,
     "metadata": {},
     "output_type": "execute_result"
    }
   ],
   "source": [
    "df = pd.DataFrame([\n",
    "[0.01, 4],\n",
    "[0.02, 12],\n",
    "[0.03, 26],\n",
    "[0.04, 45],\n",
    "[0.05, 66],\n",
    "[0.06, 97],])\n",
    "\n",
    "z = np.polyfit(list(df[0]), list(df[1]), 2)\n",
    "\n",
    "p = np.poly1d(z)\n",
    "\n",
    "print('# Hours', p(1)/3600)"
   ]
  },
  {
   "cell_type": "code",
   "execution_count": 9,
   "metadata": {},
   "outputs": [],
   "source": [
    "clusters = pd.concat([\n",
    "census_wgs84['CVEGEO'],\n",
    "pd.Series(idx_clusters,name='idx_clusters'),\n",
    "pd.Series(pop_clusters,name='pop_clusters'),\n",
    "pd.Series(geo_clusters,name='geo_clusters'),\n",
    "],1)"
   ]
  },
  {
   "cell_type": "code",
   "execution_count": 10,
   "metadata": {},
   "outputs": [
    {
     "data": {
      "text/html": [
       "<div>\n",
       "<style scoped>\n",
       "    .dataframe tbody tr th:only-of-type {\n",
       "        vertical-align: middle;\n",
       "    }\n",
       "\n",
       "    .dataframe tbody tr th {\n",
       "        vertical-align: top;\n",
       "    }\n",
       "\n",
       "    .dataframe thead th {\n",
       "        text-align: right;\n",
       "    }\n",
       "</style>\n",
       "<table border=\"1\" class=\"dataframe\">\n",
       "  <thead>\n",
       "    <tr style=\"text-align: right;\">\n",
       "      <th></th>\n",
       "      <th>CVEGEO</th>\n",
       "      <th>idx_clusters</th>\n",
       "      <th>pop_clusters</th>\n",
       "      <th>geo_clusters</th>\n",
       "    </tr>\n",
       "  </thead>\n",
       "  <tbody>\n",
       "    <tr>\n",
       "      <th>0</th>\n",
       "      <td>0900500011383034</td>\n",
       "      <td>[0, 353]</td>\n",
       "      <td>111.0</td>\n",
       "      <td>(POLYGON ((-99.14584373963257 19.4773034797622...</td>\n",
       "    </tr>\n",
       "    <tr>\n",
       "      <th>1</th>\n",
       "      <td>090070001547A003</td>\n",
       "      <td>[1, 52, 210, 104]</td>\n",
       "      <td>109.0</td>\n",
       "      <td>(POLYGON ((-99.05310341966393 19.372216109831,...</td>\n",
       "    </tr>\n",
       "    <tr>\n",
       "      <th>2</th>\n",
       "      <td>0900700013492029</td>\n",
       "      <td>[2, 352]</td>\n",
       "      <td>111.0</td>\n",
       "      <td>(POLYGON ((-99.08523443004391 19.3035744601372...</td>\n",
       "    </tr>\n",
       "    <tr>\n",
       "      <th>3</th>\n",
       "      <td>090160001043A006</td>\n",
       "      <td>[3, 256, 284]</td>\n",
       "      <td>170.0</td>\n",
       "      <td>(POLYGON ((-99.21236388977698 19.4464680496794...</td>\n",
       "    </tr>\n",
       "    <tr>\n",
       "      <th>4</th>\n",
       "      <td>0900600010185008</td>\n",
       "      <td>[4, 445]</td>\n",
       "      <td>156.0</td>\n",
       "      <td>(POLYGON ((-99.07639614539266 19.4053179201546...</td>\n",
       "    </tr>\n",
       "  </tbody>\n",
       "</table>\n",
       "</div>"
      ],
      "text/plain": [
       "             CVEGEO       idx_clusters  pop_clusters  \\\n",
       "0  0900500011383034           [0, 353]         111.0   \n",
       "1  090070001547A003  [1, 52, 210, 104]         109.0   \n",
       "2  0900700013492029           [2, 352]         111.0   \n",
       "3  090160001043A006      [3, 256, 284]         170.0   \n",
       "4  0900600010185008           [4, 445]         156.0   \n",
       "\n",
       "                                        geo_clusters  \n",
       "0  (POLYGON ((-99.14584373963257 19.4773034797622...  \n",
       "1  (POLYGON ((-99.05310341966393 19.372216109831,...  \n",
       "2  (POLYGON ((-99.08523443004391 19.3035744601372...  \n",
       "3  (POLYGON ((-99.21236388977698 19.4464680496794...  \n",
       "4  (POLYGON ((-99.07639614539266 19.4053179201546...  "
      ]
     },
     "execution_count": 10,
     "metadata": {},
     "output_type": "execute_result"
    }
   ],
   "source": [
    "clusters.head()"
   ]
  },
  {
   "cell_type": "code",
   "execution_count": 11,
   "metadata": {},
   "outputs": [
    {
     "name": "stdout",
     "output_type": "stream",
     "text": [
      "SAVE\n",
      "Computing Time: 0 sec\n"
     ]
    }
   ],
   "source": [
    "print('SAVE')\n",
    "start = timer()\n",
    "\n",
    "clusters.to_pickle(\"../data/clusters-cdmx-partitioned.pkl\")\n",
    "\n",
    "end = timer()\n",
    "print('Computing Time:', round(end - start), 'sec')"
   ]
  }
 ],
 "metadata": {
  "kernelspec": {
   "display_name": "Python 3",
   "language": "python",
   "name": "python3"
  },
  "language_info": {
   "codemirror_mode": {
    "name": "ipython",
    "version": 3
   },
   "file_extension": ".py",
   "mimetype": "text/x-python",
   "name": "python",
   "nbconvert_exporter": "python",
   "pygments_lexer": "ipython3",
   "version": "3.7.3"
  }
 },
 "nbformat": 4,
 "nbformat_minor": 2
}
